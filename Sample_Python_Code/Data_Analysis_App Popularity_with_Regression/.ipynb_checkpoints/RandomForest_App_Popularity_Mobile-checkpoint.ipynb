{
 "cells": [
  {
   "cell_type": "markdown",
   "id": "107f1912",
   "metadata": {},
   "source": [
    "# Predict App Popularity"
   ]
  },
  {
   "cell_type": "markdown",
   "id": "8472634b",
   "metadata": {},
   "source": [
    "Objective: \n",
    "- 1. Determine how different features are related to the app popularity\n",
    "- 2. Explain how different features affect the decision\n",
    "- 2. Output: app_id/popularity(High or Low)\n",
    "\n",
    "Files:\n",
    "- X_le.csv  - data with label encode\n",
    "- X_ohe.csv - data with one hot encode\n",
    "- y.csv    - label where 1 = high popularity, and 0 = low popularity "
   ]
  },
  {
   "cell_type": "code",
   "execution_count": 1,
   "id": "fdb3ddc1",
   "metadata": {},
   "outputs": [],
   "source": [
    "## import needed libraries/packages\n",
    "import math\n",
    "import pandas as pd\n",
    "import numpy as np\n",
    "import matplotlib.pyplot as plt\n",
    "import seaborn as sns\n",
    "from scipy.stats import kurtosis, skew\n",
    "from IPython.display import display"
   ]
  },
  {
   "cell_type": "code",
   "execution_count": 79,
   "id": "e741641b",
   "metadata": {},
   "outputs": [],
   "source": [
    "import sklearn\n",
    "from sklearn.preprocessing import OneHotEncoder, LabelEncoder, StandardScaler\n",
    "from sklearn.compose import make_column_transformer, ColumnTransformer\n",
    "from sklearn.pipeline import make_pipeline, Pipeline\n",
    "from sklearn.ensemble import RandomForestClassifier\n",
    "from sklearn.model_selection import train_test_split, GridSearchCV\n",
    "from sklearn.metrics import accuracy_score, confusion_matrix, mean_squared_error"
   ]
  },
  {
   "cell_type": "code",
   "execution_count": 3,
   "id": "d948f08c",
   "metadata": {},
   "outputs": [
    {
     "name": "stdout",
     "output_type": "stream",
     "text": [
      "0.24.2\n"
     ]
    }
   ],
   "source": [
    "## display sklearn version\n",
    "print(sklearn.__version__)"
   ]
  },
  {
   "cell_type": "markdown",
   "id": "25f69269",
   "metadata": {},
   "source": [
    "## Modeling (sklearn) - RandomForestClassifier"
   ]
  },
  {
   "cell_type": "markdown",
   "id": "4f8a566b",
   "metadata": {},
   "source": [
    "### One Hot Encoded Data"
   ]
  },
  {
   "cell_type": "code",
   "execution_count": 4,
   "id": "d54e3424",
   "metadata": {},
   "outputs": [],
   "source": [
    "X_ohe = pd.read_csv('X_ohe.csv')"
   ]
  },
  {
   "cell_type": "code",
   "execution_count": 5,
   "id": "b103e42e",
   "metadata": {},
   "outputs": [],
   "source": [
    "y = pd.read_csv('y.csv')\n",
    "y = y.squeeze()"
   ]
  },
  {
   "cell_type": "code",
   "execution_count": 6,
   "id": "82152c84",
   "metadata": {},
   "outputs": [],
   "source": [
    "## Create training and test splits\n",
    "X_train1, X_test1, y_train1, y_test1 = train_test_split(X_ohe, y, test_size = 0.3, random_state = 101, stratify = y)"
   ]
  },
  {
   "cell_type": "code",
   "execution_count": 7,
   "id": "9aca38e9",
   "metadata": {
    "scrolled": true
   },
   "outputs": [
    {
     "data": {
      "text/html": [
       "<div>\n",
       "<style scoped>\n",
       "    .dataframe tbody tr th:only-of-type {\n",
       "        vertical-align: middle;\n",
       "    }\n",
       "\n",
       "    .dataframe tbody tr th {\n",
       "        vertical-align: top;\n",
       "    }\n",
       "\n",
       "    .dataframe thead th {\n",
       "        text-align: right;\n",
       "    }\n",
       "</style>\n",
       "<table border=\"1\" class=\"dataframe\">\n",
       "  <thead>\n",
       "    <tr style=\"text-align: right;\">\n",
       "      <th></th>\n",
       "      <th>reviews</th>\n",
       "      <th>review_c</th>\n",
       "      <th>review_log</th>\n",
       "      <th>installs_num</th>\n",
       "      <th>price_num</th>\n",
       "      <th>price_b</th>\n",
       "      <th>size_num</th>\n",
       "      <th>last_update_year</th>\n",
       "      <th>latest_ver_h</th>\n",
       "      <th>x0_Everyone</th>\n",
       "      <th>...</th>\n",
       "      <th>x0_Mature 17+</th>\n",
       "      <th>x0_Teen</th>\n",
       "      <th>x1_FAMILY</th>\n",
       "      <th>x1_FINANCE</th>\n",
       "      <th>x1_GAME</th>\n",
       "      <th>x1_HEALTH_AND_FITNESS</th>\n",
       "      <th>x1_LIFESTYLE</th>\n",
       "      <th>x1_MEDICAL</th>\n",
       "      <th>x1_OTHER</th>\n",
       "      <th>x1_TOOLS</th>\n",
       "    </tr>\n",
       "  </thead>\n",
       "  <tbody>\n",
       "    <tr>\n",
       "      <th>460</th>\n",
       "      <td>8</td>\n",
       "      <td>0</td>\n",
       "      <td>3.000000</td>\n",
       "      <td>1000</td>\n",
       "      <td>0.0</td>\n",
       "      <td>0</td>\n",
       "      <td>31000000</td>\n",
       "      <td>2018</td>\n",
       "      <td>1</td>\n",
       "      <td>1</td>\n",
       "      <td>...</td>\n",
       "      <td>0</td>\n",
       "      <td>0</td>\n",
       "      <td>0</td>\n",
       "      <td>1</td>\n",
       "      <td>0</td>\n",
       "      <td>0</td>\n",
       "      <td>0</td>\n",
       "      <td>0</td>\n",
       "      <td>0</td>\n",
       "      <td>0</td>\n",
       "    </tr>\n",
       "    <tr>\n",
       "      <th>248</th>\n",
       "      <td>308234</td>\n",
       "      <td>1000</td>\n",
       "      <td>18.233666</td>\n",
       "      <td>10000000</td>\n",
       "      <td>0.0</td>\n",
       "      <td>0</td>\n",
       "      <td>38000000</td>\n",
       "      <td>2018</td>\n",
       "      <td>5</td>\n",
       "      <td>1</td>\n",
       "      <td>...</td>\n",
       "      <td>0</td>\n",
       "      <td>0</td>\n",
       "      <td>0</td>\n",
       "      <td>0</td>\n",
       "      <td>0</td>\n",
       "      <td>0</td>\n",
       "      <td>0</td>\n",
       "      <td>0</td>\n",
       "      <td>1</td>\n",
       "      <td>0</td>\n",
       "    </tr>\n",
       "    <tr>\n",
       "      <th>1192</th>\n",
       "      <td>961</td>\n",
       "      <td>10</td>\n",
       "      <td>9.908393</td>\n",
       "      <td>100000</td>\n",
       "      <td>0.0</td>\n",
       "      <td>0</td>\n",
       "      <td>1300000</td>\n",
       "      <td>2018</td>\n",
       "      <td>1</td>\n",
       "      <td>1</td>\n",
       "      <td>...</td>\n",
       "      <td>0</td>\n",
       "      <td>0</td>\n",
       "      <td>0</td>\n",
       "      <td>0</td>\n",
       "      <td>0</td>\n",
       "      <td>1</td>\n",
       "      <td>0</td>\n",
       "      <td>0</td>\n",
       "      <td>0</td>\n",
       "      <td>0</td>\n",
       "    </tr>\n",
       "    <tr>\n",
       "      <th>298</th>\n",
       "      <td>1</td>\n",
       "      <td>0</td>\n",
       "      <td>0.000000</td>\n",
       "      <td>100</td>\n",
       "      <td>0.0</td>\n",
       "      <td>0</td>\n",
       "      <td>2300000</td>\n",
       "      <td>2017</td>\n",
       "      <td>1</td>\n",
       "      <td>1</td>\n",
       "      <td>...</td>\n",
       "      <td>0</td>\n",
       "      <td>0</td>\n",
       "      <td>0</td>\n",
       "      <td>0</td>\n",
       "      <td>0</td>\n",
       "      <td>0</td>\n",
       "      <td>0</td>\n",
       "      <td>0</td>\n",
       "      <td>1</td>\n",
       "      <td>0</td>\n",
       "    </tr>\n",
       "    <tr>\n",
       "      <th>574</th>\n",
       "      <td>395</td>\n",
       "      <td>10</td>\n",
       "      <td>8.625709</td>\n",
       "      <td>100000</td>\n",
       "      <td>0.0</td>\n",
       "      <td>0</td>\n",
       "      <td>2600000</td>\n",
       "      <td>2018</td>\n",
       "      <td>4</td>\n",
       "      <td>1</td>\n",
       "      <td>...</td>\n",
       "      <td>0</td>\n",
       "      <td>0</td>\n",
       "      <td>0</td>\n",
       "      <td>0</td>\n",
       "      <td>0</td>\n",
       "      <td>0</td>\n",
       "      <td>0</td>\n",
       "      <td>0</td>\n",
       "      <td>0</td>\n",
       "      <td>1</td>\n",
       "    </tr>\n",
       "  </tbody>\n",
       "</table>\n",
       "<p>5 rows × 21 columns</p>\n",
       "</div>"
      ],
      "text/plain": [
       "      reviews  review_c  review_log  installs_num  price_num  price_b  \\\n",
       "460         8         0    3.000000          1000        0.0        0   \n",
       "248    308234      1000   18.233666      10000000        0.0        0   \n",
       "1192      961        10    9.908393        100000        0.0        0   \n",
       "298         1         0    0.000000           100        0.0        0   \n",
       "574       395        10    8.625709        100000        0.0        0   \n",
       "\n",
       "      size_num  last_update_year  latest_ver_h  x0_Everyone  ...  \\\n",
       "460   31000000              2018             1            1  ...   \n",
       "248   38000000              2018             5            1  ...   \n",
       "1192   1300000              2018             1            1  ...   \n",
       "298    2300000              2017             1            1  ...   \n",
       "574    2600000              2018             4            1  ...   \n",
       "\n",
       "      x0_Mature 17+  x0_Teen  x1_FAMILY  x1_FINANCE  x1_GAME  \\\n",
       "460               0        0          0           1        0   \n",
       "248               0        0          0           0        0   \n",
       "1192              0        0          0           0        0   \n",
       "298               0        0          0           0        0   \n",
       "574               0        0          0           0        0   \n",
       "\n",
       "      x1_HEALTH_AND_FITNESS  x1_LIFESTYLE  x1_MEDICAL  x1_OTHER  x1_TOOLS  \n",
       "460                       0             0           0         0         0  \n",
       "248                       0             0           0         1         0  \n",
       "1192                      1             0           0         0         0  \n",
       "298                       0             0           0         1         0  \n",
       "574                       0             0           0         0         1  \n",
       "\n",
       "[5 rows x 21 columns]"
      ]
     },
     "execution_count": 7,
     "metadata": {},
     "output_type": "execute_result"
    }
   ],
   "source": [
    "X_train1.head()"
   ]
  },
  {
   "cell_type": "code",
   "execution_count": 8,
   "id": "87525f8d",
   "metadata": {
    "scrolled": true
   },
   "outputs": [
    {
     "data": {
      "text/html": [
       "<div>\n",
       "<style scoped>\n",
       "    .dataframe tbody tr th:only-of-type {\n",
       "        vertical-align: middle;\n",
       "    }\n",
       "\n",
       "    .dataframe tbody tr th {\n",
       "        vertical-align: top;\n",
       "    }\n",
       "\n",
       "    .dataframe thead th {\n",
       "        text-align: right;\n",
       "    }\n",
       "</style>\n",
       "<table border=\"1\" class=\"dataframe\">\n",
       "  <thead>\n",
       "    <tr style=\"text-align: right;\">\n",
       "      <th></th>\n",
       "      <th>reviews</th>\n",
       "      <th>review_c</th>\n",
       "      <th>review_log</th>\n",
       "      <th>installs_num</th>\n",
       "      <th>price_num</th>\n",
       "      <th>price_b</th>\n",
       "      <th>size_num</th>\n",
       "      <th>last_update_year</th>\n",
       "      <th>latest_ver_h</th>\n",
       "      <th>x0_Everyone</th>\n",
       "      <th>...</th>\n",
       "      <th>x0_Mature 17+</th>\n",
       "      <th>x0_Teen</th>\n",
       "      <th>x1_FAMILY</th>\n",
       "      <th>x1_FINANCE</th>\n",
       "      <th>x1_GAME</th>\n",
       "      <th>x1_HEALTH_AND_FITNESS</th>\n",
       "      <th>x1_LIFESTYLE</th>\n",
       "      <th>x1_MEDICAL</th>\n",
       "      <th>x1_OTHER</th>\n",
       "      <th>x1_TOOLS</th>\n",
       "    </tr>\n",
       "  </thead>\n",
       "  <tbody>\n",
       "    <tr>\n",
       "      <th>183</th>\n",
       "      <td>227401</td>\n",
       "      <td>1000</td>\n",
       "      <td>17.794879</td>\n",
       "      <td>5000000</td>\n",
       "      <td>0.0</td>\n",
       "      <td>0</td>\n",
       "      <td>91000000</td>\n",
       "      <td>2018</td>\n",
       "      <td>1</td>\n",
       "      <td>1</td>\n",
       "      <td>...</td>\n",
       "      <td>0</td>\n",
       "      <td>0</td>\n",
       "      <td>1</td>\n",
       "      <td>0</td>\n",
       "      <td>0</td>\n",
       "      <td>0</td>\n",
       "      <td>0</td>\n",
       "      <td>0</td>\n",
       "      <td>0</td>\n",
       "      <td>0</td>\n",
       "    </tr>\n",
       "    <tr>\n",
       "      <th>1204</th>\n",
       "      <td>23</td>\n",
       "      <td>0</td>\n",
       "      <td>4.523562</td>\n",
       "      <td>10000</td>\n",
       "      <td>0.0</td>\n",
       "      <td>0</td>\n",
       "      <td>17000000</td>\n",
       "      <td>2016</td>\n",
       "      <td>1</td>\n",
       "      <td>1</td>\n",
       "      <td>...</td>\n",
       "      <td>0</td>\n",
       "      <td>0</td>\n",
       "      <td>1</td>\n",
       "      <td>0</td>\n",
       "      <td>0</td>\n",
       "      <td>0</td>\n",
       "      <td>0</td>\n",
       "      <td>0</td>\n",
       "      <td>0</td>\n",
       "      <td>0</td>\n",
       "    </tr>\n",
       "    <tr>\n",
       "      <th>877</th>\n",
       "      <td>70</td>\n",
       "      <td>0</td>\n",
       "      <td>6.129283</td>\n",
       "      <td>1000</td>\n",
       "      <td>0.0</td>\n",
       "      <td>0</td>\n",
       "      <td>3200000</td>\n",
       "      <td>2018</td>\n",
       "      <td>1</td>\n",
       "      <td>1</td>\n",
       "      <td>...</td>\n",
       "      <td>0</td>\n",
       "      <td>0</td>\n",
       "      <td>0</td>\n",
       "      <td>0</td>\n",
       "      <td>0</td>\n",
       "      <td>0</td>\n",
       "      <td>0</td>\n",
       "      <td>0</td>\n",
       "      <td>0</td>\n",
       "      <td>1</td>\n",
       "    </tr>\n",
       "    <tr>\n",
       "      <th>1948</th>\n",
       "      <td>304</td>\n",
       "      <td>10</td>\n",
       "      <td>8.247928</td>\n",
       "      <td>10000</td>\n",
       "      <td>0.0</td>\n",
       "      <td>0</td>\n",
       "      <td>4700000</td>\n",
       "      <td>2018</td>\n",
       "      <td>1</td>\n",
       "      <td>0</td>\n",
       "      <td>...</td>\n",
       "      <td>0</td>\n",
       "      <td>1</td>\n",
       "      <td>1</td>\n",
       "      <td>0</td>\n",
       "      <td>0</td>\n",
       "      <td>0</td>\n",
       "      <td>0</td>\n",
       "      <td>0</td>\n",
       "      <td>0</td>\n",
       "      <td>0</td>\n",
       "    </tr>\n",
       "    <tr>\n",
       "      <th>218</th>\n",
       "      <td>1312936</td>\n",
       "      <td>50000</td>\n",
       "      <td>20.324365</td>\n",
       "      <td>10000000</td>\n",
       "      <td>0.0</td>\n",
       "      <td>0</td>\n",
       "      <td>21000000</td>\n",
       "      <td>2018</td>\n",
       "      <td>3</td>\n",
       "      <td>1</td>\n",
       "      <td>...</td>\n",
       "      <td>0</td>\n",
       "      <td>0</td>\n",
       "      <td>0</td>\n",
       "      <td>0</td>\n",
       "      <td>0</td>\n",
       "      <td>0</td>\n",
       "      <td>0</td>\n",
       "      <td>0</td>\n",
       "      <td>1</td>\n",
       "      <td>0</td>\n",
       "    </tr>\n",
       "  </tbody>\n",
       "</table>\n",
       "<p>5 rows × 21 columns</p>\n",
       "</div>"
      ],
      "text/plain": [
       "      reviews  review_c  review_log  installs_num  price_num  price_b  \\\n",
       "183    227401      1000   17.794879       5000000        0.0        0   \n",
       "1204       23         0    4.523562         10000        0.0        0   \n",
       "877        70         0    6.129283          1000        0.0        0   \n",
       "1948      304        10    8.247928         10000        0.0        0   \n",
       "218   1312936     50000   20.324365      10000000        0.0        0   \n",
       "\n",
       "      size_num  last_update_year  latest_ver_h  x0_Everyone  ...  \\\n",
       "183   91000000              2018             1            1  ...   \n",
       "1204  17000000              2016             1            1  ...   \n",
       "877    3200000              2018             1            1  ...   \n",
       "1948   4700000              2018             1            0  ...   \n",
       "218   21000000              2018             3            1  ...   \n",
       "\n",
       "      x0_Mature 17+  x0_Teen  x1_FAMILY  x1_FINANCE  x1_GAME  \\\n",
       "183               0        0          1           0        0   \n",
       "1204              0        0          1           0        0   \n",
       "877               0        0          0           0        0   \n",
       "1948              0        1          1           0        0   \n",
       "218               0        0          0           0        0   \n",
       "\n",
       "      x1_HEALTH_AND_FITNESS  x1_LIFESTYLE  x1_MEDICAL  x1_OTHER  x1_TOOLS  \n",
       "183                       0             0           0         0         0  \n",
       "1204                      0             0           0         0         0  \n",
       "877                       0             0           0         0         1  \n",
       "1948                      0             0           0         0         0  \n",
       "218                       0             0           0         1         0  \n",
       "\n",
       "[5 rows x 21 columns]"
      ]
     },
     "execution_count": 8,
     "metadata": {},
     "output_type": "execute_result"
    }
   ],
   "source": [
    "X_test1.head()"
   ]
  },
  {
   "cell_type": "markdown",
   "id": "38cea414",
   "metadata": {},
   "source": [
    "#### Tuning RandomForest Model with Grid Search"
   ]
  },
  {
   "cell_type": "markdown",
   "id": "ae53277c",
   "metadata": {},
   "source": [
    "- With One Hot Encoded data\n",
    "- Best 'max_features': 5\n",
    "- Best 'n_estimators': 100"
   ]
  },
  {
   "cell_type": "code",
   "execution_count": 9,
   "id": "a10418ee",
   "metadata": {},
   "outputs": [],
   "source": [
    "rf = RandomForestClassifier(criterion = 'entropy',\n",
    "                            random_state = 99,\n",
    "                            bootstrap = True)"
   ]
  },
  {
   "cell_type": "code",
   "execution_count": 10,
   "id": "1f5014b3",
   "metadata": {},
   "outputs": [],
   "source": [
    "param_grid = {\n",
    "    'n_estimators': [50, 75, 100, 125, 150, 175, 200],\n",
    "    'max_features': [4, 6, 8, 10],\n",
    "}"
   ]
  },
  {
   "cell_type": "code",
   "execution_count": 11,
   "id": "d0331b5a",
   "metadata": {},
   "outputs": [],
   "source": [
    "gs1 = GridSearchCV(rf, param_grid, cv = 3)"
   ]
  },
  {
   "cell_type": "code",
   "execution_count": 12,
   "id": "9a954404",
   "metadata": {},
   "outputs": [
    {
     "name": "stdout",
     "output_type": "stream",
     "text": [
      "best params: {'max_features': 10, 'n_estimators': 125}\n"
     ]
    }
   ],
   "source": [
    "gs1.fit(X_train1, y_train1)\n",
    "print(\"best params:\", gs1.best_params_)"
   ]
  },
  {
   "cell_type": "code",
   "execution_count": 13,
   "id": "974bbe69",
   "metadata": {},
   "outputs": [],
   "source": [
    "gs2 = GridSearchCV(rf, param_grid, cv = 4)"
   ]
  },
  {
   "cell_type": "code",
   "execution_count": 14,
   "id": "f7bed68e",
   "metadata": {},
   "outputs": [
    {
     "name": "stdout",
     "output_type": "stream",
     "text": [
      "best params: {'max_features': 4, 'n_estimators': 75}\n"
     ]
    }
   ],
   "source": [
    "gs2.fit(X_train1, y_train1)\n",
    "print(\"best params:\", gs2.best_params_)"
   ]
  },
  {
   "cell_type": "code",
   "execution_count": 15,
   "id": "7b3dc9b6",
   "metadata": {},
   "outputs": [],
   "source": [
    "gs3 = GridSearchCV(rf, param_grid, cv = 5)"
   ]
  },
  {
   "cell_type": "code",
   "execution_count": 16,
   "id": "4c9bed82",
   "metadata": {},
   "outputs": [
    {
     "name": "stdout",
     "output_type": "stream",
     "text": [
      "best params: {'max_features': 10, 'n_estimators': 200}\n"
     ]
    }
   ],
   "source": [
    "gs3.fit(X_train1, y_train1)\n",
    "print(\"best params:\", gs3.best_params_)"
   ]
  },
  {
   "cell_type": "markdown",
   "id": "25e13346",
   "metadata": {},
   "source": [
    "#### Basic RandomForest Model "
   ]
  },
  {
   "cell_type": "code",
   "execution_count": 17,
   "id": "99859cb6",
   "metadata": {},
   "outputs": [],
   "source": [
    "rf1 = RandomForestClassifier(criterion = 'entropy',\n",
    "                             n_estimators = 125,\n",
    "                             max_features = 10, \n",
    "                             random_state = 99,\n",
    "                             bootstrap = True)"
   ]
  },
  {
   "cell_type": "code",
   "execution_count": 18,
   "id": "b001fa85",
   "metadata": {
    "scrolled": true
   },
   "outputs": [
    {
     "data": {
      "text/plain": [
       "RandomForestClassifier(criterion='entropy', max_features=10, n_estimators=125,\n",
       "                       random_state=99)"
      ]
     },
     "execution_count": 18,
     "metadata": {},
     "output_type": "execute_result"
    }
   ],
   "source": [
    "rf1.fit(X_train1, y_train1)"
   ]
  },
  {
   "cell_type": "code",
   "execution_count": 19,
   "id": "f77f1ce6",
   "metadata": {},
   "outputs": [],
   "source": [
    "y_pred1 = rf1.predict(X_test1)"
   ]
  },
  {
   "cell_type": "code",
   "execution_count": 20,
   "id": "dcd034bc",
   "metadata": {},
   "outputs": [
    {
     "name": "stdout",
     "output_type": "stream",
     "text": [
      "The accuracy of the model is 73.0 %\n"
     ]
    }
   ],
   "source": [
    "print(f\"The accuracy of the model is {round(accuracy_score(y_test1, y_pred1),3)*100} %\")"
   ]
  },
  {
   "cell_type": "code",
   "execution_count": 21,
   "id": "34498b1a",
   "metadata": {},
   "outputs": [
    {
     "data": {
      "text/plain": [
       "array([[370,  53],\n",
       "       [107,  63]], dtype=int64)"
      ]
     },
     "execution_count": 21,
     "metadata": {},
     "output_type": "execute_result"
    }
   ],
   "source": [
    "confusion_matrix(y_test1, y_pred1, labels = [1, 0])"
   ]
  },
  {
   "cell_type": "code",
   "execution_count": 22,
   "id": "a6314cbc",
   "metadata": {},
   "outputs": [
    {
     "data": {
      "text/plain": [
       "1    423\n",
       "0    170\n",
       "Name: popularity_b, dtype: int64"
      ]
     },
     "execution_count": 22,
     "metadata": {},
     "output_type": "execute_result"
    }
   ],
   "source": [
    "y_test1.value_counts()"
   ]
  },
  {
   "cell_type": "code",
   "execution_count": 23,
   "id": "9059abc1",
   "metadata": {},
   "outputs": [
    {
     "data": {
      "text/plain": [
       "1    477\n",
       "0    116\n",
       "dtype: int64"
      ]
     },
     "execution_count": 23,
     "metadata": {},
     "output_type": "execute_result"
    }
   ],
   "source": [
    "y_pred1 = pd.DataFrame(y_pred1)\n",
    "y_pred1.value_counts()"
   ]
  },
  {
   "cell_type": "markdown",
   "id": "91be10ce",
   "metadata": {},
   "source": [
    "#### Check Variable Importance"
   ]
  },
  {
   "cell_type": "code",
   "execution_count": 24,
   "id": "44941c64",
   "metadata": {},
   "outputs": [
    {
     "name": "stdout",
     "output_type": "stream",
     "text": [
      "reviews                  0.194002\n",
      "review_log               0.190796\n",
      "size_num                 0.184052\n",
      "installs_num             0.112889\n",
      "latest_ver_h             0.073851\n",
      "last_update_year         0.051488\n",
      "x1_OTHER                 0.024811\n",
      "price_num                0.022653\n",
      "x1_FAMILY                0.021813\n",
      "review_c                 0.017129\n",
      "x0_Everyone              0.014919\n",
      "x1_TOOLS                 0.014181\n",
      "x1_LIFESTYLE             0.012259\n",
      "x1_MEDICAL               0.009928\n",
      "x0_Teen                  0.009865\n",
      "x1_FINANCE               0.009214\n",
      "x1_GAME                  0.009159\n",
      "price_b                  0.008950\n",
      "x1_HEALTH_AND_FITNESS    0.007255\n",
      "x0_Mature 17+            0.006407\n",
      "x0_Everyone 10+          0.004379\n",
      "dtype: float64\n"
     ]
    }
   ],
   "source": [
    "# rf.feature_importances_\n",
    "ft_imp1 = pd.Series(rf1.feature_importances_, \n",
    "                    index = X_train1.columns).sort_values(ascending=False)\n",
    "print(ft_imp1.head(25))"
   ]
  },
  {
   "cell_type": "code",
   "execution_count": null,
   "id": "7900efad",
   "metadata": {},
   "outputs": [],
   "source": []
  },
  {
   "cell_type": "markdown",
   "id": "7d8cbde8",
   "metadata": {},
   "source": [
    "### Label Encode Data"
   ]
  },
  {
   "cell_type": "code",
   "execution_count": 25,
   "id": "4ccbc64f",
   "metadata": {},
   "outputs": [],
   "source": [
    "X_le = pd.read_csv('X_le.csv')"
   ]
  },
  {
   "cell_type": "code",
   "execution_count": 26,
   "id": "6343b77e",
   "metadata": {},
   "outputs": [],
   "source": [
    "## Create training and test splits\n",
    "X_train2, X_test2, y_train2, y_test2 = train_test_split(X_le, y, test_size = 0.3, random_state = 101, stratify = y)"
   ]
  },
  {
   "cell_type": "code",
   "execution_count": 27,
   "id": "dcad33c8",
   "metadata": {},
   "outputs": [
    {
     "data": {
      "text/html": [
       "<div>\n",
       "<style scoped>\n",
       "    .dataframe tbody tr th:only-of-type {\n",
       "        vertical-align: middle;\n",
       "    }\n",
       "\n",
       "    .dataframe tbody tr th {\n",
       "        vertical-align: top;\n",
       "    }\n",
       "\n",
       "    .dataframe thead th {\n",
       "        text-align: right;\n",
       "    }\n",
       "</style>\n",
       "<table border=\"1\" class=\"dataframe\">\n",
       "  <thead>\n",
       "    <tr style=\"text-align: right;\">\n",
       "      <th></th>\n",
       "      <th>reviews</th>\n",
       "      <th>review_c</th>\n",
       "      <th>review_log</th>\n",
       "      <th>installs_num</th>\n",
       "      <th>price_num</th>\n",
       "      <th>price_b</th>\n",
       "      <th>size_num</th>\n",
       "      <th>last_update_year</th>\n",
       "      <th>latest_ver_h</th>\n",
       "      <th>suitable_for</th>\n",
       "      <th>category_b</th>\n",
       "    </tr>\n",
       "  </thead>\n",
       "  <tbody>\n",
       "    <tr>\n",
       "      <th>460</th>\n",
       "      <td>8</td>\n",
       "      <td>0</td>\n",
       "      <td>3.000000</td>\n",
       "      <td>1000</td>\n",
       "      <td>0.0</td>\n",
       "      <td>0</td>\n",
       "      <td>31000000</td>\n",
       "      <td>2018</td>\n",
       "      <td>1</td>\n",
       "      <td>0</td>\n",
       "      <td>1</td>\n",
       "    </tr>\n",
       "    <tr>\n",
       "      <th>248</th>\n",
       "      <td>308234</td>\n",
       "      <td>1000</td>\n",
       "      <td>18.233666</td>\n",
       "      <td>10000000</td>\n",
       "      <td>0.0</td>\n",
       "      <td>0</td>\n",
       "      <td>38000000</td>\n",
       "      <td>2018</td>\n",
       "      <td>5</td>\n",
       "      <td>0</td>\n",
       "      <td>6</td>\n",
       "    </tr>\n",
       "    <tr>\n",
       "      <th>1192</th>\n",
       "      <td>961</td>\n",
       "      <td>10</td>\n",
       "      <td>9.908393</td>\n",
       "      <td>100000</td>\n",
       "      <td>0.0</td>\n",
       "      <td>0</td>\n",
       "      <td>1300000</td>\n",
       "      <td>2018</td>\n",
       "      <td>1</td>\n",
       "      <td>0</td>\n",
       "      <td>3</td>\n",
       "    </tr>\n",
       "    <tr>\n",
       "      <th>298</th>\n",
       "      <td>1</td>\n",
       "      <td>0</td>\n",
       "      <td>0.000000</td>\n",
       "      <td>100</td>\n",
       "      <td>0.0</td>\n",
       "      <td>0</td>\n",
       "      <td>2300000</td>\n",
       "      <td>2017</td>\n",
       "      <td>1</td>\n",
       "      <td>0</td>\n",
       "      <td>6</td>\n",
       "    </tr>\n",
       "    <tr>\n",
       "      <th>574</th>\n",
       "      <td>395</td>\n",
       "      <td>10</td>\n",
       "      <td>8.625709</td>\n",
       "      <td>100000</td>\n",
       "      <td>0.0</td>\n",
       "      <td>0</td>\n",
       "      <td>2600000</td>\n",
       "      <td>2018</td>\n",
       "      <td>4</td>\n",
       "      <td>0</td>\n",
       "      <td>7</td>\n",
       "    </tr>\n",
       "  </tbody>\n",
       "</table>\n",
       "</div>"
      ],
      "text/plain": [
       "      reviews  review_c  review_log  installs_num  price_num  price_b  \\\n",
       "460         8         0    3.000000          1000        0.0        0   \n",
       "248    308234      1000   18.233666      10000000        0.0        0   \n",
       "1192      961        10    9.908393        100000        0.0        0   \n",
       "298         1         0    0.000000           100        0.0        0   \n",
       "574       395        10    8.625709        100000        0.0        0   \n",
       "\n",
       "      size_num  last_update_year  latest_ver_h  suitable_for  category_b  \n",
       "460   31000000              2018             1             0           1  \n",
       "248   38000000              2018             5             0           6  \n",
       "1192   1300000              2018             1             0           3  \n",
       "298    2300000              2017             1             0           6  \n",
       "574    2600000              2018             4             0           7  "
      ]
     },
     "execution_count": 27,
     "metadata": {},
     "output_type": "execute_result"
    }
   ],
   "source": [
    "X_train2.head()"
   ]
  },
  {
   "cell_type": "code",
   "execution_count": 28,
   "id": "53c33e70",
   "metadata": {},
   "outputs": [
    {
     "data": {
      "text/html": [
       "<div>\n",
       "<style scoped>\n",
       "    .dataframe tbody tr th:only-of-type {\n",
       "        vertical-align: middle;\n",
       "    }\n",
       "\n",
       "    .dataframe tbody tr th {\n",
       "        vertical-align: top;\n",
       "    }\n",
       "\n",
       "    .dataframe thead th {\n",
       "        text-align: right;\n",
       "    }\n",
       "</style>\n",
       "<table border=\"1\" class=\"dataframe\">\n",
       "  <thead>\n",
       "    <tr style=\"text-align: right;\">\n",
       "      <th></th>\n",
       "      <th>reviews</th>\n",
       "      <th>review_c</th>\n",
       "      <th>review_log</th>\n",
       "      <th>installs_num</th>\n",
       "      <th>price_num</th>\n",
       "      <th>price_b</th>\n",
       "      <th>size_num</th>\n",
       "      <th>last_update_year</th>\n",
       "      <th>latest_ver_h</th>\n",
       "      <th>suitable_for</th>\n",
       "      <th>category_b</th>\n",
       "    </tr>\n",
       "  </thead>\n",
       "  <tbody>\n",
       "    <tr>\n",
       "      <th>183</th>\n",
       "      <td>227401</td>\n",
       "      <td>1000</td>\n",
       "      <td>17.794879</td>\n",
       "      <td>5000000</td>\n",
       "      <td>0.0</td>\n",
       "      <td>0</td>\n",
       "      <td>91000000</td>\n",
       "      <td>2018</td>\n",
       "      <td>1</td>\n",
       "      <td>0</td>\n",
       "      <td>0</td>\n",
       "    </tr>\n",
       "    <tr>\n",
       "      <th>1204</th>\n",
       "      <td>23</td>\n",
       "      <td>0</td>\n",
       "      <td>4.523562</td>\n",
       "      <td>10000</td>\n",
       "      <td>0.0</td>\n",
       "      <td>0</td>\n",
       "      <td>17000000</td>\n",
       "      <td>2016</td>\n",
       "      <td>1</td>\n",
       "      <td>0</td>\n",
       "      <td>0</td>\n",
       "    </tr>\n",
       "    <tr>\n",
       "      <th>877</th>\n",
       "      <td>70</td>\n",
       "      <td>0</td>\n",
       "      <td>6.129283</td>\n",
       "      <td>1000</td>\n",
       "      <td>0.0</td>\n",
       "      <td>0</td>\n",
       "      <td>3200000</td>\n",
       "      <td>2018</td>\n",
       "      <td>1</td>\n",
       "      <td>0</td>\n",
       "      <td>7</td>\n",
       "    </tr>\n",
       "    <tr>\n",
       "      <th>1948</th>\n",
       "      <td>304</td>\n",
       "      <td>10</td>\n",
       "      <td>8.247928</td>\n",
       "      <td>10000</td>\n",
       "      <td>0.0</td>\n",
       "      <td>0</td>\n",
       "      <td>4700000</td>\n",
       "      <td>2018</td>\n",
       "      <td>1</td>\n",
       "      <td>3</td>\n",
       "      <td>0</td>\n",
       "    </tr>\n",
       "    <tr>\n",
       "      <th>218</th>\n",
       "      <td>1312936</td>\n",
       "      <td>50000</td>\n",
       "      <td>20.324365</td>\n",
       "      <td>10000000</td>\n",
       "      <td>0.0</td>\n",
       "      <td>0</td>\n",
       "      <td>21000000</td>\n",
       "      <td>2018</td>\n",
       "      <td>3</td>\n",
       "      <td>0</td>\n",
       "      <td>6</td>\n",
       "    </tr>\n",
       "  </tbody>\n",
       "</table>\n",
       "</div>"
      ],
      "text/plain": [
       "      reviews  review_c  review_log  installs_num  price_num  price_b  \\\n",
       "183    227401      1000   17.794879       5000000        0.0        0   \n",
       "1204       23         0    4.523562         10000        0.0        0   \n",
       "877        70         0    6.129283          1000        0.0        0   \n",
       "1948      304        10    8.247928         10000        0.0        0   \n",
       "218   1312936     50000   20.324365      10000000        0.0        0   \n",
       "\n",
       "      size_num  last_update_year  latest_ver_h  suitable_for  category_b  \n",
       "183   91000000              2018             1             0           0  \n",
       "1204  17000000              2016             1             0           0  \n",
       "877    3200000              2018             1             0           7  \n",
       "1948   4700000              2018             1             3           0  \n",
       "218   21000000              2018             3             0           6  "
      ]
     },
     "execution_count": 28,
     "metadata": {},
     "output_type": "execute_result"
    }
   ],
   "source": [
    "X_test2.head()"
   ]
  },
  {
   "cell_type": "code",
   "execution_count": null,
   "id": "b6faf1f8",
   "metadata": {},
   "outputs": [],
   "source": []
  },
  {
   "cell_type": "code",
   "execution_count": null,
   "id": "f56fa8c7",
   "metadata": {},
   "outputs": [],
   "source": []
  },
  {
   "cell_type": "markdown",
   "id": "1401df86",
   "metadata": {},
   "source": [
    "#### Tuning RandomForest Model(Grid Search) with Encode(pipe)"
   ]
  },
  {
   "cell_type": "code",
   "execution_count": 29,
   "id": "dadae3ae",
   "metadata": {},
   "outputs": [],
   "source": [
    "features_to_encode = list(X_train2.columns)[-2:]\n",
    "feature_to_scale = list(X_train2.columns)[:-2]"
   ]
  },
  {
   "cell_type": "code",
   "execution_count": 30,
   "id": "e4ea7c4a",
   "metadata": {},
   "outputs": [],
   "source": [
    "transformer = ColumnTransformer(\n",
    "    transformers = [\n",
    "        (\"num\", StandardScaler(), feature_to_scale), \n",
    "        (\"cat\", OneHotEncoder(), features_to_encode)])"
   ]
  },
  {
   "cell_type": "code",
   "execution_count": 31,
   "id": "e24a925e",
   "metadata": {},
   "outputs": [],
   "source": [
    "rf = RandomForestClassifier(criterion = 'entropy',\n",
    "                            random_state = 99,\n",
    "                            bootstrap = True)"
   ]
  },
  {
   "cell_type": "code",
   "execution_count": 32,
   "id": "abebf32f",
   "metadata": {},
   "outputs": [],
   "source": [
    "rf_pipe1 = Pipeline(steps = [(\"prep\", transformer),\n",
    "                            (\"rf\", rf)])"
   ]
  },
  {
   "cell_type": "code",
   "execution_count": 33,
   "id": "93a507f1",
   "metadata": {},
   "outputs": [],
   "source": [
    "param_grid = {\n",
    "    'rf__n_estimators': [50, 75, 100, 125, 150, 175, 200],\n",
    "    'rf__max_features': [4, 6, 8, 10],\n",
    "}"
   ]
  },
  {
   "cell_type": "code",
   "execution_count": 34,
   "id": "7698a665",
   "metadata": {},
   "outputs": [],
   "source": [
    "gs_pipe1 = GridSearchCV(rf_pipe1, param_grid = param_grid, cv = 3)"
   ]
  },
  {
   "cell_type": "code",
   "execution_count": 35,
   "id": "e6ddfe81",
   "metadata": {
    "scrolled": true
   },
   "outputs": [
    {
     "data": {
      "text/plain": [
       "GridSearchCV(cv=3,\n",
       "             estimator=Pipeline(steps=[('prep',\n",
       "                                        ColumnTransformer(transformers=[('num',\n",
       "                                                                         StandardScaler(),\n",
       "                                                                         ['reviews',\n",
       "                                                                          'review_c',\n",
       "                                                                          'review_log',\n",
       "                                                                          'installs_num',\n",
       "                                                                          'price_num',\n",
       "                                                                          'price_b',\n",
       "                                                                          'size_num',\n",
       "                                                                          'last_update_year',\n",
       "                                                                          'latest_ver_h']),\n",
       "                                                                        ('cat',\n",
       "                                                                         OneHotEncoder(),\n",
       "                                                                         ['suitable_for',\n",
       "                                                                          'category_b'])])),\n",
       "                                       ('rf',\n",
       "                                        RandomForestClassifier(criterion='entropy',\n",
       "                                                               random_state=99))]),\n",
       "             param_grid={'rf__max_features': [4, 6, 8, 10],\n",
       "                         'rf__n_estimators': [50, 75, 100, 125, 150, 175, 200]})"
      ]
     },
     "execution_count": 35,
     "metadata": {},
     "output_type": "execute_result"
    }
   ],
   "source": [
    "gs_pipe1.fit(X_train2, y_train2)"
   ]
  },
  {
   "cell_type": "code",
   "execution_count": 36,
   "id": "cdc4b4c7",
   "metadata": {},
   "outputs": [
    {
     "data": {
      "text/plain": [
       "{'rf__max_features': 10, 'rf__n_estimators': 100}"
      ]
     },
     "execution_count": 36,
     "metadata": {},
     "output_type": "execute_result"
    }
   ],
   "source": [
    "gs_pipe1.best_params_"
   ]
  },
  {
   "cell_type": "code",
   "execution_count": 37,
   "id": "6d6c02f6",
   "metadata": {},
   "outputs": [],
   "source": [
    "y_pred2 = gs_pipe1.predict(X_test2)"
   ]
  },
  {
   "cell_type": "code",
   "execution_count": 38,
   "id": "f3189f79",
   "metadata": {},
   "outputs": [
    {
     "name": "stdout",
     "output_type": "stream",
     "text": [
      "The accuracy of the model is 74.0 %\n"
     ]
    }
   ],
   "source": [
    "print(f\"The accuracy of the model is {round(accuracy_score(y_test2, y_pred2),3)*100} %\")"
   ]
  },
  {
   "cell_type": "code",
   "execution_count": 39,
   "id": "8b469882",
   "metadata": {},
   "outputs": [
    {
     "data": {
      "text/plain": [
       "array([[371,  52],\n",
       "       [102,  68]], dtype=int64)"
      ]
     },
     "execution_count": 39,
     "metadata": {},
     "output_type": "execute_result"
    }
   ],
   "source": [
    "confusion_matrix(y_test2, y_pred2, labels = [1, 0])"
   ]
  },
  {
   "cell_type": "code",
   "execution_count": 40,
   "id": "2b894c5e",
   "metadata": {},
   "outputs": [
    {
     "data": {
      "text/plain": [
       "1    423\n",
       "0    170\n",
       "Name: popularity_b, dtype: int64"
      ]
     },
     "execution_count": 40,
     "metadata": {},
     "output_type": "execute_result"
    }
   ],
   "source": [
    "y_test2.value_counts()"
   ]
  },
  {
   "cell_type": "code",
   "execution_count": 41,
   "id": "430c9d12",
   "metadata": {},
   "outputs": [
    {
     "data": {
      "text/plain": [
       "1    473\n",
       "0    120\n",
       "dtype: int64"
      ]
     },
     "execution_count": 41,
     "metadata": {},
     "output_type": "execute_result"
    }
   ],
   "source": [
    "pd.DataFrame(y_pred2).value_counts()"
   ]
  },
  {
   "cell_type": "code",
   "execution_count": null,
   "id": "69af9918",
   "metadata": {},
   "outputs": [],
   "source": []
  },
  {
   "cell_type": "markdown",
   "id": "0a41519a",
   "metadata": {},
   "source": [
    "#### Basic RandomForest Model with Encode (pipeline) - Approach 1"
   ]
  },
  {
   "cell_type": "code",
   "execution_count": 42,
   "id": "631bab43",
   "metadata": {},
   "outputs": [],
   "source": [
    "# OneHotpipe = make_pipeline(OneHotEncoder(sparse = False, handle_unknown = 'ignore'))\n",
    "# OneHotpipe = make_pipeline(OneHotEncoder())\n",
    "# OneHotpipe = OneHotEncoder()"
   ]
  },
  {
   "cell_type": "code",
   "execution_count": 43,
   "id": "2a60ca49",
   "metadata": {},
   "outputs": [],
   "source": [
    "# transformer = ColumnTransformer(transformers=[(\"oh_encode\", OneHotpipe, features_to_encode)])\n",
    "transformer = ColumnTransformer(\n",
    "    transformers = [\n",
    "        (\"num\", StandardScaler(), feature_to_scale), \n",
    "        (\"cat\", OneHotEncoder(), features_to_encode)])"
   ]
  },
  {
   "cell_type": "code",
   "execution_count": 44,
   "id": "7bc8df44",
   "metadata": {},
   "outputs": [],
   "source": [
    "rf_pipe2 = Pipeline(steps = [(\"prep\", transformer),\n",
    "                            (\"rf\", rf)])"
   ]
  },
  {
   "cell_type": "code",
   "execution_count": 45,
   "id": "92a813b6",
   "metadata": {},
   "outputs": [
    {
     "data": {
      "text/plain": [
       "Pipeline(steps=[('prep',\n",
       "                 ColumnTransformer(transformers=[('num', StandardScaler(),\n",
       "                                                  ['reviews', 'review_c',\n",
       "                                                   'review_log', 'installs_num',\n",
       "                                                   'price_num', 'price_b',\n",
       "                                                   'size_num',\n",
       "                                                   'last_update_year',\n",
       "                                                   'latest_ver_h']),\n",
       "                                                 ('cat', OneHotEncoder(),\n",
       "                                                  ['suitable_for',\n",
       "                                                   'category_b'])])),\n",
       "                ('rf',\n",
       "                 RandomForestClassifier(criterion='entropy', random_state=99))])"
      ]
     },
     "execution_count": 45,
     "metadata": {},
     "output_type": "execute_result"
    }
   ],
   "source": [
    "rf_pipe2.fit(X_train2, y_train2)"
   ]
  },
  {
   "cell_type": "code",
   "execution_count": 46,
   "id": "fc71765c",
   "metadata": {},
   "outputs": [],
   "source": [
    "y_pred3 = rf_pipe2.predict(X_test2)"
   ]
  },
  {
   "cell_type": "code",
   "execution_count": 47,
   "id": "e13a46c5",
   "metadata": {},
   "outputs": [
    {
     "name": "stdout",
     "output_type": "stream",
     "text": [
      "The accuracy of the model is 73.5 %\n"
     ]
    }
   ],
   "source": [
    "print(f\"The accuracy of the model is {round(accuracy_score(y_test2, y_pred3),3)*100} %\")"
   ]
  },
  {
   "cell_type": "code",
   "execution_count": 48,
   "id": "217fd7fe",
   "metadata": {
    "scrolled": true
   },
   "outputs": [
    {
     "data": {
      "text/plain": [
       "array([[375,  48],\n",
       "       [109,  61]], dtype=int64)"
      ]
     },
     "execution_count": 48,
     "metadata": {},
     "output_type": "execute_result"
    }
   ],
   "source": [
    "confusion_matrix(y_test2, y_pred3, labels=[1, 0])"
   ]
  },
  {
   "cell_type": "code",
   "execution_count": 49,
   "id": "b7a82a70",
   "metadata": {},
   "outputs": [
    {
     "data": {
      "text/plain": [
       "1    423\n",
       "0    170\n",
       "Name: popularity_b, dtype: int64"
      ]
     },
     "execution_count": 49,
     "metadata": {},
     "output_type": "execute_result"
    }
   ],
   "source": [
    "y_test2.value_counts()"
   ]
  },
  {
   "cell_type": "code",
   "execution_count": 50,
   "id": "910cd7f1",
   "metadata": {},
   "outputs": [
    {
     "data": {
      "text/plain": [
       "1    484\n",
       "0    109\n",
       "dtype: int64"
      ]
     },
     "execution_count": 50,
     "metadata": {},
     "output_type": "execute_result"
    }
   ],
   "source": [
    "pd.DataFrame(y_pred3).value_counts()"
   ]
  },
  {
   "cell_type": "code",
   "execution_count": null,
   "id": "3625a1cd",
   "metadata": {},
   "outputs": [],
   "source": []
  },
  {
   "cell_type": "markdown",
   "id": "c3c168fe",
   "metadata": {},
   "source": [
    "#### Basic RandomForest Model with Encode (pipeline) - Approach 2"
   ]
  },
  {
   "cell_type": "code",
   "execution_count": 51,
   "id": "29cdf2c1",
   "metadata": {},
   "outputs": [],
   "source": [
    "## one-hot-encode categorical variables\n",
    "col_trans = make_column_transformer(\n",
    "                        (OneHotEncoder(handle_unknown = 'ignore'), features_to_encode),\n",
    "                        remainder = \"passthrough\")\n",
    "# col_trans"
   ]
  },
  {
   "cell_type": "code",
   "execution_count": 52,
   "id": "1c311f03",
   "metadata": {},
   "outputs": [
    {
     "data": {
      "text/plain": [
       "Pipeline(steps=[('columntransformer',\n",
       "                 ColumnTransformer(remainder='passthrough',\n",
       "                                   transformers=[('onehotencoder',\n",
       "                                                  OneHotEncoder(handle_unknown='ignore'),\n",
       "                                                  ['suitable_for',\n",
       "                                                   'category_b'])])),\n",
       "                ('randomforestclassifier',\n",
       "                 RandomForestClassifier(criterion='entropy', random_state=99))])"
      ]
     },
     "execution_count": 52,
     "metadata": {},
     "output_type": "execute_result"
    }
   ],
   "source": [
    "rf_pipe3 = make_pipeline(col_trans, rf)\n",
    "rf_pipe3.fit(X_train2, y_train2)"
   ]
  },
  {
   "cell_type": "code",
   "execution_count": 53,
   "id": "4e5e28b1",
   "metadata": {},
   "outputs": [],
   "source": [
    "y_pred4 = rf_pipe3.predict(X_test2)"
   ]
  },
  {
   "cell_type": "code",
   "execution_count": 54,
   "id": "9d6d6e2b",
   "metadata": {},
   "outputs": [
    {
     "name": "stdout",
     "output_type": "stream",
     "text": [
      "The accuracy of the model is 73.4 %\n"
     ]
    }
   ],
   "source": [
    "# print(f\"The accuracy of the model is {round(accuracy_score(y_test2,y_pred4),3)*100} %\")\n",
    "print(f\"The accuracy of the model is {round(rf_pipe3.score(X_test2, y_test2),3)*100} %\")"
   ]
  },
  {
   "cell_type": "code",
   "execution_count": 55,
   "id": "8f568a6e",
   "metadata": {},
   "outputs": [
    {
     "data": {
      "text/plain": [
       "array([[377,  46],\n",
       "       [112,  58]], dtype=int64)"
      ]
     },
     "execution_count": 55,
     "metadata": {},
     "output_type": "execute_result"
    }
   ],
   "source": [
    "confusion_matrix(y_test2, y_pred4, labels=[1, 0])"
   ]
  },
  {
   "cell_type": "code",
   "execution_count": 56,
   "id": "79337e60",
   "metadata": {},
   "outputs": [
    {
     "data": {
      "text/plain": [
       "1    423\n",
       "0    170\n",
       "Name: popularity_b, dtype: int64"
      ]
     },
     "execution_count": 56,
     "metadata": {},
     "output_type": "execute_result"
    }
   ],
   "source": [
    "y_test2.value_counts()"
   ]
  },
  {
   "cell_type": "code",
   "execution_count": 57,
   "id": "0524f4c6",
   "metadata": {
    "scrolled": true
   },
   "outputs": [
    {
     "data": {
      "text/plain": [
       "1    489\n",
       "0    104\n",
       "dtype: int64"
      ]
     },
     "execution_count": 57,
     "metadata": {},
     "output_type": "execute_result"
    }
   ],
   "source": [
    "y_pred4 = pd.DataFrame(y_pred4)\n",
    "y_pred4.value_counts()"
   ]
  },
  {
   "cell_type": "markdown",
   "id": "41f2a78c",
   "metadata": {},
   "source": [
    "#### Check Variable Importance"
   ]
  },
  {
   "cell_type": "code",
   "execution_count": 58,
   "id": "7629d2d0",
   "metadata": {},
   "outputs": [
    {
     "name": "stdout",
     "output_type": "stream",
     "text": [
      "12    0.195658\n",
      "14    0.182455\n",
      "18    0.172168\n",
      "15    0.110790\n",
      "20    0.077832\n",
      "19    0.058280\n",
      "13    0.031897\n",
      "10    0.022287\n",
      "16    0.021488\n",
      "4     0.019798\n",
      "0     0.012909\n",
      "11    0.012630\n",
      "6     0.011498\n",
      "8     0.011381\n",
      "3     0.010436\n",
      "9     0.010076\n",
      "17    0.009985\n",
      "5     0.008377\n",
      "7     0.007655\n",
      "2     0.007082\n",
      "dtype: float64\n"
     ]
    }
   ],
   "source": [
    "## Variable Importance\n",
    "ft_imp2 = pd.Series(rf_pipe3.steps[1][1].feature_importances_ ).sort_values(ascending=False)\n",
    "print(ft_imp2.head(20))"
   ]
  },
  {
   "cell_type": "code",
   "execution_count": 59,
   "id": "f20e553b",
   "metadata": {},
   "outputs": [
    {
     "data": {
      "text/plain": [
       "array(['suitable_for_0', 'suitable_for_1', 'suitable_for_2',\n",
       "       'suitable_for_3', 'category_b_0', 'category_b_1', 'category_b_2',\n",
       "       'category_b_3', 'category_b_4', 'category_b_5', 'category_b_6',\n",
       "       'category_b_7'], dtype=object)"
      ]
     },
     "execution_count": 59,
     "metadata": {},
     "output_type": "execute_result"
    }
   ],
   "source": [
    "# rf_pipe3.steps[0][1].transformers_[0][1].get_feature_names(features_to_encode)\n",
    "lepipe_var_list = rf_pipe3['columntransformer'].transformers_[0][1].get_feature_names(features_to_encode)\n",
    "rf_pipe3['columntransformer'].transformers_[0][1].get_feature_names(features_to_encode)"
   ]
  },
  {
   "cell_type": "markdown",
   "id": "6bff1014",
   "metadata": {},
   "source": [
    "#### Variable Importance with Variable Names"
   ]
  },
  {
   "cell_type": "code",
   "execution_count": 60,
   "id": "c37ef4aa",
   "metadata": {},
   "outputs": [
    {
     "data": {
      "text/plain": [
       "['suitable_for_0',\n",
       " 'suitable_for_1',\n",
       " 'suitable_for_2',\n",
       " 'suitable_for_3',\n",
       " 'category_b_0',\n",
       " 'category_b_1',\n",
       " 'category_b_2',\n",
       " 'category_b_3',\n",
       " 'category_b_4',\n",
       " 'category_b_5',\n",
       " 'category_b_6',\n",
       " 'category_b_7',\n",
       " 'reviews',\n",
       " 'review_c',\n",
       " 'review_log',\n",
       " 'installs_num',\n",
       " 'price_num',\n",
       " 'price_b',\n",
       " 'size_num',\n",
       " 'last_update_year',\n",
       " 'latest_ver_h']"
      ]
     },
     "execution_count": 60,
     "metadata": {},
     "output_type": "execute_result"
    }
   ],
   "source": [
    "lepipe_var_list = list(lepipe_var_list)\n",
    "lepipe_var_list.extend(feature_to_scale)\n",
    "lepipe_var_list\n"
   ]
  },
  {
   "cell_type": "code",
   "execution_count": 61,
   "id": "bd400f78",
   "metadata": {},
   "outputs": [
    {
     "name": "stdout",
     "output_type": "stream",
     "text": [
      "reviews             0.195658\n",
      "review_log          0.182455\n",
      "size_num            0.172168\n",
      "installs_num        0.110790\n",
      "latest_ver_h        0.077832\n",
      "last_update_year    0.058280\n",
      "review_c            0.031897\n",
      "category_b_6        0.022287\n",
      "price_num           0.021488\n",
      "category_b_0        0.019798\n",
      "suitable_for_0      0.012909\n",
      "category_b_7        0.012630\n",
      "category_b_2        0.011498\n",
      "category_b_4        0.011381\n",
      "suitable_for_3      0.010436\n",
      "category_b_5        0.010076\n",
      "price_b             0.009985\n",
      "category_b_1        0.008377\n",
      "category_b_3        0.007655\n",
      "suitable_for_2      0.007082\n",
      "dtype: float64\n"
     ]
    }
   ],
   "source": [
    "## Variable Importance with variable names\n",
    "ft_imp3 = pd.Series(rf_pipe3.steps[1][1].feature_importances_, index = lepipe_var_list).sort_values(ascending=False)\n",
    "print(ft_imp3.head(20))"
   ]
  },
  {
   "cell_type": "code",
   "execution_count": null,
   "id": "dcd05128",
   "metadata": {},
   "outputs": [],
   "source": []
  },
  {
   "cell_type": "code",
   "execution_count": null,
   "id": "a6ceb81d",
   "metadata": {},
   "outputs": [],
   "source": []
  },
  {
   "cell_type": "markdown",
   "id": "b3cc09dc",
   "metadata": {},
   "source": [
    "## Modeling (sklearn) - RandomForestClassifier"
   ]
  },
  {
   "cell_type": "code",
   "execution_count": 63,
   "id": "4c77c64d",
   "metadata": {},
   "outputs": [],
   "source": [
    "# ! pip install xgboost"
   ]
  },
  {
   "cell_type": "code",
   "execution_count": 64,
   "id": "8df37f1a",
   "metadata": {},
   "outputs": [],
   "source": [
    "## load needed packages\n",
    "import xgboost as xgb\n",
    "from"
   ]
  },
  {
   "cell_type": "code",
   "execution_count": 65,
   "id": "9fa9afc4",
   "metadata": {},
   "outputs": [
    {
     "name": "stdout",
     "output_type": "stream",
     "text": [
      "1.6.2\n"
     ]
    }
   ],
   "source": [
    "## display xgboost version\n",
    "print(xgb.__version__)"
   ]
  },
  {
   "cell_type": "markdown",
   "id": "603ef8ea",
   "metadata": {},
   "source": [
    "### One Hot Encoded Data"
   ]
  },
  {
   "cell_type": "code",
   "execution_count": 71,
   "id": "b0aaa386",
   "metadata": {},
   "outputs": [],
   "source": [
    "dtrain = xgb.DMatrix(X_train1, label = y_train1)"
   ]
  },
  {
   "cell_type": "code",
   "execution_count": 74,
   "id": "fd70f44c",
   "metadata": {},
   "outputs": [
    {
     "data": {
      "text/plain": [
       "21"
      ]
     },
     "execution_count": 74,
     "metadata": {},
     "output_type": "execute_result"
    }
   ],
   "source": [
    "m = len(X_train1.columns)"
   ]
  },
  {
   "cell_type": "code",
   "execution_count": 75,
   "id": "d8ee9c54",
   "metadata": {},
   "outputs": [],
   "source": [
    "params = dict(\n",
    "    objective = \"reg:squarederror\",\n",
    "    learning_rate = 0.1,\n",
    "    num_parallel_tree = 500,\n",
    "    subsample = 0.7,\n",
    "    colsample_bynode = int(np.sqrt(m))/m,\n",
    "    reg_lambda = 0,\n",
    "    max_depth = 20,\n",
    "    min_child_weight = 2)"
   ]
  },
  {
   "cell_type": "code",
   "execution_count": 76,
   "id": "fd1d15f3",
   "metadata": {},
   "outputs": [],
   "source": [
    "rf_xgb = xgb.train(params, dtrain, num_boost_round = 1)"
   ]
  },
  {
   "cell_type": "code",
   "execution_count": 77,
   "id": "4285a1c8",
   "metadata": {},
   "outputs": [],
   "source": [
    "preds = rf_xgb.predict(xgb.DMatrix(X_test1))\n",
    "# preds"
   ]
  },
  {
   "cell_type": "code",
   "execution_count": 80,
   "id": "1946c9a5",
   "metadata": {},
   "outputs": [
    {
     "name": "stdout",
     "output_type": "stream",
     "text": [
      "RMSE: 0.234\n"
     ]
    }
   ],
   "source": [
    "print(f\"RMSE: {mean_squared_error(y_test1, preds):.03f}\")"
   ]
  },
  {
   "cell_type": "code",
   "execution_count": 105,
   "id": "6eb705cd",
   "metadata": {},
   "outputs": [],
   "source": [
    "preds = pd.DataFrame(preds)\n",
    "y_pred5 = preds[0].apply(lambda x: 1 if x > 0.5 else 0)"
   ]
  },
  {
   "cell_type": "code",
   "execution_count": 106,
   "id": "521d8c77",
   "metadata": {},
   "outputs": [
    {
     "name": "stdout",
     "output_type": "stream",
     "text": [
      "The accuracy of the model is 71.3 %\n"
     ]
    }
   ],
   "source": [
    "print(f\"The accuracy of the model is {round(accuracy_score(y_test1, y_pred5),3)*100} %\")"
   ]
  },
  {
   "cell_type": "code",
   "execution_count": null,
   "id": "732dcc5c",
   "metadata": {},
   "outputs": [],
   "source": []
  },
  {
   "cell_type": "code",
   "execution_count": null,
   "id": "50cb7e01",
   "metadata": {},
   "outputs": [],
   "source": []
  },
  {
   "cell_type": "code",
   "execution_count": null,
   "id": "8200d7de",
   "metadata": {},
   "outputs": [],
   "source": []
  }
 ],
 "metadata": {
  "kernelspec": {
   "display_name": "Python 3 (ipykernel)",
   "language": "python",
   "name": "python3"
  },
  "language_info": {
   "codemirror_mode": {
    "name": "ipython",
    "version": 3
   },
   "file_extension": ".py",
   "mimetype": "text/x-python",
   "name": "python",
   "nbconvert_exporter": "python",
   "pygments_lexer": "ipython3",
   "version": "3.9.7"
  }
 },
 "nbformat": 4,
 "nbformat_minor": 5
}
