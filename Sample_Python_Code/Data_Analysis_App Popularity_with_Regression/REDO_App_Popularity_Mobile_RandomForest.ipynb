{
 "cells": [
  {
   "cell_type": "markdown",
   "id": "107f1912",
   "metadata": {},
   "source": [
    "# Predict App Popularity"
   ]
  },
  {
   "cell_type": "markdown",
   "id": "8472634b",
   "metadata": {},
   "source": [
    "Objective: \n",
    "- 1. Determine how different features are related to the app popularity\n",
    "- 2. Explain how different features affect the decision\n",
    "- 2. Output: app_id/popularity(High or Low)\n",
    "\n",
    "\n",
    "Files:\n",
    "- train.csv- data used for training along with target variable\n",
    "- test.csv- data on which predictions are to be made"
   ]
  },
  {
   "cell_type": "code",
   "execution_count": 1,
   "id": "fdb3ddc1",
   "metadata": {},
   "outputs": [],
   "source": [
    "## import needed libraries/packages\n",
    "import math\n",
    "import pandas as pd\n",
    "import numpy as np\n",
    "import matplotlib.pyplot as plt\n",
    "import seaborn as sns\n",
    "from scipy.stats import kurtosis, skew\n",
    "from IPython.display import display"
   ]
  },
  {
   "cell_type": "markdown",
   "id": "de857266",
   "metadata": {},
   "source": [
    "## Data Wrangling & Visualization (Training Set)"
   ]
  },
  {
   "cell_type": "code",
   "execution_count": 2,
   "id": "f1626244",
   "metadata": {},
   "outputs": [],
   "source": [
    "## load training data\n",
    "train = pd.read_csv(\"I:/3. Application/External_Application/Intern/Data/2022 Data/2022 IBM/Data Challenge/train.csv\")"
   ]
  },
  {
   "cell_type": "code",
   "execution_count": 3,
   "id": "32723c58",
   "metadata": {},
   "outputs": [
    {
     "data": {
      "text/html": [
       "<div>\n",
       "<style scoped>\n",
       "    .dataframe tbody tr th:only-of-type {\n",
       "        vertical-align: middle;\n",
       "    }\n",
       "\n",
       "    .dataframe tbody tr th {\n",
       "        vertical-align: top;\n",
       "    }\n",
       "\n",
       "    .dataframe thead th {\n",
       "        text-align: right;\n",
       "    }\n",
       "</style>\n",
       "<table border=\"1\" class=\"dataframe\">\n",
       "  <thead>\n",
       "    <tr style=\"text-align: right;\">\n",
       "      <th></th>\n",
       "      <th>app_id</th>\n",
       "      <th>category</th>\n",
       "      <th>reviews</th>\n",
       "      <th>size</th>\n",
       "      <th>installs</th>\n",
       "      <th>price</th>\n",
       "      <th>suitable_for</th>\n",
       "      <th>last_update</th>\n",
       "      <th>latest_ver</th>\n",
       "      <th>popularity</th>\n",
       "    </tr>\n",
       "  </thead>\n",
       "  <tbody>\n",
       "    <tr>\n",
       "      <th>0</th>\n",
       "      <td>330090</td>\n",
       "      <td>PERSONALIZATION</td>\n",
       "      <td>4</td>\n",
       "      <td>511k</td>\n",
       "      <td>50+</td>\n",
       "      <td>0</td>\n",
       "      <td>Everyone</td>\n",
       "      <td>December 31, 2016</td>\n",
       "      <td>1.4</td>\n",
       "      <td>High</td>\n",
       "    </tr>\n",
       "    <tr>\n",
       "      <th>1</th>\n",
       "      <td>226147</td>\n",
       "      <td>GAME</td>\n",
       "      <td>568391</td>\n",
       "      <td>5.2M</td>\n",
       "      <td>5,000,000+</td>\n",
       "      <td>0</td>\n",
       "      <td>Teen</td>\n",
       "      <td>July 1, 2014</td>\n",
       "      <td>4.3.1</td>\n",
       "      <td>High</td>\n",
       "    </tr>\n",
       "    <tr>\n",
       "      <th>2</th>\n",
       "      <td>107000</td>\n",
       "      <td>FAMILY</td>\n",
       "      <td>144</td>\n",
       "      <td>70M</td>\n",
       "      <td>1,000+</td>\n",
       "      <td>$2.99</td>\n",
       "      <td>Teen</td>\n",
       "      <td>January 26, 2018</td>\n",
       "      <td>1.0.0</td>\n",
       "      <td>High</td>\n",
       "    </tr>\n",
       "    <tr>\n",
       "      <th>3</th>\n",
       "      <td>217582</td>\n",
       "      <td>FAMILY</td>\n",
       "      <td>1499466</td>\n",
       "      <td>96M</td>\n",
       "      <td>10,000,000+</td>\n",
       "      <td>0</td>\n",
       "      <td>Teen</td>\n",
       "      <td>July 24, 2018</td>\n",
       "      <td>1.25.0</td>\n",
       "      <td>High</td>\n",
       "    </tr>\n",
       "    <tr>\n",
       "      <th>4</th>\n",
       "      <td>370113</td>\n",
       "      <td>DATING</td>\n",
       "      <td>84</td>\n",
       "      <td>4.5M</td>\n",
       "      <td>1,000+</td>\n",
       "      <td>0</td>\n",
       "      <td>Mature 17+</td>\n",
       "      <td>July 6, 2018</td>\n",
       "      <td>8.2</td>\n",
       "      <td>High</td>\n",
       "    </tr>\n",
       "  </tbody>\n",
       "</table>\n",
       "</div>"
      ],
      "text/plain": [
       "   app_id         category  reviews  size     installs  price suitable_for  \\\n",
       "0  330090  PERSONALIZATION        4  511k          50+      0     Everyone   \n",
       "1  226147             GAME   568391  5.2M   5,000,000+      0         Teen   \n",
       "2  107000           FAMILY      144   70M       1,000+  $2.99         Teen   \n",
       "3  217582           FAMILY  1499466   96M  10,000,000+      0         Teen   \n",
       "4  370113           DATING       84  4.5M       1,000+      0   Mature 17+   \n",
       "\n",
       "         last_update latest_ver popularity  \n",
       "0  December 31, 2016        1.4       High  \n",
       "1       July 1, 2014      4.3.1       High  \n",
       "2   January 26, 2018      1.0.0       High  \n",
       "3      July 24, 2018     1.25.0       High  \n",
       "4       July 6, 2018        8.2       High  "
      ]
     },
     "execution_count": 3,
     "metadata": {},
     "output_type": "execute_result"
    }
   ],
   "source": [
    "## view data\n",
    "train.head()"
   ]
  },
  {
   "cell_type": "code",
   "execution_count": 4,
   "id": "b099efa7",
   "metadata": {},
   "outputs": [
    {
     "name": "stdout",
     "output_type": "stream",
     "text": [
      "Number of rows: 1975\n",
      "Number of columns: 10\n"
     ]
    }
   ],
   "source": [
    "## check the size of the dataset\n",
    "print(\"Number of rows:\", train.shape[0])\n",
    "print(\"Number of columns:\", train.shape[1])"
   ]
  },
  {
   "cell_type": "code",
   "execution_count": 5,
   "id": "0d5087c5",
   "metadata": {
    "scrolled": true
   },
   "outputs": [
    {
     "data": {
      "text/plain": [
       "Index(['app_id', 'category', 'reviews', 'size', 'installs', 'price',\n",
       "       'suitable_for', 'last_update', 'latest_ver', 'popularity'],\n",
       "      dtype='object')"
      ]
     },
     "execution_count": 5,
     "metadata": {},
     "output_type": "execute_result"
    }
   ],
   "source": [
    "## explore columns\n",
    "train.columns"
   ]
  },
  {
   "cell_type": "code",
   "execution_count": 6,
   "id": "32316730",
   "metadata": {},
   "outputs": [
    {
     "name": "stdout",
     "output_type": "stream",
     "text": [
      "<class 'pandas.core.frame.DataFrame'>\n",
      "RangeIndex: 1975 entries, 0 to 1974\n",
      "Data columns (total 10 columns):\n",
      " #   Column        Non-Null Count  Dtype \n",
      "---  ------        --------------  ----- \n",
      " 0   app_id        1975 non-null   int64 \n",
      " 1   category      1975 non-null   object\n",
      " 2   reviews       1975 non-null   int64 \n",
      " 3   size          1975 non-null   object\n",
      " 4   installs      1975 non-null   object\n",
      " 5   price         1975 non-null   object\n",
      " 6   suitable_for  1975 non-null   object\n",
      " 7   last_update   1975 non-null   object\n",
      " 8   latest_ver    1971 non-null   object\n",
      " 9   popularity    1975 non-null   object\n",
      "dtypes: int64(2), object(8)\n",
      "memory usage: 154.4+ KB\n"
     ]
    }
   ],
   "source": [
    "## check data type\n",
    "train.info()"
   ]
  },
  {
   "cell_type": "code",
   "execution_count": 7,
   "id": "10c21ede",
   "metadata": {},
   "outputs": [
    {
     "data": {
      "text/plain": [
       "app_id          0\n",
       "category        0\n",
       "reviews         0\n",
       "size            0\n",
       "installs        0\n",
       "price           0\n",
       "suitable_for    0\n",
       "last_update     0\n",
       "latest_ver      4\n",
       "popularity      0\n",
       "dtype: int64"
      ]
     },
     "execution_count": 7,
     "metadata": {},
     "output_type": "execute_result"
    }
   ],
   "source": [
    "## check missing values\n",
    "## I do not remove NAs here \n",
    "## there are 4 rows with NAs in total \n",
    "## the number is relatively small\n",
    "## there may be NA in the test set as well\n",
    "\n",
    "train.isna().sum()"
   ]
  },
  {
   "cell_type": "code",
   "execution_count": 8,
   "id": "3978c13b",
   "metadata": {},
   "outputs": [],
   "source": [
    "## create the list of numerical and categorical variables\n",
    "var_list_n = ['app_id', 'reviews']\n",
    "var_list_c = ['category', 'size', 'installs', 'price', 'suitable_for', 'last_update', 'latest_ver', 'popularity']"
   ]
  },
  {
   "cell_type": "markdown",
   "id": "b51a5a2d",
   "metadata": {},
   "source": [
    "### Explore Numerical Variables"
   ]
  },
  {
   "cell_type": "code",
   "execution_count": 9,
   "id": "b5b813eb",
   "metadata": {},
   "outputs": [],
   "source": [
    "## descriptive information (numerical)\n",
    "# train.describe()\n",
    "# train[['app_id', 'reviews']].describe()\n",
    "# train[var_list_n].describe()"
   ]
  },
  {
   "cell_type": "markdown",
   "id": "eaabd7a3",
   "metadata": {},
   "source": [
    "###### - Function 1: Descriptive Statistics"
   ]
  },
  {
   "cell_type": "code",
   "execution_count": 10,
   "id": "be31bb0c",
   "metadata": {},
   "outputs": [],
   "source": [
    "## descriptive information (numerical)\n",
    "def num_descriptive(data, var_list):\n",
    "    \n",
    "    '''\n",
    "    This is a function to return the table of descriptive statistics for numerical variables/features\n",
    "    Based on numpy\n",
    "    '''\n",
    "\n",
    "    var_des_list = []\n",
    "    for nvar in var_list:\n",
    "        nvar_des = {\"Variable\": nvar,\n",
    "                    \"Median\": np.median(data[nvar]),\n",
    "                    \"Mean\": np.average(data[nvar]),\n",
    "                    \"Standard Deviation\": np.std(data[nvar]),\n",
    "                    \"Minimum\": np.amin(data[nvar]),\n",
    "                    \"Maximum\": np.amax(data[nvar]),\n",
    "                    \"Range\": np.amax(data[nvar]) - np.amin(data[nvar]), \n",
    "                    \"Kurtosis\": kurtosis(data[nvar]),\n",
    "                    \"Skewness\": skew(data[nvar])\n",
    "                   }\n",
    "        var_des_list.append(nvar_des)\n",
    "    return var_des_list"
   ]
  },
  {
   "cell_type": "code",
   "execution_count": 11,
   "id": "9c67e15c",
   "metadata": {},
   "outputs": [
    {
     "data": {
      "text/html": [
       "<div>\n",
       "<style scoped>\n",
       "    .dataframe tbody tr th:only-of-type {\n",
       "        vertical-align: middle;\n",
       "    }\n",
       "\n",
       "    .dataframe tbody tr th {\n",
       "        vertical-align: top;\n",
       "    }\n",
       "\n",
       "    .dataframe thead th {\n",
       "        text-align: right;\n",
       "    }\n",
       "</style>\n",
       "<table border=\"1\" class=\"dataframe\">\n",
       "  <thead>\n",
       "    <tr style=\"text-align: right;\">\n",
       "      <th></th>\n",
       "      <th>Variable</th>\n",
       "      <th>Median</th>\n",
       "      <th>Mean</th>\n",
       "      <th>Standard Deviation</th>\n",
       "      <th>Minimum</th>\n",
       "      <th>Maximum</th>\n",
       "      <th>Range</th>\n",
       "      <th>Kurtosis</th>\n",
       "      <th>Skewness</th>\n",
       "    </tr>\n",
       "  </thead>\n",
       "  <tbody>\n",
       "    <tr>\n",
       "      <th>0</th>\n",
       "      <td>app_id</td>\n",
       "      <td>481867.0</td>\n",
       "      <td>490685.787342</td>\n",
       "      <td>2.880260e+05</td>\n",
       "      <td>1160</td>\n",
       "      <td>999218</td>\n",
       "      <td>998058</td>\n",
       "      <td>-1.190782</td>\n",
       "      <td>0.034026</td>\n",
       "    </tr>\n",
       "    <tr>\n",
       "      <th>1</th>\n",
       "      <td>reviews</td>\n",
       "      <td>516.0</td>\n",
       "      <td>198816.162532</td>\n",
       "      <td>1.493712e+06</td>\n",
       "      <td>1</td>\n",
       "      <td>44891723</td>\n",
       "      <td>44891722</td>\n",
       "      <td>476.676102</td>\n",
       "      <td>18.911591</td>\n",
       "    </tr>\n",
       "  </tbody>\n",
       "</table>\n",
       "</div>"
      ],
      "text/plain": [
       "  Variable    Median           Mean  Standard Deviation  Minimum   Maximum  \\\n",
       "0   app_id  481867.0  490685.787342        2.880260e+05     1160    999218   \n",
       "1  reviews     516.0  198816.162532        1.493712e+06        1  44891723   \n",
       "\n",
       "      Range    Kurtosis   Skewness  \n",
       "0    998058   -1.190782   0.034026  \n",
       "1  44891722  476.676102  18.911591  "
      ]
     },
     "metadata": {},
     "output_type": "display_data"
    }
   ],
   "source": [
    "display(pd.DataFrame(num_descriptive(train, var_list_n)))"
   ]
  },
  {
   "cell_type": "markdown",
   "id": "8f5d8858",
   "metadata": {},
   "source": [
    "###### - Function 2: Boxplot Loop over a list of Variables"
   ]
  },
  {
   "cell_type": "code",
   "execution_count": 12,
   "id": "a8608966",
   "metadata": {},
   "outputs": [],
   "source": [
    "# ## boxplot numerical variables\n",
    "# ## without subplot\n",
    "# ## problem: only show the last plot\n",
    "# def num_plot(data, var_list):\n",
    "#     '''\n",
    "#     This is a function to return the boxplot of numerical variables/features\n",
    "#     Based on matplotlib.pyplot and seaborn\n",
    "#     '''\n",
    "#     fig = plt.plot()\n",
    "#     for i in range(len(var_list)):\n",
    "#         sns.boxplot(data = data, y = var_list[i]).set(\n",
    "#         xlabel = var_list[i], \n",
    "#         ylabel = '')\n",
    "\n",
    "#     plt.title('Numerical Data Distribution - Boxplot', fontsize = 30)\n",
    "#     return plt.show()\n",
    "# #     return fig"
   ]
  },
  {
   "cell_type": "code",
   "execution_count": 13,
   "id": "8cd95bf0",
   "metadata": {},
   "outputs": [],
   "source": [
    "# ## boxplot numerical variables\n",
    "# ## testing version\n",
    "# def num_plot(data, var_list):\n",
    "    \n",
    "#     '''\n",
    "#     This is a function to return the boxplot of numerical variables/features\n",
    "#     Based on matplotlib.pyplot and seaborn\n",
    "#     '''\n",
    "#     ## create a figure and a set of subplots\n",
    "#     nc_init = 2\n",
    "#     nr_init = int(len(var_list)/nc)\n",
    "#     fig, ax = plt.subplots(nrows = nr_init, ncols = nc_init, figsize = (8, 4))\n",
    "# #     colors = ['#3C91E6', '#76F7BF', '#34F6F2', '#59C9A5']\n",
    "\n",
    "#     nr_plot = 0 ## set the location(row) of the subplots\n",
    "#     for i in range(len(var_list)):\n",
    "#         nc_plot = i - (2*nr_plot) ## set the location(colunm) of the subplots\n",
    "        \n",
    "#         ## if there are less than two subplots\n",
    "#         if nr_init == 1:\n",
    "#             sns.boxplot(data = data, y = var_list[i], ax = ax[nc_plot])  \n",
    "#             ax[nc_plot].set_xlabel(var_list[i], fontsize = 12)\n",
    "#             ax[nc_plot].set_ylabel('')\n",
    "        \n",
    "#         ## if there more less than two subplots   \n",
    "#         elif nr_init > 1:\n",
    "# #             print('i:', i)\n",
    "# #             print(nr_plot == 0)\n",
    "# #             print(nc_plot != 0)\n",
    "# #             print((nr_plot == 0) and (nc_plot != 0))\n",
    "#             print(\"row:\", nr_plot)\n",
    "#             print(\"col:\", nc_plot)\n",
    "# #             sns.boxplot(data = data, y = var_list[i], ax = ax[nr_plot, nc_plot])  \n",
    "# #             sns.boxplot(data = data, y = var_list[i], ax = ax[nr_plot, nc_plot], color = colors[i])\n",
    "# #             ax[nr_plot, nc_plot].set_xlabel(var_list[i], fontsize = 12)\n",
    "# #             ax[nr_plot, nc_plot].set_ylabel('')\n",
    "    \n",
    "#             ## update the location(row)\n",
    "#             if i%2 == 1 and nc_plot != 0:\n",
    "#                 print(\"row + 1\")\n",
    "#                 nr_plot += 1\n",
    "# #             if i != 0 and i%2 == 1 and nc_plot != 0:\n",
    "# #                 print(\"row + 1\")\n",
    "# #                 nr_plot += 1\n",
    "#             else : \n",
    "#                 print(\"same row\")\n",
    "#                 continue\n",
    "\n",
    "#     plt.suptitle('Numerical Data Distribution - Boxplot', fontsize = 16)\n",
    "# #     return fig\n"
   ]
  },
  {
   "cell_type": "code",
   "execution_count": 14,
   "id": "f2269394",
   "metadata": {},
   "outputs": [],
   "source": [
    "## boxplot numerical variables\n",
    "## final version\n",
    "def num_boxplot(data, var_list):\n",
    "    \n",
    "    '''\n",
    "    This is a function to return the boxplot of numerical variables/features\n",
    "    Based on matplotlib.pyplot and seaborn\n",
    "    '''\n",
    "    \n",
    "    ## create a figure and a set of subplots\n",
    "    nc_init = 2\n",
    "#     nr_init = int(len(var_list)/nc_init)\n",
    "    nr_init = math.ceil(len(var_list)/nc_init) \n",
    "    \n",
    "    if nr_init == 1:\n",
    "        fig, ax = plt.subplots(nrows = nr_init, ncols = nc_init, figsize = (8, 6))\n",
    "        fig.tight_layout(pad = 6)\n",
    "    elif nr_init > 1:\n",
    "        fig, ax = plt.subplots(nrows = nr_init, ncols = nc_init, figsize = (nr_init*3, nc_init*9))\n",
    "        fig.tight_layout(pad = 6)\n",
    "\n",
    "    nr_plot = 0 ## set the location(row) of the subplots\n",
    "    for i in range(len(var_list)):\n",
    "        nc_plot = i - (2*nr_plot) ## set the location(colunm) of the subplots\n",
    "        \n",
    "        ## if there are less than two subplots\n",
    "        if nr_init == 1:\n",
    "            sns.boxplot(data = data, y = var_list[i], ax = ax[nc_plot])  \n",
    "            ax[nc_plot].set_xlabel(var_list[i], fontsize = 12)\n",
    "            ax[nc_plot].set_ylabel('Values', fontsize = 12)\n",
    "        \n",
    "        ## if there more less than two subplots   \n",
    "        elif nr_init > 1:\n",
    "            sns.boxplot(data = data, y = var_list[i], ax = ax[nr_plot, nc_plot])  \n",
    "            ax[nr_plot, nc_plot].set_xlabel(var_list[i], fontsize = 12)\n",
    "            ax[nr_plot, nc_plot].set_ylabel('Values', fontsize = 12)\n",
    "    \n",
    "            ## update the location(row)\n",
    "            if i%2 == 1 and nc_plot != 0:\n",
    "                nr_plot += 1\n",
    "            else : \n",
    "                continue\n",
    "\n",
    "    plt.suptitle('Numerical Data Distribution - Boxplot', fontsize = 16)"
   ]
  },
  {
   "cell_type": "markdown",
   "id": "42e99679",
   "metadata": {},
   "source": [
    "###### - Function 3: Histogram Loop over a list of Variables"
   ]
  },
  {
   "cell_type": "code",
   "execution_count": 15,
   "id": "ffb83435",
   "metadata": {},
   "outputs": [],
   "source": [
    "## histplot numerical variables\n",
    "## final version\n",
    "def num_hist(data, var_list):\n",
    "    \n",
    "    '''\n",
    "    This is a function to return the histogram of numerical variables/features\n",
    "    Based on matplotlib.pyplot and seaborn\n",
    "    '''\n",
    "    \n",
    "    ## create a figure and a set of subplots\n",
    "    nc_init = 2\n",
    "    nr_init = math.ceil(len(var_list)/nc_init)\n",
    "    \n",
    "    if nr_init == 1:\n",
    "        fig, ax = plt.subplots(nrows = nr_init, ncols = nc_init, figsize = (8, 6))\n",
    "        fig.tight_layout(pad = 6)\n",
    "    elif nr_init > 1:\n",
    "        fig, ax = plt.subplots(nrows = nr_init, ncols = nc_init, figsize = (nr_init*3, nc_init*9))\n",
    "        fig.tight_layout(pad = 6)\n",
    "\n",
    "    nr_plot = 0 ## set the location(row) of the subplots\n",
    "    for i in range(len(var_list)):\n",
    "        nc_plot = i - (2*nr_plot) ## set the location(colunm) of the subplots\n",
    "        \n",
    "        ## if there are less than two subplots\n",
    "        if nr_init == 1:\n",
    "            sns.histplot(data = data, x = var_list[i], ax = ax[nc_plot])  \n",
    "            ax[nc_plot].set_xlabel(var_list[i], fontsize = 12)\n",
    "            ax[nc_plot].set_ylabel('Density', fontsize = 12)\n",
    "        \n",
    "        ## if there more less than two subplots   \n",
    "        elif nr_init > 1:\n",
    "            sns.histplot(data = data, x = var_list[i], ax = ax[nr_plot, nc_plot])  \n",
    "            ax[nr_plot, nc_plot].set_xlabel(var_list[i], fontsize = 12)\n",
    "            ax[nr_plot, nc_plot].set_ylabel('Density', fontsize = 12)\n",
    "    \n",
    "    \n",
    "            ## update the location(row)\n",
    "            if i%2 == 1 and nc_plot != 0:\n",
    "                nr_plot += 1\n",
    "            else : \n",
    "                continue\n",
    "\n",
    "    plt.suptitle('Numerical Data Distribution - Histograms', fontsize = 16)"
   ]
  },
  {
   "cell_type": "markdown",
   "id": "aae234fe",
   "metadata": {},
   "source": [
    "###### - Function 4: Distribution Plot Loop over a list of Variables"
   ]
  },
  {
   "cell_type": "code",
   "execution_count": 16,
   "id": "3659cb5d",
   "metadata": {
    "scrolled": true
   },
   "outputs": [],
   "source": [
    "## check function: 'distplot'\n",
    "## Warning: `distplot` is a deprecated function and will be removed in a future version. \n",
    "# sns.distplot(train['reviews'], hist = False, rug = True)\n",
    "# sns.distplot(train['reviews'])"
   ]
  },
  {
   "cell_type": "code",
   "execution_count": 17,
   "id": "289d937a",
   "metadata": {},
   "outputs": [
    {
     "data": {
      "text/plain": [
       "<AxesSubplot:xlabel='reviews', ylabel='Density'>"
      ]
     },
     "execution_count": 17,
     "metadata": {},
     "output_type": "execute_result"
    },
    {
     "data": {
      "image/png": "[encoded data removed]",
      "text/plain": [
       "<Figure size 432x288 with 1 Axes>"
      ]
     },
     "metadata": {
      "needs_background": "light"
     },
     "output_type": "display_data"
    }
   ],
   "source": [
    "## check function: 'kdeplot'\n",
    "sns.kdeplot(train['reviews'])"
   ]
  },
  {
   "cell_type": "code",
   "execution_count": 18,
   "id": "9ce0b7e2",
   "metadata": {},
   "outputs": [],
   "source": [
    "## distribution plots with kdeplot for numerical variables\n",
    "## final version\n",
    "## Note: `displot` is a figure-level function and does not accept the ax= paramter\n",
    "def num_dist(data, var_list):\n",
    "    \n",
    "    '''\n",
    "    This is a function to return the histogram of numerical variables/features\n",
    "    Based on matplotlib.pyplot and seaborn\n",
    "    '''\n",
    "    \n",
    "    ## create a figure and a set of subplots\n",
    "    nc_init = 2\n",
    "    nr_init = math.ceil(len(var_list)/nc_init)\n",
    "    \n",
    "    if nr_init == 1:\n",
    "        fig, ax = plt.subplots(nrows = nr_init, ncols = nc_init, figsize = (8, 6))\n",
    "        fig.tight_layout(pad = 6)\n",
    "    elif nr_init > 1:\n",
    "        fig, ax = plt.subplots(nrows = nr_init, ncols = nc_init, figsize = (nr_init*3, nc_init*9))\n",
    "        fig.tight_layout(pad = 6)\n",
    "\n",
    "    nr_plot = 0 ## set the location(row) of the subplots\n",
    "    for i in range(len(var_list)):\n",
    "        nc_plot = i - (2*nr_plot) ## set the location(colunm) of the subplots\n",
    "        \n",
    "        ## if there are less than two subplots\n",
    "        if nr_init == 1:\n",
    "            sns.kdeplot(data = data, x = var_list[i], ax = ax[nc_plot])  \n",
    "            ax[nc_plot].set_xlabel(var_list[i], fontsize = 12)\n",
    "            ax[nc_plot].set_ylabel('Density', fontsize = 12)\n",
    "        \n",
    "        ## if there more less than two subplots   \n",
    "        elif nr_init > 1:\n",
    "            sns.kdeplot(data = data, x = var_list[i], ax = ax[nr_plot, nc_plot])  \n",
    "            ax[nr_plot, nc_plot].set_xlabel(var_list[i], fontsize = 12)\n",
    "            ax[nr_plot, nc_plot].set_ylabel('Density', fontsize = 12)\n",
    "    \n",
    "            ## update the location(row)\n",
    "            if i%2 == 1 and nc_plot != 0:\n",
    "                nr_plot += 1\n",
    "            else : \n",
    "                continue\n",
    "\n",
    "    plt.suptitle('Numerical Data Distribution - Distribution Plot', fontsize = 16)"
   ]
  },
  {
   "cell_type": "markdown",
   "id": "4d35d097",
   "metadata": {},
   "source": [
    "###### - Follow-ups: sns functions with other data"
   ]
  },
  {
   "cell_type": "code",
   "execution_count": 19,
   "id": "f30526db",
   "metadata": {
    "scrolled": true
   },
   "outputs": [],
   "source": [
    "## check function: 'displot'\n",
    "## Problem: no result for 'reviews'\n",
    "# sns.displot(data = train, x = \"reviews\", kind = 'hist')\n",
    "# sns.displot(data = train, x = \"app_id\", kind = 'hist')"
   ]
  },
  {
   "cell_type": "markdown",
   "id": "19cd468a",
   "metadata": {},
   "source": [
    "- Plots"
   ]
  },
  {
   "cell_type": "code",
   "execution_count": 20,
   "id": "72917f3a",
   "metadata": {},
   "outputs": [
    {
     "data": {
      "image/png": "[encoded data removed]",
      "text/plain": [
       "<Figure size 576x432 with 2 Axes>"
      ]
     },
     "metadata": {
      "needs_background": "light"
     },
     "output_type": "display_data"
    }
   ],
   "source": [
    "num_dist(train, var_list_n)"
   ]
  },
  {
   "cell_type": "code",
   "execution_count": 21,
   "id": "31801517",
   "metadata": {},
   "outputs": [
    {
     "data": {
      "image/png": "[encoded data removed]",
      "text/plain": [
       "<Figure size 576x432 with 2 Axes>"
      ]
     },
     "metadata": {
      "needs_background": "light"
     },
     "output_type": "display_data"
    }
   ],
   "source": [
    "num_boxplot(train, var_list_n)"
   ]
  },
  {
   "cell_type": "code",
   "execution_count": 22,
   "id": "d968f18a",
   "metadata": {},
   "outputs": [
    {
     "data": {
      "image/png": "[encoded data removed]",
      "text/plain": [
       "<Figure size 576x432 with 2 Axes>"
      ]
     },
     "metadata": {
      "needs_background": "light"
     },
     "output_type": "display_data"
    }
   ],
   "source": [
    "num_hist(train, var_list_n)"
   ]
  },
  {
   "cell_type": "markdown",
   "id": "a4e36599",
   "metadata": {},
   "source": [
    "#### Generate New Features based on Numerical Variables"
   ]
  },
  {
   "cell_type": "code",
   "execution_count": 24,
   "id": "ceecf625",
   "metadata": {},
   "outputs": [],
   "source": [
    "## add a new categorical variable based on 'reviews'\n",
    "# train['review_c'] = pd.cut(train.reviews, bins = [0,100,10000,100000,1000000,50000000],\n",
    "#                            labels = ['0.1k','10k','100k','1m','50m'])\n",
    "\n",
    "train['review_c'] = pd.cut(train.reviews, bins = [0,100,10000,100000,1000000,50000000],\n",
    "                           labels = [0.1, 10, 100, 1000, 50000])\n",
    "train['review_c'] = train['review_c'].astype(int)"
   ]
  },
  {
   "cell_type": "code",
   "execution_count": 25,
   "id": "75cf9b11",
   "metadata": {},
   "outputs": [],
   "source": [
    "## add a new variable based on 'reviews' -->  log transformation\n",
    "train['review_log'] = np.log2(train['reviews'])"
   ]
  },
  {
   "cell_type": "markdown",
   "id": "e3898932",
   "metadata": {},
   "source": [
    "### Explore Categorical Variables"
   ]
  },
  {
   "cell_type": "code",
   "execution_count": 26,
   "id": "e632e0a7",
   "metadata": {},
   "outputs": [
    {
     "data": {
      "text/html": [
       "<div>\n",
       "<style scoped>\n",
       "    .dataframe tbody tr th:only-of-type {\n",
       "        vertical-align: middle;\n",
       "    }\n",
       "\n",
       "    .dataframe tbody tr th {\n",
       "        vertical-align: top;\n",
       "    }\n",
       "\n",
       "    .dataframe thead th {\n",
       "        text-align: right;\n",
       "    }\n",
       "</style>\n",
       "<table border=\"1\" class=\"dataframe\">\n",
       "  <thead>\n",
       "    <tr style=\"text-align: right;\">\n",
       "      <th></th>\n",
       "      <th>category</th>\n",
       "      <th>size</th>\n",
       "      <th>installs</th>\n",
       "      <th>price</th>\n",
       "      <th>suitable_for</th>\n",
       "      <th>last_update</th>\n",
       "      <th>latest_ver</th>\n",
       "      <th>popularity</th>\n",
       "    </tr>\n",
       "  </thead>\n",
       "  <tbody>\n",
       "    <tr>\n",
       "      <th>count</th>\n",
       "      <td>1975</td>\n",
       "      <td>1975</td>\n",
       "      <td>1975</td>\n",
       "      <td>1975</td>\n",
       "      <td>1975</td>\n",
       "      <td>1975</td>\n",
       "      <td>1971</td>\n",
       "      <td>1975</td>\n",
       "    </tr>\n",
       "    <tr>\n",
       "      <th>unique</th>\n",
       "      <td>33</td>\n",
       "      <td>229</td>\n",
       "      <td>18</td>\n",
       "      <td>41</td>\n",
       "      <td>5</td>\n",
       "      <td>669</td>\n",
       "      <td>922</td>\n",
       "      <td>2</td>\n",
       "    </tr>\n",
       "    <tr>\n",
       "      <th>top</th>\n",
       "      <td>FAMILY</td>\n",
       "      <td>12M</td>\n",
       "      <td>10,000+</td>\n",
       "      <td>0</td>\n",
       "      <td>Everyone</td>\n",
       "      <td>August 3, 2018</td>\n",
       "      <td>1.0</td>\n",
       "      <td>High</td>\n",
       "    </tr>\n",
       "    <tr>\n",
       "      <th>freq</th>\n",
       "      <td>409</td>\n",
       "      <td>53</td>\n",
       "      <td>275</td>\n",
       "      <td>1780</td>\n",
       "      <td>1641</td>\n",
       "      <td>56</td>\n",
       "      <td>157</td>\n",
       "      <td>1450</td>\n",
       "    </tr>\n",
       "  </tbody>\n",
       "</table>\n",
       "</div>"
      ],
      "text/plain": [
       "       category  size installs price suitable_for     last_update latest_ver  \\\n",
       "count      1975  1975     1975  1975         1975            1975       1971   \n",
       "unique       33   229       18    41            5             669        922   \n",
       "top      FAMILY   12M  10,000+     0     Everyone  August 3, 2018        1.0   \n",
       "freq        409    53      275  1780         1641              56        157   \n",
       "\n",
       "       popularity  \n",
       "count        1975  \n",
       "unique          2  \n",
       "top          High  \n",
       "freq         1450  "
      ]
     },
     "execution_count": 26,
     "metadata": {},
     "output_type": "execute_result"
    }
   ],
   "source": [
    "## descriptive information (categorical)\n",
    "# train[['category', 'size', 'installs', 'price', 'suitable_for', 'last_update', 'latest_ver', 'popularity']].describe()\n",
    "train[var_list_c].describe()"
   ]
  },
  {
   "cell_type": "markdown",
   "id": "b84e0771",
   "metadata": {},
   "source": [
    "###### - Function 5: Frequency Statistics"
   ]
  },
  {
   "cell_type": "code",
   "execution_count": 27,
   "id": "276641d6",
   "metadata": {},
   "outputs": [],
   "source": [
    "def cate_frequency(data, var):\n",
    "    \n",
    "    '''\n",
    "    This is a function to return the table of descriptive statistics for categorical variables/features\n",
    "    Used for categorical variables with less than 30 categories\n",
    "    Based on numpy\n",
    "    '''\n",
    "    \n",
    "    unique, counts = np.unique(data[var], return_counts = True)\n",
    "    percentages = counts * 100 / len(data[var])\n",
    "    frequencies = np.asarray((unique, counts, percentages), dtype = object).T\n",
    "    frequencies = pd.DataFrame(data = frequencies, columns = [\"Category\", \"Count\", \"Percentage\"])\n",
    "    frequencies = frequencies.sort_values(by = 'Count', ascending = False, na_position = 'first')\n",
    "    frequencies_table = frequencies.style.set_caption(var).set_table_styles([{\n",
    "        'selector': 'caption',\n",
    "        'props': [(\"text-align\", \"center\"),\n",
    "                  ('color', 'black'),\n",
    "                  ('font-size', '16px'),\n",
    "                  ('font-style','italic'),\n",
    "                  ('font-weight', 'bold')]}])\n",
    "    display(frequencies_table)"
   ]
  },
  {
   "cell_type": "code",
   "execution_count": 28,
   "id": "6badcc34",
   "metadata": {},
   "outputs": [
    {
     "data": {
      "text/html": [
       "<style type=\"text/css\">\n",
       "#T_fcbb0_ caption {\n",
       "  text-align: center;\n",
       "  color: black;\n",
       "  font-size: 16px;\n",
       "  font-style: italic;\n",
       "  font-weight: bold;\n",
       "}\n",
       "</style>\n",
       "<table id=\"T_fcbb0_\">\n",
       "  <caption>popularity</caption>\n",
       "  <thead>\n",
       "    <tr>\n",
       "      <th class=\"blank level0\" >&nbsp;</th>\n",
       "      <th class=\"col_heading level0 col0\" >Category</th>\n",
       "      <th class=\"col_heading level0 col1\" >Count</th>\n",
       "      <th class=\"col_heading level0 col2\" >Percentage</th>\n",
       "    </tr>\n",
       "  </thead>\n",
       "  <tbody>\n",
       "    <tr>\n",
       "      <th id=\"T_fcbb0_level0_row0\" class=\"row_heading level0 row0\" >0</th>\n",
       "      <td id=\"T_fcbb0_row0_col0\" class=\"data row0 col0\" >High</td>\n",
       "      <td id=\"T_fcbb0_row0_col1\" class=\"data row0 col1\" >1450</td>\n",
       "      <td id=\"T_fcbb0_row0_col2\" class=\"data row0 col2\" >73.417722</td>\n",
       "    </tr>\n",
       "    <tr>\n",
       "      <th id=\"T_fcbb0_level0_row1\" class=\"row_heading level0 row1\" >1</th>\n",
       "      <td id=\"T_fcbb0_row1_col0\" class=\"data row1 col0\" >Low</td>\n",
       "      <td id=\"T_fcbb0_row1_col1\" class=\"data row1 col1\" >525</td>\n",
       "      <td id=\"T_fcbb0_row1_col2\" class=\"data row1 col2\" >26.582278</td>\n",
       "    </tr>\n",
       "  </tbody>\n",
       "</table>\n"
      ],
      "text/plain": [
       "<pandas.io.formats.style.Styler at 0x1b114e60fd0>"
      ]
     },
     "metadata": {},
     "output_type": "display_data"
    }
   ],
   "source": [
    "## frequency 1-1: popularity\n",
    "cate_frequency(train, 'popularity')"
   ]
  },
  {
   "cell_type": "code",
   "execution_count": 29,
   "id": "d31a244d",
   "metadata": {},
   "outputs": [],
   "source": [
    "## recode popularity\n",
    "train[\"popularity_b\"] = train[\"popularity\"]\n",
    "train[\"popularity_b\"].replace(['Low','High'], ['0', '1'], inplace=True)"
   ]
  },
  {
   "cell_type": "code",
   "execution_count": 30,
   "id": "d7abf978",
   "metadata": {},
   "outputs": [
    {
     "data": {
      "text/html": [
       "<style type=\"text/css\">\n",
       "#T_5b498_ caption {\n",
       "  text-align: center;\n",
       "  color: black;\n",
       "  font-size: 16px;\n",
       "  font-style: italic;\n",
       "  font-weight: bold;\n",
       "}\n",
       "</style>\n",
       "<table id=\"T_5b498_\">\n",
       "  <caption>popularity_b</caption>\n",
       "  <thead>\n",
       "    <tr>\n",
       "      <th class=\"blank level0\" >&nbsp;</th>\n",
       "      <th class=\"col_heading level0 col0\" >Category</th>\n",
       "      <th class=\"col_heading level0 col1\" >Count</th>\n",
       "      <th class=\"col_heading level0 col2\" >Percentage</th>\n",
       "    </tr>\n",
       "  </thead>\n",
       "  <tbody>\n",
       "    <tr>\n",
       "      <th id=\"T_5b498_level0_row0\" class=\"row_heading level0 row0\" >1</th>\n",
       "      <td id=\"T_5b498_row0_col0\" class=\"data row0 col0\" >1</td>\n",
       "      <td id=\"T_5b498_row0_col1\" class=\"data row0 col1\" >1450</td>\n",
       "      <td id=\"T_5b498_row0_col2\" class=\"data row0 col2\" >73.417722</td>\n",
       "    </tr>\n",
       "    <tr>\n",
       "      <th id=\"T_5b498_level0_row1\" class=\"row_heading level0 row1\" >0</th>\n",
       "      <td id=\"T_5b498_row1_col0\" class=\"data row1 col0\" >0</td>\n",
       "      <td id=\"T_5b498_row1_col1\" class=\"data row1 col1\" >525</td>\n",
       "      <td id=\"T_5b498_row1_col2\" class=\"data row1 col2\" >26.582278</td>\n",
       "    </tr>\n",
       "  </tbody>\n",
       "</table>\n"
      ],
      "text/plain": [
       "<pandas.io.formats.style.Styler at 0x1b10a7c04f0>"
      ]
     },
     "metadata": {},
     "output_type": "display_data"
    }
   ],
   "source": [
    "## frequency 1-2: popularity_b\n",
    "cate_frequency(train, 'popularity_b')"
   ]
  },
  {
   "cell_type": "code",
   "execution_count": 31,
   "id": "dfbc1f83",
   "metadata": {},
   "outputs": [
    {
     "data": {
      "text/html": [
       "<style type=\"text/css\">\n",
       "#T_a6b40_ caption {\n",
       "  text-align: center;\n",
       "  color: black;\n",
       "  font-size: 16px;\n",
       "  font-style: italic;\n",
       "  font-weight: bold;\n",
       "}\n",
       "</style>\n",
       "<table id=\"T_a6b40_\">\n",
       "  <caption>review_c</caption>\n",
       "  <thead>\n",
       "    <tr>\n",
       "      <th class=\"blank level0\" >&nbsp;</th>\n",
       "      <th class=\"col_heading level0 col0\" >Category</th>\n",
       "      <th class=\"col_heading level0 col1\" >Count</th>\n",
       "      <th class=\"col_heading level0 col2\" >Percentage</th>\n",
       "    </tr>\n",
       "  </thead>\n",
       "  <tbody>\n",
       "    <tr>\n",
       "      <th id=\"T_a6b40_level0_row0\" class=\"row_heading level0 row0\" >0</th>\n",
       "      <td id=\"T_a6b40_row0_col0\" class=\"data row0 col0\" >0</td>\n",
       "      <td id=\"T_a6b40_row0_col1\" class=\"data row0 col1\" >710</td>\n",
       "      <td id=\"T_a6b40_row0_col2\" class=\"data row0 col2\" >35.949367</td>\n",
       "    </tr>\n",
       "    <tr>\n",
       "      <th id=\"T_a6b40_level0_row1\" class=\"row_heading level0 row1\" >1</th>\n",
       "      <td id=\"T_a6b40_row1_col0\" class=\"data row1 col0\" >10</td>\n",
       "      <td id=\"T_a6b40_row1_col1\" class=\"data row1 col1\" >696</td>\n",
       "      <td id=\"T_a6b40_row1_col2\" class=\"data row1 col2\" >35.240506</td>\n",
       "    </tr>\n",
       "    <tr>\n",
       "      <th id=\"T_a6b40_level0_row2\" class=\"row_heading level0 row2\" >2</th>\n",
       "      <td id=\"T_a6b40_row2_col0\" class=\"data row2 col0\" >100</td>\n",
       "      <td id=\"T_a6b40_row2_col1\" class=\"data row2 col1\" >318</td>\n",
       "      <td id=\"T_a6b40_row2_col2\" class=\"data row2 col2\" >16.101266</td>\n",
       "    </tr>\n",
       "    <tr>\n",
       "      <th id=\"T_a6b40_level0_row3\" class=\"row_heading level0 row3\" >3</th>\n",
       "      <td id=\"T_a6b40_row3_col0\" class=\"data row3 col0\" >1000</td>\n",
       "      <td id=\"T_a6b40_row3_col1\" class=\"data row3 col1\" >189</td>\n",
       "      <td id=\"T_a6b40_row3_col2\" class=\"data row3 col2\" >9.569620</td>\n",
       "    </tr>\n",
       "    <tr>\n",
       "      <th id=\"T_a6b40_level0_row4\" class=\"row_heading level0 row4\" >4</th>\n",
       "      <td id=\"T_a6b40_row4_col0\" class=\"data row4 col0\" >50000</td>\n",
       "      <td id=\"T_a6b40_row4_col1\" class=\"data row4 col1\" >62</td>\n",
       "      <td id=\"T_a6b40_row4_col2\" class=\"data row4 col2\" >3.139241</td>\n",
       "    </tr>\n",
       "  </tbody>\n",
       "</table>\n"
      ],
      "text/plain": [
       "<pandas.io.formats.style.Styler at 0x1b10a3a1be0>"
      ]
     },
     "metadata": {},
     "output_type": "display_data"
    }
   ],
   "source": [
    "## frequency 2: review_c\n",
    "cate_frequency(train, 'review_c')"
   ]
  },
  {
   "cell_type": "code",
   "execution_count": 32,
   "id": "d17a4f1e",
   "metadata": {},
   "outputs": [
    {
     "data": {
      "text/html": [
       "<style type=\"text/css\">\n",
       "#T_d8904_ caption {\n",
       "  text-align: center;\n",
       "  color: black;\n",
       "  font-size: 16px;\n",
       "  font-style: italic;\n",
       "  font-weight: bold;\n",
       "}\n",
       "</style>\n",
       "<table id=\"T_d8904_\">\n",
       "  <caption>suitable_for</caption>\n",
       "  <thead>\n",
       "    <tr>\n",
       "      <th class=\"blank level0\" >&nbsp;</th>\n",
       "      <th class=\"col_heading level0 col0\" >Category</th>\n",
       "      <th class=\"col_heading level0 col1\" >Count</th>\n",
       "      <th class=\"col_heading level0 col2\" >Percentage</th>\n",
       "    </tr>\n",
       "  </thead>\n",
       "  <tbody>\n",
       "    <tr>\n",
       "      <th id=\"T_d8904_level0_row0\" class=\"row_heading level0 row0\" >1</th>\n",
       "      <td id=\"T_d8904_row0_col0\" class=\"data row0 col0\" >Everyone</td>\n",
       "      <td id=\"T_d8904_row0_col1\" class=\"data row0 col1\" >1641</td>\n",
       "      <td id=\"T_d8904_row0_col2\" class=\"data row0 col2\" >83.088608</td>\n",
       "    </tr>\n",
       "    <tr>\n",
       "      <th id=\"T_d8904_level0_row1\" class=\"row_heading level0 row1\" >4</th>\n",
       "      <td id=\"T_d8904_row1_col0\" class=\"data row1 col0\" >Teen</td>\n",
       "      <td id=\"T_d8904_row1_col1\" class=\"data row1 col1\" >188</td>\n",
       "      <td id=\"T_d8904_row1_col2\" class=\"data row1 col2\" >9.518987</td>\n",
       "    </tr>\n",
       "    <tr>\n",
       "      <th id=\"T_d8904_level0_row2\" class=\"row_heading level0 row2\" >3</th>\n",
       "      <td id=\"T_d8904_row2_col0\" class=\"data row2 col0\" >Mature 17+</td>\n",
       "      <td id=\"T_d8904_row2_col1\" class=\"data row2 col1\" >79</td>\n",
       "      <td id=\"T_d8904_row2_col2\" class=\"data row2 col2\" >4.000000</td>\n",
       "    </tr>\n",
       "    <tr>\n",
       "      <th id=\"T_d8904_level0_row3\" class=\"row_heading level0 row3\" >2</th>\n",
       "      <td id=\"T_d8904_row3_col0\" class=\"data row3 col0\" >Everyone 10+</td>\n",
       "      <td id=\"T_d8904_row3_col1\" class=\"data row3 col1\" >66</td>\n",
       "      <td id=\"T_d8904_row3_col2\" class=\"data row3 col2\" >3.341772</td>\n",
       "    </tr>\n",
       "    <tr>\n",
       "      <th id=\"T_d8904_level0_row4\" class=\"row_heading level0 row4\" >0</th>\n",
       "      <td id=\"T_d8904_row4_col0\" class=\"data row4 col0\" >Adults only 18+</td>\n",
       "      <td id=\"T_d8904_row4_col1\" class=\"data row4 col1\" >1</td>\n",
       "      <td id=\"T_d8904_row4_col2\" class=\"data row4 col2\" >0.050633</td>\n",
       "    </tr>\n",
       "  </tbody>\n",
       "</table>\n"
      ],
      "text/plain": [
       "<pandas.io.formats.style.Styler at 0x1b114e60430>"
      ]
     },
     "metadata": {},
     "output_type": "display_data"
    }
   ],
   "source": [
    "## frequency 3: suitable_for\n",
    "cate_frequency(train, 'suitable_for')"
   ]
  },
  {
   "cell_type": "code",
   "execution_count": 33,
   "id": "2f48b3bc",
   "metadata": {},
   "outputs": [],
   "source": [
    "## there is only one app in the category \"Adults only 18+\"\n",
    "## Not representative\n",
    "## replace it with \"Mature 17+\"\n",
    "train = train.replace({'suitable_for' : { 'Adults only 18+' : 'Mature 17+'}})"
   ]
  },
  {
   "cell_type": "code",
   "execution_count": 34,
   "id": "1e6100ac",
   "metadata": {},
   "outputs": [
    {
     "data": {
      "text/html": [
       "<style type=\"text/css\">\n",
       "#T_019e8_ caption {\n",
       "  text-align: center;\n",
       "  color: black;\n",
       "  font-size: 16px;\n",
       "  font-style: italic;\n",
       "  font-weight: bold;\n",
       "}\n",
       "</style>\n",
       "<table id=\"T_019e8_\">\n",
       "  <caption>suitable_for</caption>\n",
       "  <thead>\n",
       "    <tr>\n",
       "      <th class=\"blank level0\" >&nbsp;</th>\n",
       "      <th class=\"col_heading level0 col0\" >Category</th>\n",
       "      <th class=\"col_heading level0 col1\" >Count</th>\n",
       "      <th class=\"col_heading level0 col2\" >Percentage</th>\n",
       "    </tr>\n",
       "  </thead>\n",
       "  <tbody>\n",
       "    <tr>\n",
       "      <th id=\"T_019e8_level0_row0\" class=\"row_heading level0 row0\" >0</th>\n",
       "      <td id=\"T_019e8_row0_col0\" class=\"data row0 col0\" >Everyone</td>\n",
       "      <td id=\"T_019e8_row0_col1\" class=\"data row0 col1\" >1641</td>\n",
       "      <td id=\"T_019e8_row0_col2\" class=\"data row0 col2\" >83.088608</td>\n",
       "    </tr>\n",
       "    <tr>\n",
       "      <th id=\"T_019e8_level0_row1\" class=\"row_heading level0 row1\" >3</th>\n",
       "      <td id=\"T_019e8_row1_col0\" class=\"data row1 col0\" >Teen</td>\n",
       "      <td id=\"T_019e8_row1_col1\" class=\"data row1 col1\" >188</td>\n",
       "      <td id=\"T_019e8_row1_col2\" class=\"data row1 col2\" >9.518987</td>\n",
       "    </tr>\n",
       "    <tr>\n",
       "      <th id=\"T_019e8_level0_row2\" class=\"row_heading level0 row2\" >2</th>\n",
       "      <td id=\"T_019e8_row2_col0\" class=\"data row2 col0\" >Mature 17+</td>\n",
       "      <td id=\"T_019e8_row2_col1\" class=\"data row2 col1\" >80</td>\n",
       "      <td id=\"T_019e8_row2_col2\" class=\"data row2 col2\" >4.050633</td>\n",
       "    </tr>\n",
       "    <tr>\n",
       "      <th id=\"T_019e8_level0_row3\" class=\"row_heading level0 row3\" >1</th>\n",
       "      <td id=\"T_019e8_row3_col0\" class=\"data row3 col0\" >Everyone 10+</td>\n",
       "      <td id=\"T_019e8_row3_col1\" class=\"data row3 col1\" >66</td>\n",
       "      <td id=\"T_019e8_row3_col2\" class=\"data row3 col2\" >3.341772</td>\n",
       "    </tr>\n",
       "  </tbody>\n",
       "</table>\n"
      ],
      "text/plain": [
       "<pandas.io.formats.style.Styler at 0x1b104da53a0>"
      ]
     },
     "metadata": {},
     "output_type": "display_data"
    }
   ],
   "source": [
    "cate_frequency(train, 'suitable_for')"
   ]
  },
  {
   "cell_type": "code",
   "execution_count": 35,
   "id": "f7dae8ec",
   "metadata": {},
   "outputs": [
    {
     "data": {
      "text/html": [
       "<style type=\"text/css\">\n",
       "#T_54a0a_ caption {\n",
       "  text-align: center;\n",
       "  color: black;\n",
       "  font-size: 16px;\n",
       "  font-style: italic;\n",
       "  font-weight: bold;\n",
       "}\n",
       "</style>\n",
       "<table id=\"T_54a0a_\">\n",
       "  <caption>category</caption>\n",
       "  <thead>\n",
       "    <tr>\n",
       "      <th class=\"blank level0\" >&nbsp;</th>\n",
       "      <th class=\"col_heading level0 col0\" >Category</th>\n",
       "      <th class=\"col_heading level0 col1\" >Count</th>\n",
       "      <th class=\"col_heading level0 col2\" >Percentage</th>\n",
       "    </tr>\n",
       "  </thead>\n",
       "  <tbody>\n",
       "    <tr>\n",
       "      <th id=\"T_54a0a_level0_row0\" class=\"row_heading level0 row0\" >11</th>\n",
       "      <td id=\"T_54a0a_row0_col0\" class=\"data row0 col0\" >FAMILY</td>\n",
       "      <td id=\"T_54a0a_row0_col1\" class=\"data row0 col1\" >409</td>\n",
       "      <td id=\"T_54a0a_row0_col2\" class=\"data row0 col2\" >20.708861</td>\n",
       "    </tr>\n",
       "    <tr>\n",
       "      <th id=\"T_54a0a_level0_row1\" class=\"row_heading level0 row1\" >14</th>\n",
       "      <td id=\"T_54a0a_row1_col0\" class=\"data row1 col0\" >GAME</td>\n",
       "      <td id=\"T_54a0a_row1_col1\" class=\"data row1 col1\" >191</td>\n",
       "      <td id=\"T_54a0a_row1_col2\" class=\"data row1 col2\" >9.670886</td>\n",
       "    </tr>\n",
       "    <tr>\n",
       "      <th id=\"T_54a0a_level0_row2\" class=\"row_heading level0 row2\" >29</th>\n",
       "      <td id=\"T_54a0a_row2_col0\" class=\"data row2 col0\" >TOOLS</td>\n",
       "      <td id=\"T_54a0a_row2_col1\" class=\"data row2 col1\" >171</td>\n",
       "      <td id=\"T_54a0a_row2_col2\" class=\"data row2 col2\" >8.658228</td>\n",
       "    </tr>\n",
       "    <tr>\n",
       "      <th id=\"T_54a0a_level0_row3\" class=\"row_heading level0 row3\" >20</th>\n",
       "      <td id=\"T_54a0a_row3_col0\" class=\"data row3 col0\" >MEDICAL</td>\n",
       "      <td id=\"T_54a0a_row3_col1\" class=\"data row3 col1\" >106</td>\n",
       "      <td id=\"T_54a0a_row3_col2\" class=\"data row3 col2\" >5.367089</td>\n",
       "    </tr>\n",
       "    <tr>\n",
       "      <th id=\"T_54a0a_level0_row4\" class=\"row_heading level0 row4\" >18</th>\n",
       "      <td id=\"T_54a0a_row4_col0\" class=\"data row4 col0\" >LIFESTYLE</td>\n",
       "      <td id=\"T_54a0a_row4_col1\" class=\"data row4 col1\" >91</td>\n",
       "      <td id=\"T_54a0a_row4_col2\" class=\"data row4 col2\" >4.607595</td>\n",
       "    </tr>\n",
       "    <tr>\n",
       "      <th id=\"T_54a0a_level0_row5\" class=\"row_heading level0 row5\" >15</th>\n",
       "      <td id=\"T_54a0a_row5_col0\" class=\"data row5 col0\" >HEALTH_AND_FITNESS</td>\n",
       "      <td id=\"T_54a0a_row5_col1\" class=\"data row5 col1\" >84</td>\n",
       "      <td id=\"T_54a0a_row5_col2\" class=\"data row5 col2\" >4.253165</td>\n",
       "    </tr>\n",
       "    <tr>\n",
       "      <th id=\"T_54a0a_level0_row6\" class=\"row_heading level0 row6\" >12</th>\n",
       "      <td id=\"T_54a0a_row6_col0\" class=\"data row6 col0\" >FINANCE</td>\n",
       "      <td id=\"T_54a0a_row6_col1\" class=\"data row6 col1\" >82</td>\n",
       "      <td id=\"T_54a0a_row6_col2\" class=\"data row6 col2\" >4.151899</td>\n",
       "    </tr>\n",
       "    <tr>\n",
       "      <th id=\"T_54a0a_level0_row7\" class=\"row_heading level0 row7\" >23</th>\n",
       "      <td id=\"T_54a0a_row7_col0\" class=\"data row7 col0\" >PERSONALIZATION</td>\n",
       "      <td id=\"T_54a0a_row7_col1\" class=\"data row7 col1\" >80</td>\n",
       "      <td id=\"T_54a0a_row7_col2\" class=\"data row7 col2\" >4.050633</td>\n",
       "    </tr>\n",
       "    <tr>\n",
       "      <th id=\"T_54a0a_level0_row8\" class=\"row_heading level0 row8\" >4</th>\n",
       "      <td id=\"T_54a0a_row8_col0\" class=\"data row8 col0\" >BUSINESS</td>\n",
       "      <td id=\"T_54a0a_row8_col1\" class=\"data row8 col1\" >65</td>\n",
       "      <td id=\"T_54a0a_row8_col2\" class=\"data row8 col2\" >3.291139</td>\n",
       "    </tr>\n",
       "    <tr>\n",
       "      <th id=\"T_54a0a_level0_row9\" class=\"row_heading level0 row9\" >25</th>\n",
       "      <td id=\"T_54a0a_row9_col0\" class=\"data row9 col0\" >PRODUCTIVITY</td>\n",
       "      <td id=\"T_54a0a_row9_col1\" class=\"data row9 col1\" >62</td>\n",
       "      <td id=\"T_54a0a_row9_col2\" class=\"data row9 col2\" >3.139241</td>\n",
       "    </tr>\n",
       "    <tr>\n",
       "      <th id=\"T_54a0a_level0_row10\" class=\"row_heading level0 row10\" >3</th>\n",
       "      <td id=\"T_54a0a_row10_col0\" class=\"data row10 col0\" >BOOKS_AND_REFERENCE</td>\n",
       "      <td id=\"T_54a0a_row10_col1\" class=\"data row10 col1\" >57</td>\n",
       "      <td id=\"T_54a0a_row10_col2\" class=\"data row10 col2\" >2.886076</td>\n",
       "    </tr>\n",
       "    <tr>\n",
       "      <th id=\"T_54a0a_level0_row11\" class=\"row_heading level0 row11\" >24</th>\n",
       "      <td id=\"T_54a0a_row11_col0\" class=\"data row11 col0\" >PHOTOGRAPHY</td>\n",
       "      <td id=\"T_54a0a_row11_col1\" class=\"data row11 col1\" >55</td>\n",
       "      <td id=\"T_54a0a_row11_col2\" class=\"data row11 col2\" >2.784810</td>\n",
       "    </tr>\n",
       "    <tr>\n",
       "      <th id=\"T_54a0a_level0_row12\" class=\"row_heading level0 row12\" >28</th>\n",
       "      <td id=\"T_54a0a_row12_col0\" class=\"data row12 col0\" >SPORTS</td>\n",
       "      <td id=\"T_54a0a_row12_col1\" class=\"data row12 col1\" >55</td>\n",
       "      <td id=\"T_54a0a_row12_col2\" class=\"data row12 col2\" >2.784810</td>\n",
       "    </tr>\n",
       "    <tr>\n",
       "      <th id=\"T_54a0a_level0_row13\" class=\"row_heading level0 row13\" >21</th>\n",
       "      <td id=\"T_54a0a_row13_col0\" class=\"data row13 col0\" >NEWS_AND_MAGAZINES</td>\n",
       "      <td id=\"T_54a0a_row13_col1\" class=\"data row13 col1\" >54</td>\n",
       "      <td id=\"T_54a0a_row13_col2\" class=\"data row13 col2\" >2.734177</td>\n",
       "    </tr>\n",
       "    <tr>\n",
       "      <th id=\"T_54a0a_level0_row14\" class=\"row_heading level0 row14\" >27</th>\n",
       "      <td id=\"T_54a0a_row14_col0\" class=\"data row14 col0\" >SOCIAL</td>\n",
       "      <td id=\"T_54a0a_row14_col1\" class=\"data row14 col1\" >45</td>\n",
       "      <td id=\"T_54a0a_row14_col2\" class=\"data row14 col2\" >2.278481</td>\n",
       "    </tr>\n",
       "    <tr>\n",
       "      <th id=\"T_54a0a_level0_row15\" class=\"row_heading level0 row15\" >7</th>\n",
       "      <td id=\"T_54a0a_row15_col0\" class=\"data row15 col0\" >DATING</td>\n",
       "      <td id=\"T_54a0a_row15_col1\" class=\"data row15 col1\" >36</td>\n",
       "      <td id=\"T_54a0a_row15_col2\" class=\"data row15 col2\" >1.822785</td>\n",
       "    </tr>\n",
       "    <tr>\n",
       "      <th id=\"T_54a0a_level0_row16\" class=\"row_heading level0 row16\" >6</th>\n",
       "      <td id=\"T_54a0a_row16_col0\" class=\"data row16 col0\" >COMMUNICATION</td>\n",
       "      <td id=\"T_54a0a_row16_col1\" class=\"data row16 col1\" >35</td>\n",
       "      <td id=\"T_54a0a_row16_col2\" class=\"data row16 col2\" >1.772152</td>\n",
       "    </tr>\n",
       "    <tr>\n",
       "      <th id=\"T_54a0a_level0_row17\" class=\"row_heading level0 row17\" >31</th>\n",
       "      <td id=\"T_54a0a_row17_col0\" class=\"data row17 col0\" >VIDEO_PLAYERS</td>\n",
       "      <td id=\"T_54a0a_row17_col1\" class=\"data row17 col1\" >33</td>\n",
       "      <td id=\"T_54a0a_row17_col2\" class=\"data row17 col2\" >1.670886</td>\n",
       "    </tr>\n",
       "    <tr>\n",
       "      <th id=\"T_54a0a_level0_row18\" class=\"row_heading level0 row18\" >26</th>\n",
       "      <td id=\"T_54a0a_row18_col0\" class=\"data row18 col0\" >SHOPPING</td>\n",
       "      <td id=\"T_54a0a_row18_col1\" class=\"data row18 col1\" >32</td>\n",
       "      <td id=\"T_54a0a_row18_col2\" class=\"data row18 col2\" >1.620253</td>\n",
       "    </tr>\n",
       "    <tr>\n",
       "      <th id=\"T_54a0a_level0_row19\" class=\"row_heading level0 row19\" >13</th>\n",
       "      <td id=\"T_54a0a_row19_col0\" class=\"data row19 col0\" >FOOD_AND_DRINK</td>\n",
       "      <td id=\"T_54a0a_row19_col1\" class=\"data row19 col1\" >26</td>\n",
       "      <td id=\"T_54a0a_row19_col2\" class=\"data row19 col2\" >1.316456</td>\n",
       "    </tr>\n",
       "    <tr>\n",
       "      <th id=\"T_54a0a_level0_row20\" class=\"row_heading level0 row20\" >19</th>\n",
       "      <td id=\"T_54a0a_row20_col0\" class=\"data row20 col0\" >MAPS_AND_NAVIGATION</td>\n",
       "      <td id=\"T_54a0a_row20_col1\" class=\"data row20 col1\" >26</td>\n",
       "      <td id=\"T_54a0a_row20_col2\" class=\"data row20 col2\" >1.316456</td>\n",
       "    </tr>\n",
       "    <tr>\n",
       "      <th id=\"T_54a0a_level0_row21\" class=\"row_heading level0 row21\" >30</th>\n",
       "      <td id=\"T_54a0a_row21_col0\" class=\"data row21 col0\" >TRAVEL_AND_LOCAL</td>\n",
       "      <td id=\"T_54a0a_row21_col1\" class=\"data row21 col1\" >25</td>\n",
       "      <td id=\"T_54a0a_row21_col2\" class=\"data row21 col2\" >1.265823</td>\n",
       "    </tr>\n",
       "    <tr>\n",
       "      <th id=\"T_54a0a_level0_row22\" class=\"row_heading level0 row22\" >8</th>\n",
       "      <td id=\"T_54a0a_row22_col0\" class=\"data row22 col0\" >EDUCATION</td>\n",
       "      <td id=\"T_54a0a_row22_col1\" class=\"data row22 col1\" >23</td>\n",
       "      <td id=\"T_54a0a_row22_col2\" class=\"data row22 col2\" >1.164557</td>\n",
       "    </tr>\n",
       "    <tr>\n",
       "      <th id=\"T_54a0a_level0_row23\" class=\"row_heading level0 row23\" >1</th>\n",
       "      <td id=\"T_54a0a_row23_col0\" class=\"data row23 col0\" >AUTO_AND_VEHICLES</td>\n",
       "      <td id=\"T_54a0a_row23_col1\" class=\"data row23 col1\" >19</td>\n",
       "      <td id=\"T_54a0a_row23_col2\" class=\"data row23 col2\" >0.962025</td>\n",
       "    </tr>\n",
       "    <tr>\n",
       "      <th id=\"T_54a0a_level0_row24\" class=\"row_heading level0 row24\" >5</th>\n",
       "      <td id=\"T_54a0a_row24_col0\" class=\"data row24 col0\" >COMICS</td>\n",
       "      <td id=\"T_54a0a_row24_col1\" class=\"data row24 col1\" >19</td>\n",
       "      <td id=\"T_54a0a_row24_col2\" class=\"data row24 col2\" >0.962025</td>\n",
       "    </tr>\n",
       "    <tr>\n",
       "      <th id=\"T_54a0a_level0_row25\" class=\"row_heading level0 row25\" >0</th>\n",
       "      <td id=\"T_54a0a_row25_col0\" class=\"data row25 col0\" >ART_AND_DESIGN</td>\n",
       "      <td id=\"T_54a0a_row25_col1\" class=\"data row25 col1\" >18</td>\n",
       "      <td id=\"T_54a0a_row25_col2\" class=\"data row25 col2\" >0.911392</td>\n",
       "    </tr>\n",
       "    <tr>\n",
       "      <th id=\"T_54a0a_level0_row26\" class=\"row_heading level0 row26\" >17</th>\n",
       "      <td id=\"T_54a0a_row26_col0\" class=\"data row26 col0\" >LIBRARIES_AND_DEMO</td>\n",
       "      <td id=\"T_54a0a_row26_col1\" class=\"data row26 col1\" >13</td>\n",
       "      <td id=\"T_54a0a_row26_col2\" class=\"data row26 col2\" >0.658228</td>\n",
       "    </tr>\n",
       "    <tr>\n",
       "      <th id=\"T_54a0a_level0_row27\" class=\"row_heading level0 row27\" >32</th>\n",
       "      <td id=\"T_54a0a_row27_col0\" class=\"data row27 col0\" >WEATHER</td>\n",
       "      <td id=\"T_54a0a_row27_col1\" class=\"data row27 col1\" >12</td>\n",
       "      <td id=\"T_54a0a_row27_col2\" class=\"data row27 col2\" >0.607595</td>\n",
       "    </tr>\n",
       "    <tr>\n",
       "      <th id=\"T_54a0a_level0_row28\" class=\"row_heading level0 row28\" >10</th>\n",
       "      <td id=\"T_54a0a_row28_col0\" class=\"data row28 col0\" >EVENTS</td>\n",
       "      <td id=\"T_54a0a_row28_col1\" class=\"data row28 col1\" >12</td>\n",
       "      <td id=\"T_54a0a_row28_col2\" class=\"data row28 col2\" >0.607595</td>\n",
       "    </tr>\n",
       "    <tr>\n",
       "      <th id=\"T_54a0a_level0_row29\" class=\"row_heading level0 row29\" >2</th>\n",
       "      <td id=\"T_54a0a_row29_col0\" class=\"data row29 col0\" >BEAUTY</td>\n",
       "      <td id=\"T_54a0a_row29_col1\" class=\"data row29 col1\" >12</td>\n",
       "      <td id=\"T_54a0a_row29_col2\" class=\"data row29 col2\" >0.607595</td>\n",
       "    </tr>\n",
       "    <tr>\n",
       "      <th id=\"T_54a0a_level0_row30\" class=\"row_heading level0 row30\" >22</th>\n",
       "      <td id=\"T_54a0a_row30_col0\" class=\"data row30 col0\" >PARENTING</td>\n",
       "      <td id=\"T_54a0a_row30_col1\" class=\"data row30 col1\" >11</td>\n",
       "      <td id=\"T_54a0a_row30_col2\" class=\"data row30 col2\" >0.556962</td>\n",
       "    </tr>\n",
       "    <tr>\n",
       "      <th id=\"T_54a0a_level0_row31\" class=\"row_heading level0 row31\" >9</th>\n",
       "      <td id=\"T_54a0a_row31_col0\" class=\"data row31 col0\" >ENTERTAINMENT</td>\n",
       "      <td id=\"T_54a0a_row31_col1\" class=\"data row31 col1\" >8</td>\n",
       "      <td id=\"T_54a0a_row31_col2\" class=\"data row31 col2\" >0.405063</td>\n",
       "    </tr>\n",
       "    <tr>\n",
       "      <th id=\"T_54a0a_level0_row32\" class=\"row_heading level0 row32\" >16</th>\n",
       "      <td id=\"T_54a0a_row32_col0\" class=\"data row32 col0\" >HOUSE_AND_HOME</td>\n",
       "      <td id=\"T_54a0a_row32_col1\" class=\"data row32 col1\" >8</td>\n",
       "      <td id=\"T_54a0a_row32_col2\" class=\"data row32 col2\" >0.405063</td>\n",
       "    </tr>\n",
       "  </tbody>\n",
       "</table>\n"
      ],
      "text/plain": [
       "<pandas.io.formats.style.Styler at 0x1b114fae640>"
      ]
     },
     "metadata": {},
     "output_type": "display_data"
    }
   ],
   "source": [
    "## frequency 4: category\n",
    "cate_frequency(train, 'category')"
   ]
  },
  {
   "cell_type": "code",
   "execution_count": 36,
   "id": "8bcd567a",
   "metadata": {},
   "outputs": [
    {
     "data": {
      "text/html": [
       "<style type=\"text/css\">\n",
       "#T_cfb7c_ caption {\n",
       "  text-align: center;\n",
       "  color: black;\n",
       "  font-size: 16px;\n",
       "  font-style: italic;\n",
       "  font-weight: bold;\n",
       "}\n",
       "</style>\n",
       "<table id=\"T_cfb7c_\">\n",
       "  <caption>installs</caption>\n",
       "  <thead>\n",
       "    <tr>\n",
       "      <th class=\"blank level0\" >&nbsp;</th>\n",
       "      <th class=\"col_heading level0 col0\" >Category</th>\n",
       "      <th class=\"col_heading level0 col1\" >Count</th>\n",
       "      <th class=\"col_heading level0 col2\" >Percentage</th>\n",
       "    </tr>\n",
       "  </thead>\n",
       "  <tbody>\n",
       "    <tr>\n",
       "      <th id=\"T_cfb7c_level0_row0\" class=\"row_heading level0 row0\" >5</th>\n",
       "      <td id=\"T_cfb7c_row0_col0\" class=\"data row0 col0\" >10,000+</td>\n",
       "      <td id=\"T_cfb7c_row0_col1\" class=\"data row0 col1\" >275</td>\n",
       "      <td id=\"T_cfb7c_row0_col2\" class=\"data row0 col2\" >13.924051</td>\n",
       "    </tr>\n",
       "    <tr>\n",
       "      <th id=\"T_cfb7c_level0_row1\" class=\"row_heading level0 row1\" >1</th>\n",
       "      <td id=\"T_cfb7c_row1_col0\" class=\"data row1 col0\" >1,000+</td>\n",
       "      <td id=\"T_cfb7c_row1_col1\" class=\"data row1 col1\" >275</td>\n",
       "      <td id=\"T_cfb7c_row1_col2\" class=\"data row1 col2\" >13.924051</td>\n",
       "    </tr>\n",
       "    <tr>\n",
       "      <th id=\"T_cfb7c_level0_row2\" class=\"row_heading level0 row2\" >2</th>\n",
       "      <td id=\"T_cfb7c_row2_col0\" class=\"data row2 col0\" >1,000,000+</td>\n",
       "      <td id=\"T_cfb7c_row2_col1\" class=\"data row2 col1\" >258</td>\n",
       "      <td id=\"T_cfb7c_row2_col2\" class=\"data row2 col2\" >13.063291</td>\n",
       "    </tr>\n",
       "    <tr>\n",
       "      <th id=\"T_cfb7c_level0_row3\" class=\"row_heading level0 row3\" >8</th>\n",
       "      <td id=\"T_cfb7c_row3_col0\" class=\"data row3 col0\" >100,000+</td>\n",
       "      <td id=\"T_cfb7c_row3_col1\" class=\"data row3 col1\" >237</td>\n",
       "      <td id=\"T_cfb7c_row3_col2\" class=\"data row3 col2\" >12.000000</td>\n",
       "    </tr>\n",
       "    <tr>\n",
       "      <th id=\"T_cfb7c_level0_row4\" class=\"row_heading level0 row4\" >7</th>\n",
       "      <td id=\"T_cfb7c_row4_col0\" class=\"data row4 col0\" >100+</td>\n",
       "      <td id=\"T_cfb7c_row4_col1\" class=\"data row4 col1\" >143</td>\n",
       "      <td id=\"T_cfb7c_row4_col2\" class=\"data row4 col2\" >7.240506</td>\n",
       "    </tr>\n",
       "    <tr>\n",
       "      <th id=\"T_cfb7c_level0_row5\" class=\"row_heading level0 row5\" >6</th>\n",
       "      <td id=\"T_cfb7c_row5_col0\" class=\"data row5 col0\" >10,000,000+</td>\n",
       "      <td id=\"T_cfb7c_row5_col1\" class=\"data row5 col1\" >137</td>\n",
       "      <td id=\"T_cfb7c_row5_col2\" class=\"data row5 col2\" >6.936709</td>\n",
       "    </tr>\n",
       "    <tr>\n",
       "      <th id=\"T_cfb7c_level0_row6\" class=\"row_heading level0 row6\" >17</th>\n",
       "      <td id=\"T_cfb7c_row6_col0\" class=\"data row6 col0\" >500,000+</td>\n",
       "      <td id=\"T_cfb7c_row6_col1\" class=\"data row6 col1\" >122</td>\n",
       "      <td id=\"T_cfb7c_row6_col2\" class=\"data row6 col2\" >6.177215</td>\n",
       "    </tr>\n",
       "    <tr>\n",
       "      <th id=\"T_cfb7c_level0_row7\" class=\"row_heading level0 row7\" >11</th>\n",
       "      <td id=\"T_cfb7c_row7_col0\" class=\"data row7 col0\" >5,000+</td>\n",
       "      <td id=\"T_cfb7c_row7_col1\" class=\"data row7 col1\" >120</td>\n",
       "      <td id=\"T_cfb7c_row7_col2\" class=\"data row7 col2\" >6.075949</td>\n",
       "    </tr>\n",
       "    <tr>\n",
       "      <th id=\"T_cfb7c_level0_row8\" class=\"row_heading level0 row8\" >14</th>\n",
       "      <td id=\"T_cfb7c_row8_col0\" class=\"data row8 col0\" >50,000+</td>\n",
       "      <td id=\"T_cfb7c_row8_col1\" class=\"data row8 col1\" >100</td>\n",
       "      <td id=\"T_cfb7c_row8_col2\" class=\"data row8 col2\" >5.063291</td>\n",
       "    </tr>\n",
       "    <tr>\n",
       "      <th id=\"T_cfb7c_level0_row9\" class=\"row_heading level0 row9\" >12</th>\n",
       "      <td id=\"T_cfb7c_row9_col0\" class=\"data row9 col0\" >5,000,000+</td>\n",
       "      <td id=\"T_cfb7c_row9_col1\" class=\"data row9 col1\" >94</td>\n",
       "      <td id=\"T_cfb7c_row9_col2\" class=\"data row9 col2\" >4.759494</td>\n",
       "    </tr>\n",
       "    <tr>\n",
       "      <th id=\"T_cfb7c_level0_row10\" class=\"row_heading level0 row10\" >16</th>\n",
       "      <td id=\"T_cfb7c_row10_col0\" class=\"data row10 col0\" >500+</td>\n",
       "      <td id=\"T_cfb7c_row10_col1\" class=\"data row10 col1\" >77</td>\n",
       "      <td id=\"T_cfb7c_row10_col2\" class=\"data row10 col2\" >3.898734</td>\n",
       "    </tr>\n",
       "    <tr>\n",
       "      <th id=\"T_cfb7c_level0_row11\" class=\"row_heading level0 row11\" >4</th>\n",
       "      <td id=\"T_cfb7c_row11_col0\" class=\"data row11 col0\" >10+</td>\n",
       "      <td id=\"T_cfb7c_row11_col1\" class=\"data row11 col1\" >44</td>\n",
       "      <td id=\"T_cfb7c_row11_col2\" class=\"data row11 col2\" >2.227848</td>\n",
       "    </tr>\n",
       "    <tr>\n",
       "      <th id=\"T_cfb7c_level0_row12\" class=\"row_heading level0 row12\" >13</th>\n",
       "      <td id=\"T_cfb7c_row12_col0\" class=\"data row12 col0\" >50+</td>\n",
       "      <td id=\"T_cfb7c_row12_col1\" class=\"data row12 col1\" >31</td>\n",
       "      <td id=\"T_cfb7c_row12_col2\" class=\"data row12 col2\" >1.569620</td>\n",
       "    </tr>\n",
       "    <tr>\n",
       "      <th id=\"T_cfb7c_level0_row13\" class=\"row_heading level0 row13\" >9</th>\n",
       "      <td id=\"T_cfb7c_row13_col0\" class=\"data row13 col0\" >100,000,000+</td>\n",
       "      <td id=\"T_cfb7c_row13_col1\" class=\"data row13 col1\" >30</td>\n",
       "      <td id=\"T_cfb7c_row13_col2\" class=\"data row13 col2\" >1.518987</td>\n",
       "    </tr>\n",
       "    <tr>\n",
       "      <th id=\"T_cfb7c_level0_row14\" class=\"row_heading level0 row14\" >15</th>\n",
       "      <td id=\"T_cfb7c_row14_col0\" class=\"data row14 col0\" >50,000,000+</td>\n",
       "      <td id=\"T_cfb7c_row14_col1\" class=\"data row14 col1\" >27</td>\n",
       "      <td id=\"T_cfb7c_row14_col2\" class=\"data row14 col2\" >1.367089</td>\n",
       "    </tr>\n",
       "    <tr>\n",
       "      <th id=\"T_cfb7c_level0_row15\" class=\"row_heading level0 row15\" >10</th>\n",
       "      <td id=\"T_cfb7c_row15_col0\" class=\"data row15 col0\" >5+</td>\n",
       "      <td id=\"T_cfb7c_row15_col1\" class=\"data row15 col1\" >3</td>\n",
       "      <td id=\"T_cfb7c_row15_col2\" class=\"data row15 col2\" >0.151899</td>\n",
       "    </tr>\n",
       "    <tr>\n",
       "      <th id=\"T_cfb7c_level0_row16\" class=\"row_heading level0 row16\" >3</th>\n",
       "      <td id=\"T_cfb7c_row16_col0\" class=\"data row16 col0\" >1,000,000,000+</td>\n",
       "      <td id=\"T_cfb7c_row16_col1\" class=\"data row16 col1\" >1</td>\n",
       "      <td id=\"T_cfb7c_row16_col2\" class=\"data row16 col2\" >0.050633</td>\n",
       "    </tr>\n",
       "    <tr>\n",
       "      <th id=\"T_cfb7c_level0_row17\" class=\"row_heading level0 row17\" >0</th>\n",
       "      <td id=\"T_cfb7c_row17_col0\" class=\"data row17 col0\" >1+</td>\n",
       "      <td id=\"T_cfb7c_row17_col1\" class=\"data row17 col1\" >1</td>\n",
       "      <td id=\"T_cfb7c_row17_col2\" class=\"data row17 col2\" >0.050633</td>\n",
       "    </tr>\n",
       "  </tbody>\n",
       "</table>\n"
      ],
      "text/plain": [
       "<pandas.io.formats.style.Styler at 0x1b10a3a1be0>"
      ]
     },
     "metadata": {},
     "output_type": "display_data"
    }
   ],
   "source": [
    "## frequency 5: installs\n",
    "cate_frequency(train, 'installs')"
   ]
  },
  {
   "cell_type": "code",
   "execution_count": 37,
   "id": "0d906deb",
   "metadata": {},
   "outputs": [
    {
     "data": {
      "text/html": [
       "<style type=\"text/css\">\n",
       "#T_11eb7_ caption {\n",
       "  text-align: center;\n",
       "  color: black;\n",
       "  font-size: 16px;\n",
       "  font-style: italic;\n",
       "  font-weight: bold;\n",
       "}\n",
       "</style>\n",
       "<table id=\"T_11eb7_\">\n",
       "  <caption>price</caption>\n",
       "  <thead>\n",
       "    <tr>\n",
       "      <th class=\"blank level0\" >&nbsp;</th>\n",
       "      <th class=\"col_heading level0 col0\" >Category</th>\n",
       "      <th class=\"col_heading level0 col1\" >Count</th>\n",
       "      <th class=\"col_heading level0 col2\" >Percentage</th>\n",
       "    </tr>\n",
       "  </thead>\n",
       "  <tbody>\n",
       "    <tr>\n",
       "      <th id=\"T_11eb7_level0_row0\" class=\"row_heading level0 row0\" >40</th>\n",
       "      <td id=\"T_11eb7_row0_col0\" class=\"data row0 col0\" >0</td>\n",
       "      <td id=\"T_11eb7_row0_col1\" class=\"data row0 col1\" >1780</td>\n",
       "      <td id=\"T_11eb7_row0_col2\" class=\"data row0 col2\" >90.126582</td>\n",
       "    </tr>\n",
       "    <tr>\n",
       "      <th id=\"T_11eb7_level0_row1\" class=\"row_heading level0 row1\" >19</th>\n",
       "      <td id=\"T_11eb7_row1_col0\" class=\"data row1 col0\" >$2.99</td>\n",
       "      <td id=\"T_11eb7_row1_col1\" class=\"data row1 col1\" >35</td>\n",
       "      <td id=\"T_11eb7_row1_col2\" class=\"data row1 col2\" >1.772152</td>\n",
       "    </tr>\n",
       "    <tr>\n",
       "      <th id=\"T_11eb7_level0_row2\" class=\"row_heading level0 row2\" >0</th>\n",
       "      <td id=\"T_11eb7_row2_col0\" class=\"data row2 col0\" >$0.99</td>\n",
       "      <td id=\"T_11eb7_row2_col1\" class=\"data row2 col1\" >35</td>\n",
       "      <td id=\"T_11eb7_row2_col2\" class=\"data row2 col2\" >1.772152</td>\n",
       "    </tr>\n",
       "    <tr>\n",
       "      <th id=\"T_11eb7_level0_row3\" class=\"row_heading level0 row3\" >31</th>\n",
       "      <td id=\"T_11eb7_row3_col0\" class=\"data row3 col0\" >$4.99</td>\n",
       "      <td id=\"T_11eb7_row3_col1\" class=\"data row3 col1\" >25</td>\n",
       "      <td id=\"T_11eb7_row3_col2\" class=\"data row3 col2\" >1.265823</td>\n",
       "    </tr>\n",
       "    <tr>\n",
       "      <th id=\"T_11eb7_level0_row4\" class=\"row_heading level0 row4\" >6</th>\n",
       "      <td id=\"T_11eb7_row4_col0\" class=\"data row4 col0\" >$1.99</td>\n",
       "      <td id=\"T_11eb7_row4_col1\" class=\"data row4 col1\" >23</td>\n",
       "      <td id=\"T_11eb7_row4_col2\" class=\"data row4 col2\" >1.164557</td>\n",
       "    </tr>\n",
       "    <tr>\n",
       "      <th id=\"T_11eb7_level0_row5\" class=\"row_heading level0 row5\" >1</th>\n",
       "      <td id=\"T_11eb7_row5_col0\" class=\"data row5 col0\" >$1.49</td>\n",
       "      <td id=\"T_11eb7_row5_col1\" class=\"data row5 col1\" >14</td>\n",
       "      <td id=\"T_11eb7_row5_col2\" class=\"data row5 col2\" >0.708861</td>\n",
       "    </tr>\n",
       "    <tr>\n",
       "      <th id=\"T_11eb7_level0_row6\" class=\"row_heading level0 row6\" >24</th>\n",
       "      <td id=\"T_11eb7_row6_col0\" class=\"data row6 col0\" >$3.99</td>\n",
       "      <td id=\"T_11eb7_row6_col1\" class=\"data row6 col1\" >13</td>\n",
       "      <td id=\"T_11eb7_row6_col2\" class=\"data row6 col2\" >0.658228</td>\n",
       "    </tr>\n",
       "    <tr>\n",
       "      <th id=\"T_11eb7_level0_row7\" class=\"row_heading level0 row7\" >36</th>\n",
       "      <td id=\"T_11eb7_row7_col0\" class=\"data row7 col0\" >$7.99</td>\n",
       "      <td id=\"T_11eb7_row7_col1\" class=\"data row7 col1\" >4</td>\n",
       "      <td id=\"T_11eb7_row7_col2\" class=\"data row7 col2\" >0.202532</td>\n",
       "    </tr>\n",
       "    <tr>\n",
       "      <th id=\"T_11eb7_level0_row8\" class=\"row_heading level0 row8\" >23</th>\n",
       "      <td id=\"T_11eb7_row8_col0\" class=\"data row8 col0\" >$3.49</td>\n",
       "      <td id=\"T_11eb7_row8_col1\" class=\"data row8 col1\" >3</td>\n",
       "      <td id=\"T_11eb7_row8_col2\" class=\"data row8 col2\" >0.151899</td>\n",
       "    </tr>\n",
       "    <tr>\n",
       "      <th id=\"T_11eb7_level0_row9\" class=\"row_heading level0 row9\" >35</th>\n",
       "      <td id=\"T_11eb7_row9_col0\" class=\"data row9 col0\" >$6.99</td>\n",
       "      <td id=\"T_11eb7_row9_col1\" class=\"data row9 col1\" >3</td>\n",
       "      <td id=\"T_11eb7_row9_col2\" class=\"data row9 col2\" >0.151899</td>\n",
       "    </tr>\n",
       "    <tr>\n",
       "      <th id=\"T_11eb7_level0_row10\" class=\"row_heading level0 row10\" >33</th>\n",
       "      <td id=\"T_11eb7_row10_col0\" class=\"data row10 col0\" >$5.99</td>\n",
       "      <td id=\"T_11eb7_row10_col1\" class=\"data row10 col1\" >3</td>\n",
       "      <td id=\"T_11eb7_row10_col2\" class=\"data row10 col2\" >0.151899</td>\n",
       "    </tr>\n",
       "    <tr>\n",
       "      <th id=\"T_11eb7_level0_row11\" class=\"row_heading level0 row11\" >16</th>\n",
       "      <td id=\"T_11eb7_row11_col0\" class=\"data row11 col0\" >$2.49</td>\n",
       "      <td id=\"T_11eb7_row11_col1\" class=\"data row11 col1\" >3</td>\n",
       "      <td id=\"T_11eb7_row11_col2\" class=\"data row11 col2\" >0.151899</td>\n",
       "    </tr>\n",
       "    <tr>\n",
       "      <th id=\"T_11eb7_level0_row12\" class=\"row_heading level0 row12\" >14</th>\n",
       "      <td id=\"T_11eb7_row12_col0\" class=\"data row12 col0\" >$17.99</td>\n",
       "      <td id=\"T_11eb7_row12_col1\" class=\"data row12 col1\" >2</td>\n",
       "      <td id=\"T_11eb7_row12_col2\" class=\"data row12 col2\" >0.101266</td>\n",
       "    </tr>\n",
       "    <tr>\n",
       "      <th id=\"T_11eb7_level0_row13\" class=\"row_heading level0 row13\" >39</th>\n",
       "      <td id=\"T_11eb7_row13_col0\" class=\"data row13 col0\" >$9.99</td>\n",
       "      <td id=\"T_11eb7_row13_col1\" class=\"data row13 col1\" >2</td>\n",
       "      <td id=\"T_11eb7_row13_col2\" class=\"data row13 col2\" >0.101266</td>\n",
       "    </tr>\n",
       "    <tr>\n",
       "      <th id=\"T_11eb7_level0_row14\" class=\"row_heading level0 row14\" >7</th>\n",
       "      <td id=\"T_11eb7_row14_col0\" class=\"data row14 col0\" >$10.00</td>\n",
       "      <td id=\"T_11eb7_row14_col1\" class=\"data row14 col1\" >2</td>\n",
       "      <td id=\"T_11eb7_row14_col2\" class=\"data row14 col2\" >0.101266</td>\n",
       "    </tr>\n",
       "    <tr>\n",
       "      <th id=\"T_11eb7_level0_row15\" class=\"row_heading level0 row15\" >11</th>\n",
       "      <td id=\"T_11eb7_row15_col0\" class=\"data row15 col0\" >$14.99</td>\n",
       "      <td id=\"T_11eb7_row15_col1\" class=\"data row15 col1\" >2</td>\n",
       "      <td id=\"T_11eb7_row15_col2\" class=\"data row15 col2\" >0.101266</td>\n",
       "    </tr>\n",
       "    <tr>\n",
       "      <th id=\"T_11eb7_level0_row16\" class=\"row_heading level0 row16\" >21</th>\n",
       "      <td id=\"T_11eb7_row16_col0\" class=\"data row16 col0\" >$29.99</td>\n",
       "      <td id=\"T_11eb7_row16_col1\" class=\"data row16 col1\" >2</td>\n",
       "      <td id=\"T_11eb7_row16_col2\" class=\"data row16 col2\" >0.101266</td>\n",
       "    </tr>\n",
       "    <tr>\n",
       "      <th id=\"T_11eb7_level0_row17\" class=\"row_heading level0 row17\" >30</th>\n",
       "      <td id=\"T_11eb7_row17_col0\" class=\"data row17 col0\" >$4.60</td>\n",
       "      <td id=\"T_11eb7_row17_col1\" class=\"data row17 col1\" >1</td>\n",
       "      <td id=\"T_11eb7_row17_col2\" class=\"data row17 col2\" >0.050633</td>\n",
       "    </tr>\n",
       "    <tr>\n",
       "      <th id=\"T_11eb7_level0_row18\" class=\"row_heading level0 row18\" >29</th>\n",
       "      <td id=\"T_11eb7_row18_col0\" class=\"data row18 col0\" >$4.49</td>\n",
       "      <td id=\"T_11eb7_row18_col1\" class=\"data row18 col1\" >1</td>\n",
       "      <td id=\"T_11eb7_row18_col2\" class=\"data row18 col2\" >0.050633</td>\n",
       "    </tr>\n",
       "    <tr>\n",
       "      <th id=\"T_11eb7_level0_row19\" class=\"row_heading level0 row19\" >3</th>\n",
       "      <td id=\"T_11eb7_row19_col0\" class=\"data row19 col0\" >$1.75</td>\n",
       "      <td id=\"T_11eb7_row19_col1\" class=\"data row19 col1\" >1</td>\n",
       "      <td id=\"T_11eb7_row19_col2\" class=\"data row19 col2\" >0.050633</td>\n",
       "    </tr>\n",
       "    <tr>\n",
       "      <th id=\"T_11eb7_level0_row20\" class=\"row_heading level0 row20\" >32</th>\n",
       "      <td id=\"T_11eb7_row20_col0\" class=\"data row20 col0\" >$5.49</td>\n",
       "      <td id=\"T_11eb7_row20_col1\" class=\"data row20 col1\" >1</td>\n",
       "      <td id=\"T_11eb7_row20_col2\" class=\"data row20 col2\" >0.050633</td>\n",
       "    </tr>\n",
       "    <tr>\n",
       "      <th id=\"T_11eb7_level0_row21\" class=\"row_heading level0 row21\" >27</th>\n",
       "      <td id=\"T_11eb7_row21_col0\" class=\"data row21 col0\" >$399.99</td>\n",
       "      <td id=\"T_11eb7_row21_col1\" class=\"data row21 col1\" >1</td>\n",
       "      <td id=\"T_11eb7_row21_col2\" class=\"data row21 col2\" >0.050633</td>\n",
       "    </tr>\n",
       "    <tr>\n",
       "      <th id=\"T_11eb7_level0_row22\" class=\"row_heading level0 row22\" >34</th>\n",
       "      <td id=\"T_11eb7_row22_col0\" class=\"data row22 col0\" >$6.49</td>\n",
       "      <td id=\"T_11eb7_row22_col1\" class=\"data row22 col1\" >1</td>\n",
       "      <td id=\"T_11eb7_row22_col2\" class=\"data row22 col2\" >0.050633</td>\n",
       "    </tr>\n",
       "    <tr>\n",
       "      <th id=\"T_11eb7_level0_row23\" class=\"row_heading level0 row23\" >37</th>\n",
       "      <td id=\"T_11eb7_row23_col0\" class=\"data row23 col0\" >$79.99</td>\n",
       "      <td id=\"T_11eb7_row23_col1\" class=\"data row23 col1\" >1</td>\n",
       "      <td id=\"T_11eb7_row23_col2\" class=\"data row23 col2\" >0.050633</td>\n",
       "    </tr>\n",
       "    <tr>\n",
       "      <th id=\"T_11eb7_level0_row24\" class=\"row_heading level0 row24\" >38</th>\n",
       "      <td id=\"T_11eb7_row24_col0\" class=\"data row24 col0\" >$8.99</td>\n",
       "      <td id=\"T_11eb7_row24_col1\" class=\"data row24 col1\" >1</td>\n",
       "      <td id=\"T_11eb7_row24_col2\" class=\"data row24 col2\" >0.050633</td>\n",
       "    </tr>\n",
       "    <tr>\n",
       "      <th id=\"T_11eb7_level0_row25\" class=\"row_heading level0 row25\" >28</th>\n",
       "      <td id=\"T_11eb7_row25_col0\" class=\"data row25 col0\" >$4.29</td>\n",
       "      <td id=\"T_11eb7_row25_col1\" class=\"data row25 col1\" >1</td>\n",
       "      <td id=\"T_11eb7_row25_col2\" class=\"data row25 col2\" >0.050633</td>\n",
       "    </tr>\n",
       "    <tr>\n",
       "      <th id=\"T_11eb7_level0_row26\" class=\"row_heading level0 row26\" >22</th>\n",
       "      <td id=\"T_11eb7_row26_col0\" class=\"data row26 col0\" >$3.04</td>\n",
       "      <td id=\"T_11eb7_row26_col1\" class=\"data row26 col1\" >1</td>\n",
       "      <td id=\"T_11eb7_row26_col2\" class=\"data row26 col2\" >0.050633</td>\n",
       "    </tr>\n",
       "    <tr>\n",
       "      <th id=\"T_11eb7_level0_row27\" class=\"row_heading level0 row27\" >26</th>\n",
       "      <td id=\"T_11eb7_row27_col0\" class=\"data row27 col0\" >$379.99</td>\n",
       "      <td id=\"T_11eb7_row27_col1\" class=\"data row27 col1\" >1</td>\n",
       "      <td id=\"T_11eb7_row27_col2\" class=\"data row27 col2\" >0.050633</td>\n",
       "    </tr>\n",
       "    <tr>\n",
       "      <th id=\"T_11eb7_level0_row28\" class=\"row_heading level0 row28\" >25</th>\n",
       "      <td id=\"T_11eb7_row28_col0\" class=\"data row28 col0\" >$33.99</td>\n",
       "      <td id=\"T_11eb7_row28_col1\" class=\"data row28 col1\" >1</td>\n",
       "      <td id=\"T_11eb7_row28_col2\" class=\"data row28 col2\" >0.050633</td>\n",
       "    </tr>\n",
       "    <tr>\n",
       "      <th id=\"T_11eb7_level0_row29\" class=\"row_heading level0 row29\" >4</th>\n",
       "      <td id=\"T_11eb7_row29_col0\" class=\"data row29 col0\" >$1.76</td>\n",
       "      <td id=\"T_11eb7_row29_col1\" class=\"data row29 col1\" >1</td>\n",
       "      <td id=\"T_11eb7_row29_col2\" class=\"data row29 col2\" >0.050633</td>\n",
       "    </tr>\n",
       "    <tr>\n",
       "      <th id=\"T_11eb7_level0_row30\" class=\"row_heading level0 row30\" >2</th>\n",
       "      <td id=\"T_11eb7_row30_col0\" class=\"data row30 col0\" >$1.59</td>\n",
       "      <td id=\"T_11eb7_row30_col1\" class=\"data row30 col1\" >1</td>\n",
       "      <td id=\"T_11eb7_row30_col2\" class=\"data row30 col2\" >0.050633</td>\n",
       "    </tr>\n",
       "    <tr>\n",
       "      <th id=\"T_11eb7_level0_row31\" class=\"row_heading level0 row31\" >18</th>\n",
       "      <td id=\"T_11eb7_row31_col0\" class=\"data row31 col0\" >$2.59</td>\n",
       "      <td id=\"T_11eb7_row31_col1\" class=\"data row31 col1\" >1</td>\n",
       "      <td id=\"T_11eb7_row31_col2\" class=\"data row31 col2\" >0.050633</td>\n",
       "    </tr>\n",
       "    <tr>\n",
       "      <th id=\"T_11eb7_level0_row32\" class=\"row_heading level0 row32\" >17</th>\n",
       "      <td id=\"T_11eb7_row32_col0\" class=\"data row32 col0\" >$2.56</td>\n",
       "      <td id=\"T_11eb7_row32_col1\" class=\"data row32 col1\" >1</td>\n",
       "      <td id=\"T_11eb7_row32_col2\" class=\"data row32 col2\" >0.050633</td>\n",
       "    </tr>\n",
       "    <tr>\n",
       "      <th id=\"T_11eb7_level0_row33\" class=\"row_heading level0 row33\" >15</th>\n",
       "      <td id=\"T_11eb7_row33_col0\" class=\"data row33 col0\" >$19.40</td>\n",
       "      <td id=\"T_11eb7_row33_col1\" class=\"data row33 col1\" >1</td>\n",
       "      <td id=\"T_11eb7_row33_col2\" class=\"data row33 col2\" >0.050633</td>\n",
       "    </tr>\n",
       "    <tr>\n",
       "      <th id=\"T_11eb7_level0_row34\" class=\"row_heading level0 row34\" >13</th>\n",
       "      <td id=\"T_11eb7_row34_col0\" class=\"data row34 col0\" >$15.99</td>\n",
       "      <td id=\"T_11eb7_row34_col1\" class=\"data row34 col1\" >1</td>\n",
       "      <td id=\"T_11eb7_row34_col2\" class=\"data row34 col2\" >0.050633</td>\n",
       "    </tr>\n",
       "    <tr>\n",
       "      <th id=\"T_11eb7_level0_row35\" class=\"row_heading level0 row35\" >12</th>\n",
       "      <td id=\"T_11eb7_row35_col0\" class=\"data row35 col0\" >$15.46</td>\n",
       "      <td id=\"T_11eb7_row35_col1\" class=\"data row35 col1\" >1</td>\n",
       "      <td id=\"T_11eb7_row35_col2\" class=\"data row35 col2\" >0.050633</td>\n",
       "    </tr>\n",
       "    <tr>\n",
       "      <th id=\"T_11eb7_level0_row36\" class=\"row_heading level0 row36\" >10</th>\n",
       "      <td id=\"T_11eb7_row36_col0\" class=\"data row36 col0\" >$14.00</td>\n",
       "      <td id=\"T_11eb7_row36_col1\" class=\"data row36 col1\" >1</td>\n",
       "      <td id=\"T_11eb7_row36_col2\" class=\"data row36 col2\" >0.050633</td>\n",
       "    </tr>\n",
       "    <tr>\n",
       "      <th id=\"T_11eb7_level0_row37\" class=\"row_heading level0 row37\" >9</th>\n",
       "      <td id=\"T_11eb7_row37_col0\" class=\"data row37 col0\" >$12.99</td>\n",
       "      <td id=\"T_11eb7_row37_col1\" class=\"data row37 col1\" >1</td>\n",
       "      <td id=\"T_11eb7_row37_col2\" class=\"data row37 col2\" >0.050633</td>\n",
       "    </tr>\n",
       "    <tr>\n",
       "      <th id=\"T_11eb7_level0_row38\" class=\"row_heading level0 row38\" >8</th>\n",
       "      <td id=\"T_11eb7_row38_col0\" class=\"data row38 col0\" >$11.99</td>\n",
       "      <td id=\"T_11eb7_row38_col1\" class=\"data row38 col1\" >1</td>\n",
       "      <td id=\"T_11eb7_row38_col2\" class=\"data row38 col2\" >0.050633</td>\n",
       "    </tr>\n",
       "    <tr>\n",
       "      <th id=\"T_11eb7_level0_row39\" class=\"row_heading level0 row39\" >5</th>\n",
       "      <td id=\"T_11eb7_row39_col0\" class=\"data row39 col0\" >$1.97</td>\n",
       "      <td id=\"T_11eb7_row39_col1\" class=\"data row39 col1\" >1</td>\n",
       "      <td id=\"T_11eb7_row39_col2\" class=\"data row39 col2\" >0.050633</td>\n",
       "    </tr>\n",
       "    <tr>\n",
       "      <th id=\"T_11eb7_level0_row40\" class=\"row_heading level0 row40\" >20</th>\n",
       "      <td id=\"T_11eb7_row40_col0\" class=\"data row40 col0\" >$24.99</td>\n",
       "      <td id=\"T_11eb7_row40_col1\" class=\"data row40 col1\" >1</td>\n",
       "      <td id=\"T_11eb7_row40_col2\" class=\"data row40 col2\" >0.050633</td>\n",
       "    </tr>\n",
       "  </tbody>\n",
       "</table>\n"
      ],
      "text/plain": [
       "<pandas.io.formats.style.Styler at 0x1b114e60d00>"
      ]
     },
     "metadata": {},
     "output_type": "display_data"
    }
   ],
   "source": [
    "## frequency 6: price\n",
    "cate_frequency(train, 'price')"
   ]
  },
  {
   "cell_type": "code",
   "execution_count": 38,
   "id": "f586f2db",
   "metadata": {},
   "outputs": [],
   "source": [
    "# ## frequency 7: size\n",
    "# cate_frequency(train, 'size')"
   ]
  },
  {
   "cell_type": "markdown",
   "id": "6c8699f0",
   "metadata": {},
   "source": [
    "#### Generate New Features based on Categorical Variables"
   ]
  },
  {
   "cell_type": "markdown",
   "id": "d99e1e42",
   "metadata": {},
   "source": [
    "###### - Function 6: Convert k/m/b to Number "
   ]
  },
  {
   "cell_type": "code",
   "execution_count": 39,
   "id": "9e3c67ec",
   "metadata": {},
   "outputs": [],
   "source": [
    "## new feature 1: size_num\n",
    "## size ---> numerical values\n",
    "## with identify col_names in the function\n",
    "# def transform(row):\n",
    "#     form = row[\"size\"][-1]\n",
    "#     if form == 'k':\n",
    "#         return float(row[\"size\"][:-1])*1000\n",
    "#     elif form == 'M':\n",
    "#         return float(row[\"size\"][:-1])*1000000\n",
    "#     else:\n",
    "#         return float(row[\"size\"])\n",
    "\n",
    "# train[\"size_num\"] = train.apply(lambda row: transform(row), axis=1)"
   ]
  },
  {
   "cell_type": "code",
   "execution_count": 40,
   "id": "452a907d",
   "metadata": {},
   "outputs": [],
   "source": [
    "## size ---> numerical values\n",
    "## with identify col_names as a parameter\n",
    "def transform(row, var):\n",
    "    form = row[var][0][-1]\n",
    "    if form == 'k':\n",
    "        return float(row[var][0][:-1])*1000\n",
    "    elif form == 'M':\n",
    "        return float(row[var][0][:-1])*1000000\n",
    "    elif form == \"B\":\n",
    "        return float(row[var][0][:-1])*1000000000\n",
    "    else:\n",
    "        return float(row[var][0])\n",
    "\n",
    "train[\"size_num\"] = train.apply(lambda row: transform(row, ['size']), axis=1)"
   ]
  },
  {
   "cell_type": "code",
   "execution_count": 41,
   "id": "96ccf609",
   "metadata": {},
   "outputs": [],
   "source": [
    "# displot function\n",
    "# sns.displot(train, x=\"size_num\")\n",
    "# sns.displot(train, x=\"size_num\", kind=\"kde\", bw_adjust=2.5)"
   ]
  },
  {
   "cell_type": "markdown",
   "id": "7e8dca28",
   "metadata": {},
   "source": [
    "###### - Function 7: Remove \"+\" sign at the end of the String"
   ]
  },
  {
   "cell_type": "code",
   "execution_count": 42,
   "id": "b4655682",
   "metadata": {},
   "outputs": [],
   "source": [
    "## new feature 2: installs_num\n",
    "# installs --> numerical\n",
    "\n",
    "## remove \"+\" sign\n",
    "def transform_install(row, var):\n",
    "    fnum = row[var][0][:-1]\n",
    "    form = int(fnum.replace(',',''))\n",
    "    return form\n",
    "\n",
    "train[\"installs_num\"] = train.apply(lambda row: transform_install(row, ['installs']), axis=1)"
   ]
  },
  {
   "cell_type": "markdown",
   "id": "a5a40417",
   "metadata": {},
   "source": [
    "###### - Function 8: Remove \"$\" sign at the beginning of the String"
   ]
  },
  {
   "cell_type": "code",
   "execution_count": 43,
   "id": "d078b453",
   "metadata": {},
   "outputs": [],
   "source": [
    "## new feature 3: price_num\n",
    "## price --> numerical\n",
    "\n",
    "## remove \"$\" sign\n",
    "def transform_p(row, var):\n",
    "    fnum = row[var][0]\n",
    "    if fnum == \"0\":\n",
    "        fnum = int(fnum)\n",
    "        return fnum\n",
    "    else: \n",
    "        fnum = fnum[1:]\n",
    "        fnum = float(fnum)\n",
    "        return fnum\n",
    "\n",
    "train[\"price_num\"] = train.apply(lambda row: transform_p(row, [\"price\"]), axis=1)"
   ]
  },
  {
   "cell_type": "markdown",
   "id": "3cdce627",
   "metadata": {},
   "source": [
    "###### - Function 9: Create Binary Price Variables"
   ]
  },
  {
   "cell_type": "code",
   "execution_count": 44,
   "id": "21e935e3",
   "metadata": {},
   "outputs": [],
   "source": [
    "## new feature 4: price_b\n",
    "## category --> binary\n",
    "\n",
    "def transform_bp(row, var):\n",
    "    \n",
    "    '''\n",
    "    transform category 0 = free, 1 = not free\n",
    "    '''\n",
    "    \n",
    "    fnum = row[var][0]\n",
    "    if fnum == \"0\":\n",
    "        fnum = int(fnum)\n",
    "        return fnum\n",
    "    else: \n",
    "        return 1\n",
    "\n",
    "train[\"price_b\"] = train.apply(lambda row: transform_bp(row, [\"price\"]), axis=1)"
   ]
  },
  {
   "cell_type": "code",
   "execution_count": 45,
   "id": "168ba506",
   "metadata": {},
   "outputs": [
    {
     "data": {
      "text/html": [
       "<style type=\"text/css\">\n",
       "#T_d7305_ caption {\n",
       "  text-align: center;\n",
       "  color: black;\n",
       "  font-size: 16px;\n",
       "  font-style: italic;\n",
       "  font-weight: bold;\n",
       "}\n",
       "</style>\n",
       "<table id=\"T_d7305_\">\n",
       "  <caption>price_b</caption>\n",
       "  <thead>\n",
       "    <tr>\n",
       "      <th class=\"blank level0\" >&nbsp;</th>\n",
       "      <th class=\"col_heading level0 col0\" >Category</th>\n",
       "      <th class=\"col_heading level0 col1\" >Count</th>\n",
       "      <th class=\"col_heading level0 col2\" >Percentage</th>\n",
       "    </tr>\n",
       "  </thead>\n",
       "  <tbody>\n",
       "    <tr>\n",
       "      <th id=\"T_d7305_level0_row0\" class=\"row_heading level0 row0\" >0</th>\n",
       "      <td id=\"T_d7305_row0_col0\" class=\"data row0 col0\" >0</td>\n",
       "      <td id=\"T_d7305_row0_col1\" class=\"data row0 col1\" >1780</td>\n",
       "      <td id=\"T_d7305_row0_col2\" class=\"data row0 col2\" >90.126582</td>\n",
       "    </tr>\n",
       "    <tr>\n",
       "      <th id=\"T_d7305_level0_row1\" class=\"row_heading level0 row1\" >1</th>\n",
       "      <td id=\"T_d7305_row1_col0\" class=\"data row1 col0\" >1</td>\n",
       "      <td id=\"T_d7305_row1_col1\" class=\"data row1 col1\" >195</td>\n",
       "      <td id=\"T_d7305_row1_col2\" class=\"data row1 col2\" >9.873418</td>\n",
       "    </tr>\n",
       "  </tbody>\n",
       "</table>\n"
      ],
      "text/plain": [
       "<pandas.io.formats.style.Styler at 0x1b10a729970>"
      ]
     },
     "metadata": {},
     "output_type": "display_data"
    }
   ],
   "source": [
    "## frequency: price_b\n",
    "cate_frequency(train, 'price_b')"
   ]
  },
  {
   "cell_type": "markdown",
   "id": "2f06d859",
   "metadata": {},
   "source": [
    "###### - Function 10: Create Binary Category Variables"
   ]
  },
  {
   "cell_type": "code",
   "execution_count": 46,
   "id": "4b48b6c5",
   "metadata": {},
   "outputs": [],
   "source": [
    "## new feature 5: category_b\n",
    "## category --> binary\n",
    "\n",
    "# def transform_bc(row, var):\n",
    "    \n",
    "#     '''\n",
    "#     transform category 0 = other, 1 = FAMILY\n",
    "#     '''\n",
    "    \n",
    "#     fcat = row[var][0]\n",
    "#     if fcat == \"FAMILY\":\n",
    "#         return 1\n",
    "#     else: \n",
    "#         return 0\n",
    "\n",
    "# train[\"category_b\"] = train.apply(lambda row: transform_bc(row, [\"category\"]), axis=1)\n",
    "\n",
    "\n",
    "def transform_bc(row, var):\n",
    "    \n",
    "    '''\n",
    "    transform category 0 = other, 1 = FAMILY, 2 = GAME,\n",
    "                       3 = TOOLS, 4 = MEDICAL, 5 = LIFESTYLE, \n",
    "                       6 = HEALTH_AND_FITNESS, 7 = FINANCE\n",
    "    '''\n",
    "    \n",
    "    fcat = row[var][0]\n",
    "    if fcat == \"FAMILY\":\n",
    "        return fcat\n",
    "    elif fcat == \"GAME\":\n",
    "        return fcat\n",
    "    elif fcat == \"TOOLS\":\n",
    "        return fcat\n",
    "    elif fcat == \"MEDICAL\":\n",
    "        return fcat\n",
    "    elif fcat == \"LIFESTYLE\":\n",
    "        return fcat\n",
    "    elif fcat == \"HEALTH_AND_FITNESS\":\n",
    "        return fcat\n",
    "    elif fcat == \"FINANCE\":\n",
    "        return fcat\n",
    "    else: \n",
    "        return 'OTHER'\n",
    "\n",
    "train[\"category_b\"] = train.apply(lambda row: transform_bc(row, [\"category\"]), axis=1)"
   ]
  },
  {
   "cell_type": "code",
   "execution_count": 47,
   "id": "bbb2a6c9",
   "metadata": {},
   "outputs": [
    {
     "data": {
      "text/html": [
       "<style type=\"text/css\">\n",
       "#T_4bfe4_ caption {\n",
       "  text-align: center;\n",
       "  color: black;\n",
       "  font-size: 16px;\n",
       "  font-style: italic;\n",
       "  font-weight: bold;\n",
       "}\n",
       "</style>\n",
       "<table id=\"T_4bfe4_\">\n",
       "  <caption>category_b</caption>\n",
       "  <thead>\n",
       "    <tr>\n",
       "      <th class=\"blank level0\" >&nbsp;</th>\n",
       "      <th class=\"col_heading level0 col0\" >Category</th>\n",
       "      <th class=\"col_heading level0 col1\" >Count</th>\n",
       "      <th class=\"col_heading level0 col2\" >Percentage</th>\n",
       "    </tr>\n",
       "  </thead>\n",
       "  <tbody>\n",
       "    <tr>\n",
       "      <th id=\"T_4bfe4_level0_row0\" class=\"row_heading level0 row0\" >6</th>\n",
       "      <td id=\"T_4bfe4_row0_col0\" class=\"data row0 col0\" >OTHER</td>\n",
       "      <td id=\"T_4bfe4_row0_col1\" class=\"data row0 col1\" >841</td>\n",
       "      <td id=\"T_4bfe4_row0_col2\" class=\"data row0 col2\" >42.582278</td>\n",
       "    </tr>\n",
       "    <tr>\n",
       "      <th id=\"T_4bfe4_level0_row1\" class=\"row_heading level0 row1\" >0</th>\n",
       "      <td id=\"T_4bfe4_row1_col0\" class=\"data row1 col0\" >FAMILY</td>\n",
       "      <td id=\"T_4bfe4_row1_col1\" class=\"data row1 col1\" >409</td>\n",
       "      <td id=\"T_4bfe4_row1_col2\" class=\"data row1 col2\" >20.708861</td>\n",
       "    </tr>\n",
       "    <tr>\n",
       "      <th id=\"T_4bfe4_level0_row2\" class=\"row_heading level0 row2\" >2</th>\n",
       "      <td id=\"T_4bfe4_row2_col0\" class=\"data row2 col0\" >GAME</td>\n",
       "      <td id=\"T_4bfe4_row2_col1\" class=\"data row2 col1\" >191</td>\n",
       "      <td id=\"T_4bfe4_row2_col2\" class=\"data row2 col2\" >9.670886</td>\n",
       "    </tr>\n",
       "    <tr>\n",
       "      <th id=\"T_4bfe4_level0_row3\" class=\"row_heading level0 row3\" >7</th>\n",
       "      <td id=\"T_4bfe4_row3_col0\" class=\"data row3 col0\" >TOOLS</td>\n",
       "      <td id=\"T_4bfe4_row3_col1\" class=\"data row3 col1\" >171</td>\n",
       "      <td id=\"T_4bfe4_row3_col2\" class=\"data row3 col2\" >8.658228</td>\n",
       "    </tr>\n",
       "    <tr>\n",
       "      <th id=\"T_4bfe4_level0_row4\" class=\"row_heading level0 row4\" >5</th>\n",
       "      <td id=\"T_4bfe4_row4_col0\" class=\"data row4 col0\" >MEDICAL</td>\n",
       "      <td id=\"T_4bfe4_row4_col1\" class=\"data row4 col1\" >106</td>\n",
       "      <td id=\"T_4bfe4_row4_col2\" class=\"data row4 col2\" >5.367089</td>\n",
       "    </tr>\n",
       "    <tr>\n",
       "      <th id=\"T_4bfe4_level0_row5\" class=\"row_heading level0 row5\" >4</th>\n",
       "      <td id=\"T_4bfe4_row5_col0\" class=\"data row5 col0\" >LIFESTYLE</td>\n",
       "      <td id=\"T_4bfe4_row5_col1\" class=\"data row5 col1\" >91</td>\n",
       "      <td id=\"T_4bfe4_row5_col2\" class=\"data row5 col2\" >4.607595</td>\n",
       "    </tr>\n",
       "    <tr>\n",
       "      <th id=\"T_4bfe4_level0_row6\" class=\"row_heading level0 row6\" >3</th>\n",
       "      <td id=\"T_4bfe4_row6_col0\" class=\"data row6 col0\" >HEALTH_AND_FITNESS</td>\n",
       "      <td id=\"T_4bfe4_row6_col1\" class=\"data row6 col1\" >84</td>\n",
       "      <td id=\"T_4bfe4_row6_col2\" class=\"data row6 col2\" >4.253165</td>\n",
       "    </tr>\n",
       "    <tr>\n",
       "      <th id=\"T_4bfe4_level0_row7\" class=\"row_heading level0 row7\" >1</th>\n",
       "      <td id=\"T_4bfe4_row7_col0\" class=\"data row7 col0\" >FINANCE</td>\n",
       "      <td id=\"T_4bfe4_row7_col1\" class=\"data row7 col1\" >82</td>\n",
       "      <td id=\"T_4bfe4_row7_col2\" class=\"data row7 col2\" >4.151899</td>\n",
       "    </tr>\n",
       "  </tbody>\n",
       "</table>\n"
      ],
      "text/plain": [
       "<pandas.io.formats.style.Styler at 0x1b114e5a520>"
      ]
     },
     "metadata": {},
     "output_type": "display_data"
    }
   ],
   "source": [
    "## frequency: category_b\n",
    "cate_frequency(train, 'category_b')"
   ]
  },
  {
   "cell_type": "markdown",
   "id": "071a119e",
   "metadata": {},
   "source": [
    "###### - Function 11: Date to Year"
   ]
  },
  {
   "cell_type": "code",
   "execution_count": 48,
   "id": "29846bf7",
   "metadata": {},
   "outputs": [],
   "source": [
    "## new feature 5: last_update_year\n",
    "## last_update date --> year\n",
    "\n",
    "## keep year\n",
    "def transform_y(row, var):\n",
    "    fnum = row[var][0][-4:]\n",
    "    fnum = int(fnum)\n",
    "    return fnum\n",
    "\n",
    "train[\"last_update_year\"] = train.apply(lambda row: transform_y(row, [\"last_update\"]), axis=1)"
   ]
  },
  {
   "cell_type": "code",
   "execution_count": 49,
   "id": "1847b359",
   "metadata": {},
   "outputs": [
    {
     "data": {
      "text/html": [
       "<style type=\"text/css\">\n",
       "#T_02523_ caption {\n",
       "  text-align: center;\n",
       "  color: black;\n",
       "  font-size: 16px;\n",
       "  font-style: italic;\n",
       "  font-weight: bold;\n",
       "}\n",
       "</style>\n",
       "<table id=\"T_02523_\">\n",
       "  <caption>last_update_year</caption>\n",
       "  <thead>\n",
       "    <tr>\n",
       "      <th class=\"blank level0\" >&nbsp;</th>\n",
       "      <th class=\"col_heading level0 col0\" >Category</th>\n",
       "      <th class=\"col_heading level0 col1\" >Count</th>\n",
       "      <th class=\"col_heading level0 col2\" >Percentage</th>\n",
       "    </tr>\n",
       "  </thead>\n",
       "  <tbody>\n",
       "    <tr>\n",
       "      <th id=\"T_02523_level0_row0\" class=\"row_heading level0 row0\" >7</th>\n",
       "      <td id=\"T_02523_row0_col0\" class=\"data row0 col0\" >2018</td>\n",
       "      <td id=\"T_02523_row0_col1\" class=\"data row0 col1\" >1306</td>\n",
       "      <td id=\"T_02523_row0_col2\" class=\"data row0 col2\" >66.126582</td>\n",
       "    </tr>\n",
       "    <tr>\n",
       "      <th id=\"T_02523_level0_row1\" class=\"row_heading level0 row1\" >6</th>\n",
       "      <td id=\"T_02523_row1_col0\" class=\"data row1 col0\" >2017</td>\n",
       "      <td id=\"T_02523_row1_col1\" class=\"data row1 col1\" >380</td>\n",
       "      <td id=\"T_02523_row1_col2\" class=\"data row1 col2\" >19.240506</td>\n",
       "    </tr>\n",
       "    <tr>\n",
       "      <th id=\"T_02523_level0_row2\" class=\"row_heading level0 row2\" >5</th>\n",
       "      <td id=\"T_02523_row2_col0\" class=\"data row2 col0\" >2016</td>\n",
       "      <td id=\"T_02523_row2_col1\" class=\"data row2 col1\" >145</td>\n",
       "      <td id=\"T_02523_row2_col2\" class=\"data row2 col2\" >7.341772</td>\n",
       "    </tr>\n",
       "    <tr>\n",
       "      <th id=\"T_02523_level0_row3\" class=\"row_heading level0 row3\" >4</th>\n",
       "      <td id=\"T_02523_row3_col0\" class=\"data row3 col0\" >2015</td>\n",
       "      <td id=\"T_02523_row3_col1\" class=\"data row3 col1\" >76</td>\n",
       "      <td id=\"T_02523_row3_col2\" class=\"data row3 col2\" >3.848101</td>\n",
       "    </tr>\n",
       "    <tr>\n",
       "      <th id=\"T_02523_level0_row4\" class=\"row_heading level0 row4\" >3</th>\n",
       "      <td id=\"T_02523_row4_col0\" class=\"data row4 col0\" >2014</td>\n",
       "      <td id=\"T_02523_row4_col1\" class=\"data row4 col1\" >43</td>\n",
       "      <td id=\"T_02523_row4_col2\" class=\"data row4 col2\" >2.177215</td>\n",
       "    </tr>\n",
       "    <tr>\n",
       "      <th id=\"T_02523_level0_row5\" class=\"row_heading level0 row5\" >2</th>\n",
       "      <td id=\"T_02523_row5_col0\" class=\"data row5 col0\" >2013</td>\n",
       "      <td id=\"T_02523_row5_col1\" class=\"data row5 col1\" >19</td>\n",
       "      <td id=\"T_02523_row5_col2\" class=\"data row5 col2\" >0.962025</td>\n",
       "    </tr>\n",
       "    <tr>\n",
       "      <th id=\"T_02523_level0_row6\" class=\"row_heading level0 row6\" >1</th>\n",
       "      <td id=\"T_02523_row6_col0\" class=\"data row6 col0\" >2012</td>\n",
       "      <td id=\"T_02523_row6_col1\" class=\"data row6 col1\" >4</td>\n",
       "      <td id=\"T_02523_row6_col2\" class=\"data row6 col2\" >0.202532</td>\n",
       "    </tr>\n",
       "    <tr>\n",
       "      <th id=\"T_02523_level0_row7\" class=\"row_heading level0 row7\" >0</th>\n",
       "      <td id=\"T_02523_row7_col0\" class=\"data row7 col0\" >2011</td>\n",
       "      <td id=\"T_02523_row7_col1\" class=\"data row7 col1\" >2</td>\n",
       "      <td id=\"T_02523_row7_col2\" class=\"data row7 col2\" >0.101266</td>\n",
       "    </tr>\n",
       "  </tbody>\n",
       "</table>\n"
      ],
      "text/plain": [
       "<pandas.io.formats.style.Styler at 0x1b10a7297f0>"
      ]
     },
     "metadata": {},
     "output_type": "display_data"
    }
   ],
   "source": [
    "## frequency: last_update_year\n",
    "cate_frequency(train, 'last_update_year')"
   ]
  },
  {
   "cell_type": "markdown",
   "id": "e1339c85",
   "metadata": {},
   "source": [
    "###### - Function 11: Version as Single Digit"
   ]
  },
  {
   "cell_type": "code",
   "execution_count": 50,
   "id": "7f0a57c5",
   "metadata": {},
   "outputs": [],
   "source": [
    "## new feature 6: latest_ver_h\n",
    "## latest_ver --> latest_ver_h\n",
    "\n",
    "## keep the first number \n",
    "\n",
    "def transform_ly(row, var):\n",
    "#     print(row[var])\n",
    "#     print(row[var][0][0])\n",
    "\n",
    "#     print(row[var].fillna(\"0.0.0\"))\n",
    "    row[var] = row[var].fillna(\"0.0.0\")\n",
    "    latest_ver = row[var][0][0]\n",
    "    fnum = str(latest_ver)[0]\n",
    "    fnum = int(fnum)\n",
    "    return fnum\n",
    "\n",
    "train[\"latest_ver_h\"] = train.apply(lambda row: transform_ly(row, [\"latest_ver\"] ), axis=1)"
   ]
  },
  {
   "cell_type": "code",
   "execution_count": 51,
   "id": "5333112a",
   "metadata": {},
   "outputs": [
    {
     "data": {
      "text/html": [
       "<style type=\"text/css\">\n",
       "#T_ebf04_ caption {\n",
       "  text-align: center;\n",
       "  color: black;\n",
       "  font-size: 16px;\n",
       "  font-style: italic;\n",
       "  font-weight: bold;\n",
       "}\n",
       "</style>\n",
       "<table id=\"T_ebf04_\">\n",
       "  <caption>latest_ver_h</caption>\n",
       "  <thead>\n",
       "    <tr>\n",
       "      <th class=\"blank level0\" >&nbsp;</th>\n",
       "      <th class=\"col_heading level0 col0\" >Category</th>\n",
       "      <th class=\"col_heading level0 col1\" >Count</th>\n",
       "      <th class=\"col_heading level0 col2\" >Percentage</th>\n",
       "    </tr>\n",
       "  </thead>\n",
       "  <tbody>\n",
       "    <tr>\n",
       "      <th id=\"T_ebf04_level0_row0\" class=\"row_heading level0 row0\" >1</th>\n",
       "      <td id=\"T_ebf04_row0_col0\" class=\"data row0 col0\" >1</td>\n",
       "      <td id=\"T_ebf04_row0_col1\" class=\"data row0 col1\" >1048</td>\n",
       "      <td id=\"T_ebf04_row0_col2\" class=\"data row0 col2\" >53.063291</td>\n",
       "    </tr>\n",
       "    <tr>\n",
       "      <th id=\"T_ebf04_level0_row1\" class=\"row_heading level0 row1\" >2</th>\n",
       "      <td id=\"T_ebf04_row1_col0\" class=\"data row1 col0\" >2</td>\n",
       "      <td id=\"T_ebf04_row1_col1\" class=\"data row1 col1\" >349</td>\n",
       "      <td id=\"T_ebf04_row1_col2\" class=\"data row1 col2\" >17.670886</td>\n",
       "    </tr>\n",
       "    <tr>\n",
       "      <th id=\"T_ebf04_level0_row2\" class=\"row_heading level0 row2\" >3</th>\n",
       "      <td id=\"T_ebf04_row2_col0\" class=\"data row2 col0\" >3</td>\n",
       "      <td id=\"T_ebf04_row2_col1\" class=\"data row2 col1\" >202</td>\n",
       "      <td id=\"T_ebf04_row2_col2\" class=\"data row2 col2\" >10.227848</td>\n",
       "    </tr>\n",
       "    <tr>\n",
       "      <th id=\"T_ebf04_level0_row3\" class=\"row_heading level0 row3\" >4</th>\n",
       "      <td id=\"T_ebf04_row3_col0\" class=\"data row3 col0\" >4</td>\n",
       "      <td id=\"T_ebf04_row3_col1\" class=\"data row3 col1\" >126</td>\n",
       "      <td id=\"T_ebf04_row3_col2\" class=\"data row3 col2\" >6.379747</td>\n",
       "    </tr>\n",
       "    <tr>\n",
       "      <th id=\"T_ebf04_level0_row4\" class=\"row_heading level0 row4\" >5</th>\n",
       "      <td id=\"T_ebf04_row4_col0\" class=\"data row4 col0\" >5</td>\n",
       "      <td id=\"T_ebf04_row4_col1\" class=\"data row4 col1\" >94</td>\n",
       "      <td id=\"T_ebf04_row4_col2\" class=\"data row4 col2\" >4.759494</td>\n",
       "    </tr>\n",
       "    <tr>\n",
       "      <th id=\"T_ebf04_level0_row5\" class=\"row_heading level0 row5\" >6</th>\n",
       "      <td id=\"T_ebf04_row5_col0\" class=\"data row5 col0\" >6</td>\n",
       "      <td id=\"T_ebf04_row5_col1\" class=\"data row5 col1\" >47</td>\n",
       "      <td id=\"T_ebf04_row5_col2\" class=\"data row5 col2\" >2.379747</td>\n",
       "    </tr>\n",
       "    <tr>\n",
       "      <th id=\"T_ebf04_level0_row6\" class=\"row_heading level0 row6\" >0</th>\n",
       "      <td id=\"T_ebf04_row6_col0\" class=\"data row6 col0\" >0</td>\n",
       "      <td id=\"T_ebf04_row6_col1\" class=\"data row6 col1\" >40</td>\n",
       "      <td id=\"T_ebf04_row6_col2\" class=\"data row6 col2\" >2.025316</td>\n",
       "    </tr>\n",
       "    <tr>\n",
       "      <th id=\"T_ebf04_level0_row7\" class=\"row_heading level0 row7\" >8</th>\n",
       "      <td id=\"T_ebf04_row7_col0\" class=\"data row7 col0\" >8</td>\n",
       "      <td id=\"T_ebf04_row7_col1\" class=\"data row7 col1\" >30</td>\n",
       "      <td id=\"T_ebf04_row7_col2\" class=\"data row7 col2\" >1.518987</td>\n",
       "    </tr>\n",
       "    <tr>\n",
       "      <th id=\"T_ebf04_level0_row8\" class=\"row_heading level0 row8\" >7</th>\n",
       "      <td id=\"T_ebf04_row8_col0\" class=\"data row8 col0\" >7</td>\n",
       "      <td id=\"T_ebf04_row8_col1\" class=\"data row8 col1\" >28</td>\n",
       "      <td id=\"T_ebf04_row8_col2\" class=\"data row8 col2\" >1.417722</td>\n",
       "    </tr>\n",
       "    <tr>\n",
       "      <th id=\"T_ebf04_level0_row9\" class=\"row_heading level0 row9\" >9</th>\n",
       "      <td id=\"T_ebf04_row9_col0\" class=\"data row9 col0\" >9</td>\n",
       "      <td id=\"T_ebf04_row9_col1\" class=\"data row9 col1\" >11</td>\n",
       "      <td id=\"T_ebf04_row9_col2\" class=\"data row9 col2\" >0.556962</td>\n",
       "    </tr>\n",
       "  </tbody>\n",
       "</table>\n"
      ],
      "text/plain": [
       "<pandas.io.formats.style.Styler at 0x1b114f5f7f0>"
      ]
     },
     "metadata": {},
     "output_type": "display_data"
    }
   ],
   "source": [
    "## frequency: latest_ver_h\n",
    "cate_frequency(train, 'latest_ver_h')"
   ]
  },
  {
   "cell_type": "markdown",
   "id": "47e1b556",
   "metadata": {},
   "source": [
    "###### Explore Modified Training Data Set"
   ]
  },
  {
   "cell_type": "code",
   "execution_count": 52,
   "id": "8bc9af05",
   "metadata": {},
   "outputs": [
    {
     "data": {
      "text/html": [
       "<div>\n",
       "<style scoped>\n",
       "    .dataframe tbody tr th:only-of-type {\n",
       "        vertical-align: middle;\n",
       "    }\n",
       "\n",
       "    .dataframe tbody tr th {\n",
       "        vertical-align: top;\n",
       "    }\n",
       "\n",
       "    .dataframe thead th {\n",
       "        text-align: right;\n",
       "    }\n",
       "</style>\n",
       "<table border=\"1\" class=\"dataframe\">\n",
       "  <thead>\n",
       "    <tr style=\"text-align: right;\">\n",
       "      <th></th>\n",
       "      <th>app_id</th>\n",
       "      <th>category</th>\n",
       "      <th>reviews</th>\n",
       "      <th>size</th>\n",
       "      <th>installs</th>\n",
       "      <th>price</th>\n",
       "      <th>suitable_for</th>\n",
       "      <th>last_update</th>\n",
       "      <th>latest_ver</th>\n",
       "      <th>popularity</th>\n",
       "      <th>review_c</th>\n",
       "      <th>review_log</th>\n",
       "      <th>popularity_b</th>\n",
       "      <th>size_num</th>\n",
       "      <th>installs_num</th>\n",
       "      <th>price_num</th>\n",
       "      <th>price_b</th>\n",
       "      <th>category_b</th>\n",
       "      <th>last_update_year</th>\n",
       "      <th>latest_ver_h</th>\n",
       "    </tr>\n",
       "  </thead>\n",
       "  <tbody>\n",
       "    <tr>\n",
       "      <th>0</th>\n",
       "      <td>330090</td>\n",
       "      <td>PERSONALIZATION</td>\n",
       "      <td>4</td>\n",
       "      <td>511k</td>\n",
       "      <td>50+</td>\n",
       "      <td>0</td>\n",
       "      <td>Everyone</td>\n",
       "      <td>December 31, 2016</td>\n",
       "      <td>1.4</td>\n",
       "      <td>High</td>\n",
       "      <td>0</td>\n",
       "      <td>2.000000</td>\n",
       "      <td>1</td>\n",
       "      <td>511000.0</td>\n",
       "      <td>50</td>\n",
       "      <td>0.00</td>\n",
       "      <td>0</td>\n",
       "      <td>OTHER</td>\n",
       "      <td>2016</td>\n",
       "      <td>1</td>\n",
       "    </tr>\n",
       "    <tr>\n",
       "      <th>1</th>\n",
       "      <td>226147</td>\n",
       "      <td>GAME</td>\n",
       "      <td>568391</td>\n",
       "      <td>5.2M</td>\n",
       "      <td>5,000,000+</td>\n",
       "      <td>0</td>\n",
       "      <td>Teen</td>\n",
       "      <td>July 1, 2014</td>\n",
       "      <td>4.3.1</td>\n",
       "      <td>High</td>\n",
       "      <td>1000</td>\n",
       "      <td>19.116524</td>\n",
       "      <td>1</td>\n",
       "      <td>5200000.0</td>\n",
       "      <td>5000000</td>\n",
       "      <td>0.00</td>\n",
       "      <td>0</td>\n",
       "      <td>GAME</td>\n",
       "      <td>2014</td>\n",
       "      <td>4</td>\n",
       "    </tr>\n",
       "    <tr>\n",
       "      <th>2</th>\n",
       "      <td>107000</td>\n",
       "      <td>FAMILY</td>\n",
       "      <td>144</td>\n",
       "      <td>70M</td>\n",
       "      <td>1,000+</td>\n",
       "      <td>$2.99</td>\n",
       "      <td>Teen</td>\n",
       "      <td>January 26, 2018</td>\n",
       "      <td>1.0.0</td>\n",
       "      <td>High</td>\n",
       "      <td>10</td>\n",
       "      <td>7.169925</td>\n",
       "      <td>1</td>\n",
       "      <td>70000000.0</td>\n",
       "      <td>1000</td>\n",
       "      <td>2.99</td>\n",
       "      <td>1</td>\n",
       "      <td>FAMILY</td>\n",
       "      <td>2018</td>\n",
       "      <td>1</td>\n",
       "    </tr>\n",
       "    <tr>\n",
       "      <th>3</th>\n",
       "      <td>217582</td>\n",
       "      <td>FAMILY</td>\n",
       "      <td>1499466</td>\n",
       "      <td>96M</td>\n",
       "      <td>10,000,000+</td>\n",
       "      <td>0</td>\n",
       "      <td>Teen</td>\n",
       "      <td>July 24, 2018</td>\n",
       "      <td>1.25.0</td>\n",
       "      <td>High</td>\n",
       "      <td>50000</td>\n",
       "      <td>20.516017</td>\n",
       "      <td>1</td>\n",
       "      <td>96000000.0</td>\n",
       "      <td>10000000</td>\n",
       "      <td>0.00</td>\n",
       "      <td>0</td>\n",
       "      <td>FAMILY</td>\n",
       "      <td>2018</td>\n",
       "      <td>1</td>\n",
       "    </tr>\n",
       "    <tr>\n",
       "      <th>4</th>\n",
       "      <td>370113</td>\n",
       "      <td>DATING</td>\n",
       "      <td>84</td>\n",
       "      <td>4.5M</td>\n",
       "      <td>1,000+</td>\n",
       "      <td>0</td>\n",
       "      <td>Mature 17+</td>\n",
       "      <td>July 6, 2018</td>\n",
       "      <td>8.2</td>\n",
       "      <td>High</td>\n",
       "      <td>0</td>\n",
       "      <td>6.392317</td>\n",
       "      <td>1</td>\n",
       "      <td>4500000.0</td>\n",
       "      <td>1000</td>\n",
       "      <td>0.00</td>\n",
       "      <td>0</td>\n",
       "      <td>OTHER</td>\n",
       "      <td>2018</td>\n",
       "      <td>8</td>\n",
       "    </tr>\n",
       "  </tbody>\n",
       "</table>\n",
       "</div>"
      ],
      "text/plain": [
       "   app_id         category  reviews  size     installs  price suitable_for  \\\n",
       "0  330090  PERSONALIZATION        4  511k          50+      0     Everyone   \n",
       "1  226147             GAME   568391  5.2M   5,000,000+      0         Teen   \n",
       "2  107000           FAMILY      144   70M       1,000+  $2.99         Teen   \n",
       "3  217582           FAMILY  1499466   96M  10,000,000+      0         Teen   \n",
       "4  370113           DATING       84  4.5M       1,000+      0   Mature 17+   \n",
       "\n",
       "         last_update latest_ver popularity  review_c  review_log popularity_b  \\\n",
       "0  December 31, 2016        1.4       High         0    2.000000            1   \n",
       "1       July 1, 2014      4.3.1       High      1000   19.116524            1   \n",
       "2   January 26, 2018      1.0.0       High        10    7.169925            1   \n",
       "3      July 24, 2018     1.25.0       High     50000   20.516017            1   \n",
       "4       July 6, 2018        8.2       High         0    6.392317            1   \n",
       "\n",
       "     size_num  installs_num  price_num  price_b category_b  last_update_year  \\\n",
       "0    511000.0            50       0.00        0      OTHER              2016   \n",
       "1   5200000.0       5000000       0.00        0       GAME              2014   \n",
       "2  70000000.0          1000       2.99        1     FAMILY              2018   \n",
       "3  96000000.0      10000000       0.00        0     FAMILY              2018   \n",
       "4   4500000.0          1000       0.00        0      OTHER              2018   \n",
       "\n",
       "   latest_ver_h  \n",
       "0             1  \n",
       "1             4  \n",
       "2             1  \n",
       "3             1  \n",
       "4             8  "
      ]
     },
     "execution_count": 52,
     "metadata": {},
     "output_type": "execute_result"
    }
   ],
   "source": [
    "train.head()"
   ]
  },
  {
   "cell_type": "code",
   "execution_count": 53,
   "id": "d11538c6",
   "metadata": {},
   "outputs": [
    {
     "name": "stdout",
     "output_type": "stream",
     "text": [
      "Number of columns: 20\n"
     ]
    }
   ],
   "source": [
    "## check the size of the variables\n",
    "# print(\"Number of rows:\", train.shape[0])\n",
    "print(\"Number of columns:\", train.shape[1])"
   ]
  },
  {
   "cell_type": "code",
   "execution_count": 54,
   "id": "8b878f0c",
   "metadata": {},
   "outputs": [
    {
     "data": {
      "text/plain": [
       "app_id              0\n",
       "category            0\n",
       "reviews             0\n",
       "size                0\n",
       "installs            0\n",
       "price               0\n",
       "suitable_for        0\n",
       "last_update         0\n",
       "latest_ver          4\n",
       "popularity          0\n",
       "review_c            0\n",
       "review_log          0\n",
       "popularity_b        0\n",
       "size_num            0\n",
       "installs_num        0\n",
       "price_num           0\n",
       "price_b             0\n",
       "category_b          0\n",
       "last_update_year    0\n",
       "latest_ver_h        0\n",
       "dtype: int64"
      ]
     },
     "execution_count": 54,
     "metadata": {},
     "output_type": "execute_result"
    }
   ],
   "source": [
    "train.isna().sum()"
   ]
  },
  {
   "cell_type": "code",
   "execution_count": 55,
   "id": "34f607a9",
   "metadata": {},
   "outputs": [
    {
     "data": {
      "text/plain": [
       "Index(['app_id', 'category', 'reviews', 'size', 'installs', 'price',\n",
       "       'suitable_for', 'last_update', 'latest_ver', 'popularity', 'review_c',\n",
       "       'review_log', 'popularity_b', 'size_num', 'installs_num', 'price_num',\n",
       "       'price_b', 'category_b', 'last_update_year', 'latest_ver_h'],\n",
       "      dtype='object')"
      ]
     },
     "execution_count": 55,
     "metadata": {},
     "output_type": "execute_result"
    }
   ],
   "source": [
    "## explore columns\n",
    "train.columns"
   ]
  },
  {
   "cell_type": "code",
   "execution_count": 56,
   "id": "0a9d1101",
   "metadata": {},
   "outputs": [
    {
     "name": "stdout",
     "output_type": "stream",
     "text": [
      "<class 'pandas.core.frame.DataFrame'>\n",
      "RangeIndex: 1975 entries, 0 to 1974\n",
      "Data columns (total 20 columns):\n",
      " #   Column            Non-Null Count  Dtype  \n",
      "---  ------            --------------  -----  \n",
      " 0   app_id            1975 non-null   int64  \n",
      " 1   category          1975 non-null   object \n",
      " 2   reviews           1975 non-null   int64  \n",
      " 3   size              1975 non-null   object \n",
      " 4   installs          1975 non-null   object \n",
      " 5   price             1975 non-null   object \n",
      " 6   suitable_for      1975 non-null   object \n",
      " 7   last_update       1975 non-null   object \n",
      " 8   latest_ver        1971 non-null   object \n",
      " 9   popularity        1975 non-null   object \n",
      " 10  review_c          1975 non-null   int32  \n",
      " 11  review_log        1975 non-null   float64\n",
      " 12  popularity_b      1975 non-null   object \n",
      " 13  size_num          1975 non-null   float64\n",
      " 14  installs_num      1975 non-null   int64  \n",
      " 15  price_num         1975 non-null   float64\n",
      " 16  price_b           1975 non-null   int64  \n",
      " 17  category_b        1975 non-null   object \n",
      " 18  last_update_year  1975 non-null   int64  \n",
      " 19  latest_ver_h      1975 non-null   int64  \n",
      "dtypes: float64(3), int32(1), int64(6), object(10)\n",
      "memory usage: 301.0+ KB\n"
     ]
    }
   ],
   "source": [
    "## check data type\n",
    "train.info()"
   ]
  },
  {
   "cell_type": "code",
   "execution_count": 57,
   "id": "ece14cd3",
   "metadata": {},
   "outputs": [],
   "source": [
    "## update list of categorical variables\n",
    "var_list_c = train.select_dtypes(include = [\"object\", \"category\"]).columns\n",
    "var_list_n = train.select_dtypes(include = [\"int64\", \"float64\"]).columns"
   ]
  },
  {
   "cell_type": "code",
   "execution_count": 58,
   "id": "cec5d4c0",
   "metadata": {},
   "outputs": [
    {
     "data": {
      "text/html": [
       "<div>\n",
       "<style scoped>\n",
       "    .dataframe tbody tr th:only-of-type {\n",
       "        vertical-align: middle;\n",
       "    }\n",
       "\n",
       "    .dataframe tbody tr th {\n",
       "        vertical-align: top;\n",
       "    }\n",
       "\n",
       "    .dataframe thead th {\n",
       "        text-align: right;\n",
       "    }\n",
       "</style>\n",
       "<table border=\"1\" class=\"dataframe\">\n",
       "  <thead>\n",
       "    <tr style=\"text-align: right;\">\n",
       "      <th></th>\n",
       "      <th>Variable</th>\n",
       "      <th>Median</th>\n",
       "      <th>Mean</th>\n",
       "      <th>Standard Deviation</th>\n",
       "      <th>Minimum</th>\n",
       "      <th>Maximum</th>\n",
       "      <th>Range</th>\n",
       "      <th>Kurtosis</th>\n",
       "      <th>Skewness</th>\n",
       "    </tr>\n",
       "  </thead>\n",
       "  <tbody>\n",
       "    <tr>\n",
       "      <th>0</th>\n",
       "      <td>app_id</td>\n",
       "      <td>4.818670e+05</td>\n",
       "      <td>4.906858e+05</td>\n",
       "      <td>2.880260e+05</td>\n",
       "      <td>1160.0</td>\n",
       "      <td>9.992180e+05</td>\n",
       "      <td>9.980580e+05</td>\n",
       "      <td>-1.190782</td>\n",
       "      <td>0.034026</td>\n",
       "    </tr>\n",
       "    <tr>\n",
       "      <th>1</th>\n",
       "      <td>reviews</td>\n",
       "      <td>5.160000e+02</td>\n",
       "      <td>1.988162e+05</td>\n",
       "      <td>1.493712e+06</td>\n",
       "      <td>1.0</td>\n",
       "      <td>4.489172e+07</td>\n",
       "      <td>4.489172e+07</td>\n",
       "      <td>476.676102</td>\n",
       "      <td>18.911591</td>\n",
       "    </tr>\n",
       "    <tr>\n",
       "      <th>2</th>\n",
       "      <td>review_log</td>\n",
       "      <td>9.011227e+00</td>\n",
       "      <td>9.615534e+00</td>\n",
       "      <td>5.579493e+00</td>\n",
       "      <td>0.0</td>\n",
       "      <td>2.541995e+01</td>\n",
       "      <td>2.541995e+01</td>\n",
       "      <td>-0.853877</td>\n",
       "      <td>0.274244</td>\n",
       "    </tr>\n",
       "    <tr>\n",
       "      <th>3</th>\n",
       "      <td>size_num</td>\n",
       "      <td>1.200000e+07</td>\n",
       "      <td>2.040177e+07</td>\n",
       "      <td>2.195124e+07</td>\n",
       "      <td>29000.0</td>\n",
       "      <td>1.000000e+08</td>\n",
       "      <td>9.997100e+07</td>\n",
       "      <td>2.584147</td>\n",
       "      <td>1.713451</td>\n",
       "    </tr>\n",
       "    <tr>\n",
       "      <th>4</th>\n",
       "      <td>installs_num</td>\n",
       "      <td>5.000000e+04</td>\n",
       "      <td>3.818420e+06</td>\n",
       "      <td>2.619349e+07</td>\n",
       "      <td>1.0</td>\n",
       "      <td>1.000000e+09</td>\n",
       "      <td>1.000000e+09</td>\n",
       "      <td>1059.181291</td>\n",
       "      <td>28.678375</td>\n",
       "    </tr>\n",
       "    <tr>\n",
       "      <th>5</th>\n",
       "      <td>price_num</td>\n",
       "      <td>0.000000e+00</td>\n",
       "      <td>8.585823e-01</td>\n",
       "      <td>1.268694e+01</td>\n",
       "      <td>0.0</td>\n",
       "      <td>3.999900e+02</td>\n",
       "      <td>3.999900e+02</td>\n",
       "      <td>897.620909</td>\n",
       "      <td>29.436043</td>\n",
       "    </tr>\n",
       "    <tr>\n",
       "      <th>6</th>\n",
       "      <td>price_b</td>\n",
       "      <td>0.000000e+00</td>\n",
       "      <td>9.873418e-02</td>\n",
       "      <td>2.983048e-01</td>\n",
       "      <td>0.0</td>\n",
       "      <td>1.000000e+00</td>\n",
       "      <td>1.000000e+00</td>\n",
       "      <td>5.237756</td>\n",
       "      <td>2.690308</td>\n",
       "    </tr>\n",
       "    <tr>\n",
       "      <th>7</th>\n",
       "      <td>last_update_year</td>\n",
       "      <td>2.018000e+03</td>\n",
       "      <td>2.017391e+03</td>\n",
       "      <td>1.082949e+00</td>\n",
       "      <td>2011.0</td>\n",
       "      <td>2.018000e+03</td>\n",
       "      <td>7.000000e+00</td>\n",
       "      <td>5.348039</td>\n",
       "      <td>-2.228587</td>\n",
       "    </tr>\n",
       "    <tr>\n",
       "      <th>8</th>\n",
       "      <td>latest_ver_h</td>\n",
       "      <td>1.000000e+00</td>\n",
       "      <td>2.097722e+00</td>\n",
       "      <td>1.715475e+00</td>\n",
       "      <td>0.0</td>\n",
       "      <td>9.000000e+00</td>\n",
       "      <td>9.000000e+00</td>\n",
       "      <td>2.799400</td>\n",
       "      <td>1.748669</td>\n",
       "    </tr>\n",
       "  </tbody>\n",
       "</table>\n",
       "</div>"
      ],
      "text/plain": [
       "           Variable        Median          Mean  Standard Deviation  Minimum  \\\n",
       "0            app_id  4.818670e+05  4.906858e+05        2.880260e+05   1160.0   \n",
       "1           reviews  5.160000e+02  1.988162e+05        1.493712e+06      1.0   \n",
       "2        review_log  9.011227e+00  9.615534e+00        5.579493e+00      0.0   \n",
       "3          size_num  1.200000e+07  2.040177e+07        2.195124e+07  29000.0   \n",
       "4      installs_num  5.000000e+04  3.818420e+06        2.619349e+07      1.0   \n",
       "5         price_num  0.000000e+00  8.585823e-01        1.268694e+01      0.0   \n",
       "6           price_b  0.000000e+00  9.873418e-02        2.983048e-01      0.0   \n",
       "7  last_update_year  2.018000e+03  2.017391e+03        1.082949e+00   2011.0   \n",
       "8      latest_ver_h  1.000000e+00  2.097722e+00        1.715475e+00      0.0   \n",
       "\n",
       "        Maximum         Range     Kurtosis   Skewness  \n",
       "0  9.992180e+05  9.980580e+05    -1.190782   0.034026  \n",
       "1  4.489172e+07  4.489172e+07   476.676102  18.911591  \n",
       "2  2.541995e+01  2.541995e+01    -0.853877   0.274244  \n",
       "3  1.000000e+08  9.997100e+07     2.584147   1.713451  \n",
       "4  1.000000e+09  1.000000e+09  1059.181291  28.678375  \n",
       "5  3.999900e+02  3.999900e+02   897.620909  29.436043  \n",
       "6  1.000000e+00  1.000000e+00     5.237756   2.690308  \n",
       "7  2.018000e+03  7.000000e+00     5.348039  -2.228587  \n",
       "8  9.000000e+00  9.000000e+00     2.799400   1.748669  "
      ]
     },
     "metadata": {},
     "output_type": "display_data"
    }
   ],
   "source": [
    "## check numerical variables again\n",
    "# train[var_list_n].describe\n",
    "display(pd.DataFrame(num_descriptive(train, var_list_n)))"
   ]
  },
  {
   "cell_type": "code",
   "execution_count": 59,
   "id": "ac0ea458",
   "metadata": {},
   "outputs": [
    {
     "data": {
      "image/png": "[encoded data removed]",
      "text/plain": [
       "<Figure size 1080x1296 with 10 Axes>"
      ]
     },
     "metadata": {
      "needs_background": "light"
     },
     "output_type": "display_data"
    }
   ],
   "source": [
    "num_dist(train, var_list_n)"
   ]
  },
  {
   "cell_type": "code",
   "execution_count": 60,
   "id": "5e8c21a4",
   "metadata": {},
   "outputs": [
    {
     "data": {
      "text/html": [
       "<div>\n",
       "<style scoped>\n",
       "    .dataframe tbody tr th:only-of-type {\n",
       "        vertical-align: middle;\n",
       "    }\n",
       "\n",
       "    .dataframe tbody tr th {\n",
       "        vertical-align: top;\n",
       "    }\n",
       "\n",
       "    .dataframe thead th {\n",
       "        text-align: right;\n",
       "    }\n",
       "</style>\n",
       "<table border=\"1\" class=\"dataframe\">\n",
       "  <thead>\n",
       "    <tr style=\"text-align: right;\">\n",
       "      <th></th>\n",
       "      <th>category</th>\n",
       "      <th>size</th>\n",
       "      <th>installs</th>\n",
       "      <th>price</th>\n",
       "      <th>suitable_for</th>\n",
       "      <th>last_update</th>\n",
       "      <th>latest_ver</th>\n",
       "      <th>popularity</th>\n",
       "      <th>popularity_b</th>\n",
       "      <th>category_b</th>\n",
       "    </tr>\n",
       "  </thead>\n",
       "  <tbody>\n",
       "    <tr>\n",
       "      <th>count</th>\n",
       "      <td>1975</td>\n",
       "      <td>1975</td>\n",
       "      <td>1975</td>\n",
       "      <td>1975</td>\n",
       "      <td>1975</td>\n",
       "      <td>1975</td>\n",
       "      <td>1971</td>\n",
       "      <td>1975</td>\n",
       "      <td>1975</td>\n",
       "      <td>1975</td>\n",
       "    </tr>\n",
       "    <tr>\n",
       "      <th>unique</th>\n",
       "      <td>33</td>\n",
       "      <td>229</td>\n",
       "      <td>18</td>\n",
       "      <td>41</td>\n",
       "      <td>4</td>\n",
       "      <td>669</td>\n",
       "      <td>922</td>\n",
       "      <td>2</td>\n",
       "      <td>2</td>\n",
       "      <td>8</td>\n",
       "    </tr>\n",
       "    <tr>\n",
       "      <th>top</th>\n",
       "      <td>FAMILY</td>\n",
       "      <td>12M</td>\n",
       "      <td>10,000+</td>\n",
       "      <td>0</td>\n",
       "      <td>Everyone</td>\n",
       "      <td>August 3, 2018</td>\n",
       "      <td>1.0</td>\n",
       "      <td>High</td>\n",
       "      <td>1</td>\n",
       "      <td>OTHER</td>\n",
       "    </tr>\n",
       "    <tr>\n",
       "      <th>freq</th>\n",
       "      <td>409</td>\n",
       "      <td>53</td>\n",
       "      <td>275</td>\n",
       "      <td>1780</td>\n",
       "      <td>1641</td>\n",
       "      <td>56</td>\n",
       "      <td>157</td>\n",
       "      <td>1450</td>\n",
       "      <td>1450</td>\n",
       "      <td>841</td>\n",
       "    </tr>\n",
       "  </tbody>\n",
       "</table>\n",
       "</div>"
      ],
      "text/plain": [
       "       category  size installs price suitable_for     last_update latest_ver  \\\n",
       "count      1975  1975     1975  1975         1975            1975       1971   \n",
       "unique       33   229       18    41            4             669        922   \n",
       "top      FAMILY   12M  10,000+     0     Everyone  August 3, 2018        1.0   \n",
       "freq        409    53      275  1780         1641              56        157   \n",
       "\n",
       "       popularity popularity_b category_b  \n",
       "count        1975         1975       1975  \n",
       "unique          2            2          8  \n",
       "top          High            1      OTHER  \n",
       "freq         1450         1450        841  "
      ]
     },
     "execution_count": 60,
     "metadata": {},
     "output_type": "execute_result"
    }
   ],
   "source": [
    "## check categorical variables again\n",
    "train[var_list_c].describe()"
   ]
  },
  {
   "cell_type": "markdown",
   "id": "f2d60805",
   "metadata": {},
   "source": [
    "## Data Wrangling & Visualization (Testing Set)"
   ]
  },
  {
   "cell_type": "code",
   "execution_count": 61,
   "id": "b4d1c218",
   "metadata": {},
   "outputs": [],
   "source": [
    "## load training data\n",
    "test = pd.read_csv(\"I:/3. Application/External_Application/Intern/Data/2022 Data/2022 IBM/Data Challenge/test.csv\")"
   ]
  },
  {
   "cell_type": "code",
   "execution_count": 62,
   "id": "083decf6",
   "metadata": {},
   "outputs": [],
   "source": [
    "## create new variables\n",
    "\n",
    "## new variable 1: 'review_c'\n",
    "# test['review_c'] = pd.cut(test.reviews, bins = [0,100,10000,100000,1000000,50000000],\n",
    "#                            labels = ['0.1k','10k','100k','1m','50m'])\n",
    "\n",
    "test['review_c'] = pd.cut(test.reviews, bins = [0,100,10000,100000,1000000,50000000],\n",
    "                           labels = [0.1, 10, 100, 1000, 50000])\n",
    "test['review_c'] = test['review_c'].astype(int)\n",
    "\n",
    "## new variable 2: 'review_log'\n",
    "test['review_log'] = np.log2(test['reviews'])\n",
    "\n",
    "## new variable 3: 'size_num'\n",
    "test[\"size_num\"] = test.apply(lambda row: transform(row, ['size']), axis=1)\n",
    "\n",
    "## new variable 4: 'installs_num'\n",
    "test[\"installs_num\"] = test.apply(lambda row: transform_install(row, ['installs']), axis=1)\n",
    "\n",
    "## new variable 5: 'price_num'\n",
    "test[\"price_num\"] = test.apply(lambda row: transform_p(row, [\"price\"]), axis=1)\n",
    "\n",
    "## new variable 6: 'price_b'\n",
    "test[\"price_b\"] = test.apply(lambda row: transform_bp(row, [\"price\"]), axis=1)\n",
    "\n",
    "## new variable 7: 'last_update_year'\n",
    "test[\"last_update_year\"] = test.apply(lambda row: transform_y(row, [\"last_update\"]), axis=1)\n",
    "\n",
    "## new variable 8: 'latest_ver_h'\n",
    "test[\"latest_ver_h\"] = test.apply(lambda row: transform_ly(row, [\"latest_ver\"]), axis=1)\n",
    "\n",
    "## new variable 9: 'category_b'\n",
    "test[\"category_b\"] = test.apply(lambda row: transform_bc(row, [\"category\"]), axis=1)"
   ]
  },
  {
   "cell_type": "code",
   "execution_count": 63,
   "id": "51caa7f0",
   "metadata": {},
   "outputs": [
    {
     "name": "stdout",
     "output_type": "stream",
     "text": [
      "Number of rows: 1018\n",
      "Number of columns: 18\n"
     ]
    }
   ],
   "source": [
    "## check the size of the dataset\n",
    "print(\"Number of rows:\", test.shape[0])\n",
    "print(\"Number of columns:\", test.shape[1])"
   ]
  },
  {
   "cell_type": "code",
   "execution_count": 64,
   "id": "d9f81b7c",
   "metadata": {},
   "outputs": [
    {
     "data": {
      "text/html": [
       "<div>\n",
       "<style scoped>\n",
       "    .dataframe tbody tr th:only-of-type {\n",
       "        vertical-align: middle;\n",
       "    }\n",
       "\n",
       "    .dataframe tbody tr th {\n",
       "        vertical-align: top;\n",
       "    }\n",
       "\n",
       "    .dataframe thead th {\n",
       "        text-align: right;\n",
       "    }\n",
       "</style>\n",
       "<table border=\"1\" class=\"dataframe\">\n",
       "  <thead>\n",
       "    <tr style=\"text-align: right;\">\n",
       "      <th></th>\n",
       "      <th>app_id</th>\n",
       "      <th>category</th>\n",
       "      <th>reviews</th>\n",
       "      <th>size</th>\n",
       "      <th>installs</th>\n",
       "      <th>price</th>\n",
       "      <th>suitable_for</th>\n",
       "      <th>last_update</th>\n",
       "      <th>latest_ver</th>\n",
       "      <th>review_c</th>\n",
       "      <th>review_log</th>\n",
       "      <th>size_num</th>\n",
       "      <th>installs_num</th>\n",
       "      <th>price_num</th>\n",
       "      <th>price_b</th>\n",
       "      <th>last_update_year</th>\n",
       "      <th>latest_ver_h</th>\n",
       "      <th>category_b</th>\n",
       "    </tr>\n",
       "  </thead>\n",
       "  <tbody>\n",
       "    <tr>\n",
       "      <th>0</th>\n",
       "      <td>144236</td>\n",
       "      <td>TOOLS</td>\n",
       "      <td>262076</td>\n",
       "      <td>1.2M</td>\n",
       "      <td>10,000,000+</td>\n",
       "      <td>0</td>\n",
       "      <td>Everyone</td>\n",
       "      <td>January 4, 2018</td>\n",
       "      <td>1.0.2</td>\n",
       "      <td>1000</td>\n",
       "      <td>17.999626</td>\n",
       "      <td>1200000.0</td>\n",
       "      <td>10000000</td>\n",
       "      <td>0.0</td>\n",
       "      <td>0</td>\n",
       "      <td>2018</td>\n",
       "      <td>1</td>\n",
       "      <td>TOOLS</td>\n",
       "    </tr>\n",
       "    <tr>\n",
       "      <th>1</th>\n",
       "      <td>881323</td>\n",
       "      <td>PHOTOGRAPHY</td>\n",
       "      <td>12204</td>\n",
       "      <td>6.8M</td>\n",
       "      <td>1,000,000+</td>\n",
       "      <td>0</td>\n",
       "      <td>Everyone</td>\n",
       "      <td>March 14, 2017</td>\n",
       "      <td>1.5.2.21</td>\n",
       "      <td>100</td>\n",
       "      <td>13.575066</td>\n",
       "      <td>6800000.0</td>\n",
       "      <td>1000000</td>\n",
       "      <td>0.0</td>\n",
       "      <td>0</td>\n",
       "      <td>2017</td>\n",
       "      <td>1</td>\n",
       "      <td>OTHER</td>\n",
       "    </tr>\n",
       "    <tr>\n",
       "      <th>2</th>\n",
       "      <td>765524</td>\n",
       "      <td>TOOLS</td>\n",
       "      <td>632</td>\n",
       "      <td>8.2M</td>\n",
       "      <td>500,000+</td>\n",
       "      <td>0</td>\n",
       "      <td>Everyone</td>\n",
       "      <td>May 23, 2017</td>\n",
       "      <td>1.0</td>\n",
       "      <td>10</td>\n",
       "      <td>9.303781</td>\n",
       "      <td>8200000.0</td>\n",
       "      <td>500000</td>\n",
       "      <td>0.0</td>\n",
       "      <td>0</td>\n",
       "      <td>2017</td>\n",
       "      <td>1</td>\n",
       "      <td>TOOLS</td>\n",
       "    </tr>\n",
       "    <tr>\n",
       "      <th>3</th>\n",
       "      <td>390533</td>\n",
       "      <td>BUSINESS</td>\n",
       "      <td>29</td>\n",
       "      <td>16M</td>\n",
       "      <td>500+</td>\n",
       "      <td>0</td>\n",
       "      <td>Everyone</td>\n",
       "      <td>July 5, 2018</td>\n",
       "      <td>2.2.1335</td>\n",
       "      <td>0</td>\n",
       "      <td>4.857981</td>\n",
       "      <td>16000000.0</td>\n",
       "      <td>500</td>\n",
       "      <td>0.0</td>\n",
       "      <td>0</td>\n",
       "      <td>2018</td>\n",
       "      <td>2</td>\n",
       "      <td>OTHER</td>\n",
       "    </tr>\n",
       "    <tr>\n",
       "      <th>4</th>\n",
       "      <td>817383</td>\n",
       "      <td>ART_AND_DESIGN</td>\n",
       "      <td>192</td>\n",
       "      <td>6.0M</td>\n",
       "      <td>10,000+</td>\n",
       "      <td>0</td>\n",
       "      <td>Everyone</td>\n",
       "      <td>April 25, 2018</td>\n",
       "      <td>1.5</td>\n",
       "      <td>10</td>\n",
       "      <td>7.584963</td>\n",
       "      <td>6000000.0</td>\n",
       "      <td>10000</td>\n",
       "      <td>0.0</td>\n",
       "      <td>0</td>\n",
       "      <td>2018</td>\n",
       "      <td>1</td>\n",
       "      <td>OTHER</td>\n",
       "    </tr>\n",
       "  </tbody>\n",
       "</table>\n",
       "</div>"
      ],
      "text/plain": [
       "   app_id        category  reviews  size     installs price suitable_for  \\\n",
       "0  144236           TOOLS   262076  1.2M  10,000,000+     0     Everyone   \n",
       "1  881323     PHOTOGRAPHY    12204  6.8M   1,000,000+     0     Everyone   \n",
       "2  765524           TOOLS      632  8.2M     500,000+     0     Everyone   \n",
       "3  390533        BUSINESS       29   16M         500+     0     Everyone   \n",
       "4  817383  ART_AND_DESIGN      192  6.0M      10,000+     0     Everyone   \n",
       "\n",
       "       last_update latest_ver  review_c  review_log    size_num  installs_num  \\\n",
       "0  January 4, 2018      1.0.2      1000   17.999626   1200000.0      10000000   \n",
       "1   March 14, 2017   1.5.2.21       100   13.575066   6800000.0       1000000   \n",
       "2     May 23, 2017        1.0        10    9.303781   8200000.0        500000   \n",
       "3     July 5, 2018   2.2.1335         0    4.857981  16000000.0           500   \n",
       "4   April 25, 2018        1.5        10    7.584963   6000000.0         10000   \n",
       "\n",
       "   price_num  price_b  last_update_year  latest_ver_h category_b  \n",
       "0        0.0        0              2018             1      TOOLS  \n",
       "1        0.0        0              2017             1      OTHER  \n",
       "2        0.0        0              2017             1      TOOLS  \n",
       "3        0.0        0              2018             2      OTHER  \n",
       "4        0.0        0              2018             1      OTHER  "
      ]
     },
     "execution_count": 64,
     "metadata": {},
     "output_type": "execute_result"
    }
   ],
   "source": [
    "test.head()"
   ]
  },
  {
   "cell_type": "code",
   "execution_count": 65,
   "id": "acd54f13",
   "metadata": {},
   "outputs": [
    {
     "name": "stdout",
     "output_type": "stream",
     "text": [
      "<class 'pandas.core.frame.DataFrame'>\n",
      "RangeIndex: 1018 entries, 0 to 1017\n",
      "Data columns (total 18 columns):\n",
      " #   Column            Non-Null Count  Dtype  \n",
      "---  ------            --------------  -----  \n",
      " 0   app_id            1018 non-null   int64  \n",
      " 1   category          1018 non-null   object \n",
      " 2   reviews           1018 non-null   int64  \n",
      " 3   size              1018 non-null   object \n",
      " 4   installs          1018 non-null   object \n",
      " 5   price             1018 non-null   object \n",
      " 6   suitable_for      1018 non-null   object \n",
      " 7   last_update       1018 non-null   object \n",
      " 8   latest_ver        1015 non-null   object \n",
      " 9   review_c          1018 non-null   int32  \n",
      " 10  review_log        1018 non-null   float64\n",
      " 11  size_num          1018 non-null   float64\n",
      " 12  installs_num      1018 non-null   int64  \n",
      " 13  price_num         1018 non-null   float64\n",
      " 14  price_b           1018 non-null   int64  \n",
      " 15  last_update_year  1018 non-null   int64  \n",
      " 16  latest_ver_h      1018 non-null   int64  \n",
      " 17  category_b        1018 non-null   object \n",
      "dtypes: float64(3), int32(1), int64(6), object(8)\n",
      "memory usage: 139.3+ KB\n"
     ]
    }
   ],
   "source": [
    "test.info()"
   ]
  },
  {
   "cell_type": "code",
   "execution_count": 66,
   "id": "25ceef95",
   "metadata": {},
   "outputs": [
    {
     "data": {
      "text/plain": [
       "app_id              0\n",
       "category            0\n",
       "reviews             0\n",
       "size                0\n",
       "installs            0\n",
       "price               0\n",
       "suitable_for        0\n",
       "last_update         0\n",
       "latest_ver          3\n",
       "review_c            0\n",
       "review_log          0\n",
       "size_num            0\n",
       "installs_num        0\n",
       "price_num           0\n",
       "price_b             0\n",
       "last_update_year    0\n",
       "latest_ver_h        0\n",
       "category_b          0\n",
       "dtype: int64"
      ]
     },
     "execution_count": 66,
     "metadata": {},
     "output_type": "execute_result"
    }
   ],
   "source": [
    "test.isna().sum()"
   ]
  },
  {
   "cell_type": "code",
   "execution_count": 67,
   "id": "25384751",
   "metadata": {},
   "outputs": [
    {
     "data": {
      "text/html": [
       "<div>\n",
       "<style scoped>\n",
       "    .dataframe tbody tr th:only-of-type {\n",
       "        vertical-align: middle;\n",
       "    }\n",
       "\n",
       "    .dataframe tbody tr th {\n",
       "        vertical-align: top;\n",
       "    }\n",
       "\n",
       "    .dataframe thead th {\n",
       "        text-align: right;\n",
       "    }\n",
       "</style>\n",
       "<table border=\"1\" class=\"dataframe\">\n",
       "  <thead>\n",
       "    <tr style=\"text-align: right;\">\n",
       "      <th></th>\n",
       "      <th>Variable</th>\n",
       "      <th>Median</th>\n",
       "      <th>Mean</th>\n",
       "      <th>Standard Deviation</th>\n",
       "      <th>Minimum</th>\n",
       "      <th>Maximum</th>\n",
       "      <th>Range</th>\n",
       "      <th>Kurtosis</th>\n",
       "      <th>Skewness</th>\n",
       "    </tr>\n",
       "  </thead>\n",
       "  <tbody>\n",
       "    <tr>\n",
       "      <th>0</th>\n",
       "      <td>app_id</td>\n",
       "      <td>5.179845e+05</td>\n",
       "      <td>5.130302e+05</td>\n",
       "      <td>2.835015e+05</td>\n",
       "      <td>0.0</td>\n",
       "      <td>9.992400e+05</td>\n",
       "      <td>9.992400e+05</td>\n",
       "      <td>-1.123167</td>\n",
       "      <td>-0.054842</td>\n",
       "    </tr>\n",
       "    <tr>\n",
       "      <th>1</th>\n",
       "      <td>reviews</td>\n",
       "      <td>4.255000e+02</td>\n",
       "      <td>1.569706e+05</td>\n",
       "      <td>1.149803e+06</td>\n",
       "      <td>1.0</td>\n",
       "      <td>2.313351e+07</td>\n",
       "      <td>2.313351e+07</td>\n",
       "      <td>225.321075</td>\n",
       "      <td>13.758707</td>\n",
       "    </tr>\n",
       "    <tr>\n",
       "      <th>2</th>\n",
       "      <td>review_log</td>\n",
       "      <td>8.732967e+00</td>\n",
       "      <td>9.311848e+00</td>\n",
       "      <td>5.437130e+00</td>\n",
       "      <td>0.0</td>\n",
       "      <td>2.446348e+01</td>\n",
       "      <td>2.446348e+01</td>\n",
       "      <td>-0.780414</td>\n",
       "      <td>0.332337</td>\n",
       "    </tr>\n",
       "    <tr>\n",
       "      <th>3</th>\n",
       "      <td>size_num</td>\n",
       "      <td>1.100000e+07</td>\n",
       "      <td>2.028944e+07</td>\n",
       "      <td>2.219822e+07</td>\n",
       "      <td>8500.0</td>\n",
       "      <td>1.000000e+08</td>\n",
       "      <td>9.999150e+07</td>\n",
       "      <td>2.293732</td>\n",
       "      <td>1.683145</td>\n",
       "    </tr>\n",
       "    <tr>\n",
       "      <th>4</th>\n",
       "      <td>installs_num</td>\n",
       "      <td>5.000000e+04</td>\n",
       "      <td>3.092815e+06</td>\n",
       "      <td>2.401573e+07</td>\n",
       "      <td>1.0</td>\n",
       "      <td>5.000000e+08</td>\n",
       "      <td>5.000000e+08</td>\n",
       "      <td>359.207743</td>\n",
       "      <td>17.941456</td>\n",
       "    </tr>\n",
       "    <tr>\n",
       "      <th>5</th>\n",
       "      <td>price_num</td>\n",
       "      <td>0.000000e+00</td>\n",
       "      <td>3.934381e-01</td>\n",
       "      <td>1.874973e+00</td>\n",
       "      <td>0.0</td>\n",
       "      <td>1.999000e+01</td>\n",
       "      <td>1.999000e+01</td>\n",
       "      <td>63.146443</td>\n",
       "      <td>7.300266</td>\n",
       "    </tr>\n",
       "    <tr>\n",
       "      <th>6</th>\n",
       "      <td>price_b</td>\n",
       "      <td>0.000000e+00</td>\n",
       "      <td>8.644401e-02</td>\n",
       "      <td>2.810186e-01</td>\n",
       "      <td>0.0</td>\n",
       "      <td>1.000000e+00</td>\n",
       "      <td>1.000000e+00</td>\n",
       "      <td>6.662805</td>\n",
       "      <td>2.943264</td>\n",
       "    </tr>\n",
       "    <tr>\n",
       "      <th>7</th>\n",
       "      <td>last_update_year</td>\n",
       "      <td>2.018000e+03</td>\n",
       "      <td>2.017374e+03</td>\n",
       "      <td>1.109171e+00</td>\n",
       "      <td>2011.0</td>\n",
       "      <td>2.018000e+03</td>\n",
       "      <td>7.000000e+00</td>\n",
       "      <td>6.426821</td>\n",
       "      <td>-2.339990</td>\n",
       "    </tr>\n",
       "    <tr>\n",
       "      <th>8</th>\n",
       "      <td>latest_ver_h</td>\n",
       "      <td>1.000000e+00</td>\n",
       "      <td>2.094303e+00</td>\n",
       "      <td>1.747563e+00</td>\n",
       "      <td>0.0</td>\n",
       "      <td>9.000000e+00</td>\n",
       "      <td>9.000000e+00</td>\n",
       "      <td>2.891347</td>\n",
       "      <td>1.783814</td>\n",
       "    </tr>\n",
       "  </tbody>\n",
       "</table>\n",
       "</div>"
      ],
      "text/plain": [
       "           Variable        Median          Mean  Standard Deviation  Minimum  \\\n",
       "0            app_id  5.179845e+05  5.130302e+05        2.835015e+05      0.0   \n",
       "1           reviews  4.255000e+02  1.569706e+05        1.149803e+06      1.0   \n",
       "2        review_log  8.732967e+00  9.311848e+00        5.437130e+00      0.0   \n",
       "3          size_num  1.100000e+07  2.028944e+07        2.219822e+07   8500.0   \n",
       "4      installs_num  5.000000e+04  3.092815e+06        2.401573e+07      1.0   \n",
       "5         price_num  0.000000e+00  3.934381e-01        1.874973e+00      0.0   \n",
       "6           price_b  0.000000e+00  8.644401e-02        2.810186e-01      0.0   \n",
       "7  last_update_year  2.018000e+03  2.017374e+03        1.109171e+00   2011.0   \n",
       "8      latest_ver_h  1.000000e+00  2.094303e+00        1.747563e+00      0.0   \n",
       "\n",
       "        Maximum         Range    Kurtosis   Skewness  \n",
       "0  9.992400e+05  9.992400e+05   -1.123167  -0.054842  \n",
       "1  2.313351e+07  2.313351e+07  225.321075  13.758707  \n",
       "2  2.446348e+01  2.446348e+01   -0.780414   0.332337  \n",
       "3  1.000000e+08  9.999150e+07    2.293732   1.683145  \n",
       "4  5.000000e+08  5.000000e+08  359.207743  17.941456  \n",
       "5  1.999000e+01  1.999000e+01   63.146443   7.300266  \n",
       "6  1.000000e+00  1.000000e+00    6.662805   2.943264  \n",
       "7  2.018000e+03  7.000000e+00    6.426821  -2.339990  \n",
       "8  9.000000e+00  9.000000e+00    2.891347   1.783814  "
      ]
     },
     "metadata": {},
     "output_type": "display_data"
    }
   ],
   "source": [
    "## check numerical variables again\n",
    "display(pd.DataFrame(num_descriptive(test, var_list_n)))"
   ]
  },
  {
   "cell_type": "code",
   "execution_count": 68,
   "id": "bc686693",
   "metadata": {},
   "outputs": [
    {
     "data": {
      "image/png": "[encoded data removed]",
      "text/plain": [
       "<Figure size 1080x1296 with 10 Axes>"
      ]
     },
     "metadata": {
      "needs_background": "light"
     },
     "output_type": "display_data"
    }
   ],
   "source": [
    "num_dist(train, var_list_n)"
   ]
  },
  {
   "cell_type": "code",
   "execution_count": 69,
   "id": "d4872ed1",
   "metadata": {},
   "outputs": [
    {
     "data": {
      "text/html": [
       "<div>\n",
       "<style scoped>\n",
       "    .dataframe tbody tr th:only-of-type {\n",
       "        vertical-align: middle;\n",
       "    }\n",
       "\n",
       "    .dataframe tbody tr th {\n",
       "        vertical-align: top;\n",
       "    }\n",
       "\n",
       "    .dataframe thead th {\n",
       "        text-align: right;\n",
       "    }\n",
       "</style>\n",
       "<table border=\"1\" class=\"dataframe\">\n",
       "  <thead>\n",
       "    <tr style=\"text-align: right;\">\n",
       "      <th></th>\n",
       "      <th>suitable_for</th>\n",
       "      <th>installs</th>\n",
       "      <th>last_update</th>\n",
       "      <th>latest_ver</th>\n",
       "      <th>size</th>\n",
       "      <th>category_b</th>\n",
       "      <th>category</th>\n",
       "      <th>price</th>\n",
       "    </tr>\n",
       "  </thead>\n",
       "  <tbody>\n",
       "    <tr>\n",
       "      <th>count</th>\n",
       "      <td>1018</td>\n",
       "      <td>1018</td>\n",
       "      <td>1018</td>\n",
       "      <td>1015</td>\n",
       "      <td>1018</td>\n",
       "      <td>1018</td>\n",
       "      <td>1018</td>\n",
       "      <td>1018</td>\n",
       "    </tr>\n",
       "    <tr>\n",
       "      <th>unique</th>\n",
       "      <td>5</td>\n",
       "      <td>18</td>\n",
       "      <td>464</td>\n",
       "      <td>555</td>\n",
       "      <td>209</td>\n",
       "      <td>8</td>\n",
       "      <td>33</td>\n",
       "      <td>19</td>\n",
       "    </tr>\n",
       "    <tr>\n",
       "      <th>top</th>\n",
       "      <td>Everyone</td>\n",
       "      <td>10,000+</td>\n",
       "      <td>August 3, 2018</td>\n",
       "      <td>1.0</td>\n",
       "      <td>11M</td>\n",
       "      <td>OTHER</td>\n",
       "      <td>FAMILY</td>\n",
       "      <td>0</td>\n",
       "    </tr>\n",
       "    <tr>\n",
       "      <th>freq</th>\n",
       "      <td>847</td>\n",
       "      <td>143</td>\n",
       "      <td>28</td>\n",
       "      <td>89</td>\n",
       "      <td>26</td>\n",
       "      <td>458</td>\n",
       "      <td>218</td>\n",
       "      <td>930</td>\n",
       "    </tr>\n",
       "  </tbody>\n",
       "</table>\n",
       "</div>"
      ],
      "text/plain": [
       "       suitable_for installs     last_update latest_ver  size category_b  \\\n",
       "count          1018     1018            1018       1015  1018       1018   \n",
       "unique            5       18             464        555   209          8   \n",
       "top        Everyone  10,000+  August 3, 2018        1.0   11M      OTHER   \n",
       "freq            847      143              28         89    26        458   \n",
       "\n",
       "       category price  \n",
       "count      1018  1018  \n",
       "unique       33    19  \n",
       "top      FAMILY     0  \n",
       "freq        218   930  "
      ]
     },
     "execution_count": 69,
     "metadata": {},
     "output_type": "execute_result"
    }
   ],
   "source": [
    "## check categorical variables again\n",
    "# var_list_c.remove('popularity')\n",
    "# var_list_c.remove('popularity_b')\n",
    "var_list_c = list(set(var_list_c) - set(['popularity', 'popularity_b']))\n",
    "test[var_list_c].describe()"
   ]
  },
  {
   "cell_type": "markdown",
   "id": "25f69269",
   "metadata": {},
   "source": [
    "## Modeling"
   ]
  },
  {
   "cell_type": "markdown",
   "id": "1ed9a778",
   "metadata": {},
   "source": [
    "###  encoding string variables"
   ]
  },
  {
   "cell_type": "code",
   "execution_count": 70,
   "id": "e352ce0f",
   "metadata": {},
   "outputs": [],
   "source": [
    "from sklearn.preprocessing import OneHotEncoder, LabelEncoder\n",
    "from sklearn.compose import make_column_transformer\n",
    "from sklearn.pipeline import make_pipeline"
   ]
  },
  {
   "cell_type": "code",
   "execution_count": 71,
   "id": "939b5022",
   "metadata": {},
   "outputs": [],
   "source": [
    "## seperate features(X) from target(y)\n",
    "# features_list = var_list_c + var_list_n\n",
    "features_list = list(train.drop(['popularity', 'popularity_b'], axis=1).columns)"
   ]
  },
  {
   "cell_type": "code",
   "execution_count": 72,
   "id": "640f54ad",
   "metadata": {},
   "outputs": [],
   "source": [
    "## remove useless feature \n",
    "features_list.remove('app_id')\n",
    "features_list.remove('category')\n",
    "features_list.remove('size')\n",
    "features_list.remove('last_update')\n",
    "features_list.remove('latest_ver')\n",
    "features_list.remove('installs')\n",
    "features_list.remove('price')"
   ]
  },
  {
   "cell_type": "code",
   "execution_count": 73,
   "id": "3f1288db",
   "metadata": {},
   "outputs": [
    {
     "data": {
      "text/plain": [
       "['reviews',\n",
       " 'suitable_for',\n",
       " 'review_c',\n",
       " 'review_log',\n",
       " 'size_num',\n",
       " 'installs_num',\n",
       " 'price_num',\n",
       " 'price_b',\n",
       " 'category_b',\n",
       " 'last_update_year',\n",
       " 'latest_ver_h']"
      ]
     },
     "execution_count": 73,
     "metadata": {},
     "output_type": "execute_result"
    }
   ],
   "source": [
    "features_list"
   ]
  },
  {
   "cell_type": "code",
   "execution_count": 74,
   "id": "881db6aa",
   "metadata": {},
   "outputs": [],
   "source": [
    "X = train[features_list]\n",
    "y = train['popularity_b']"
   ]
  },
  {
   "cell_type": "code",
   "execution_count": 75,
   "id": "951ecaa2",
   "metadata": {},
   "outputs": [
    {
     "name": "stdout",
     "output_type": "stream",
     "text": [
      "data dimensions (1975, 11)\n"
     ]
    }
   ],
   "source": [
    "print('data dimensions', X.shape)"
   ]
  },
  {
   "cell_type": "code",
   "execution_count": 76,
   "id": "ca8165e0",
   "metadata": {},
   "outputs": [
    {
     "data": {
      "text/plain": [
       "Index(['suitable_for', 'category_b'], dtype='object')"
      ]
     },
     "execution_count": 76,
     "metadata": {},
     "output_type": "execute_result"
    }
   ],
   "source": [
    "features_to_encode = X.select_dtypes(include = ['object', 'category']).columns\n",
    "features_to_encode"
   ]
  },
  {
   "cell_type": "code",
   "execution_count": 77,
   "id": "6c019c45",
   "metadata": {},
   "outputs": [
    {
     "data": {
      "text/html": [
       "<div>\n",
       "<style scoped>\n",
       "    .dataframe tbody tr th:only-of-type {\n",
       "        vertical-align: middle;\n",
       "    }\n",
       "\n",
       "    .dataframe tbody tr th {\n",
       "        vertical-align: top;\n",
       "    }\n",
       "\n",
       "    .dataframe thead th {\n",
       "        text-align: right;\n",
       "    }\n",
       "</style>\n",
       "<table border=\"1\" class=\"dataframe\">\n",
       "  <thead>\n",
       "    <tr style=\"text-align: right;\">\n",
       "      <th></th>\n",
       "      <th>suitable_for</th>\n",
       "      <th>category_b</th>\n",
       "    </tr>\n",
       "  </thead>\n",
       "  <tbody>\n",
       "    <tr>\n",
       "      <th>0</th>\n",
       "      <td>Everyone</td>\n",
       "      <td>OTHER</td>\n",
       "    </tr>\n",
       "    <tr>\n",
       "      <th>1</th>\n",
       "      <td>Teen</td>\n",
       "      <td>GAME</td>\n",
       "    </tr>\n",
       "    <tr>\n",
       "      <th>2</th>\n",
       "      <td>Teen</td>\n",
       "      <td>FAMILY</td>\n",
       "    </tr>\n",
       "    <tr>\n",
       "      <th>3</th>\n",
       "      <td>Teen</td>\n",
       "      <td>FAMILY</td>\n",
       "    </tr>\n",
       "    <tr>\n",
       "      <th>4</th>\n",
       "      <td>Mature 17+</td>\n",
       "      <td>OTHER</td>\n",
       "    </tr>\n",
       "  </tbody>\n",
       "</table>\n",
       "</div>"
      ],
      "text/plain": [
       "  suitable_for category_b\n",
       "0     Everyone      OTHER\n",
       "1         Teen       GAME\n",
       "2         Teen     FAMILY\n",
       "3         Teen     FAMILY\n",
       "4   Mature 17+      OTHER"
      ]
     },
     "execution_count": 77,
     "metadata": {},
     "output_type": "execute_result"
    }
   ],
   "source": [
    "# X.head()\n",
    "X[features_to_encode].head()"
   ]
  },
  {
   "cell_type": "code",
   "execution_count": 78,
   "id": "8e89ae98",
   "metadata": {},
   "outputs": [
    {
     "data": {
      "text/html": [
       "<div>\n",
       "<style scoped>\n",
       "    .dataframe tbody tr th:only-of-type {\n",
       "        vertical-align: middle;\n",
       "    }\n",
       "\n",
       "    .dataframe tbody tr th {\n",
       "        vertical-align: top;\n",
       "    }\n",
       "\n",
       "    .dataframe thead th {\n",
       "        text-align: right;\n",
       "    }\n",
       "</style>\n",
       "<table border=\"1\" class=\"dataframe\">\n",
       "  <thead>\n",
       "    <tr style=\"text-align: right;\">\n",
       "      <th></th>\n",
       "      <th>reviews</th>\n",
       "      <th>review_c</th>\n",
       "      <th>review_log</th>\n",
       "      <th>size_num</th>\n",
       "      <th>installs_num</th>\n",
       "      <th>price_num</th>\n",
       "      <th>price_b</th>\n",
       "      <th>last_update_year</th>\n",
       "      <th>latest_ver_h</th>\n",
       "    </tr>\n",
       "  </thead>\n",
       "  <tbody>\n",
       "    <tr>\n",
       "      <th>0</th>\n",
       "      <td>4</td>\n",
       "      <td>0</td>\n",
       "      <td>2.000000</td>\n",
       "      <td>511000.0</td>\n",
       "      <td>50</td>\n",
       "      <td>0.00</td>\n",
       "      <td>0</td>\n",
       "      <td>2016</td>\n",
       "      <td>1</td>\n",
       "    </tr>\n",
       "    <tr>\n",
       "      <th>1</th>\n",
       "      <td>568391</td>\n",
       "      <td>1000</td>\n",
       "      <td>19.116524</td>\n",
       "      <td>5200000.0</td>\n",
       "      <td>5000000</td>\n",
       "      <td>0.00</td>\n",
       "      <td>0</td>\n",
       "      <td>2014</td>\n",
       "      <td>4</td>\n",
       "    </tr>\n",
       "    <tr>\n",
       "      <th>2</th>\n",
       "      <td>144</td>\n",
       "      <td>10</td>\n",
       "      <td>7.169925</td>\n",
       "      <td>70000000.0</td>\n",
       "      <td>1000</td>\n",
       "      <td>2.99</td>\n",
       "      <td>1</td>\n",
       "      <td>2018</td>\n",
       "      <td>1</td>\n",
       "    </tr>\n",
       "    <tr>\n",
       "      <th>3</th>\n",
       "      <td>1499466</td>\n",
       "      <td>50000</td>\n",
       "      <td>20.516017</td>\n",
       "      <td>96000000.0</td>\n",
       "      <td>10000000</td>\n",
       "      <td>0.00</td>\n",
       "      <td>0</td>\n",
       "      <td>2018</td>\n",
       "      <td>1</td>\n",
       "    </tr>\n",
       "    <tr>\n",
       "      <th>4</th>\n",
       "      <td>84</td>\n",
       "      <td>0</td>\n",
       "      <td>6.392317</td>\n",
       "      <td>4500000.0</td>\n",
       "      <td>1000</td>\n",
       "      <td>0.00</td>\n",
       "      <td>0</td>\n",
       "      <td>2018</td>\n",
       "      <td>8</td>\n",
       "    </tr>\n",
       "    <tr>\n",
       "      <th>...</th>\n",
       "      <td>...</td>\n",
       "      <td>...</td>\n",
       "      <td>...</td>\n",
       "      <td>...</td>\n",
       "      <td>...</td>\n",
       "      <td>...</td>\n",
       "      <td>...</td>\n",
       "      <td>...</td>\n",
       "      <td>...</td>\n",
       "    </tr>\n",
       "    <tr>\n",
       "      <th>1970</th>\n",
       "      <td>3883589</td>\n",
       "      <td>50000</td>\n",
       "      <td>21.888959</td>\n",
       "      <td>57000000.0</td>\n",
       "      <td>100000000</td>\n",
       "      <td>0.00</td>\n",
       "      <td>0</td>\n",
       "      <td>2018</td>\n",
       "      <td>2</td>\n",
       "    </tr>\n",
       "    <tr>\n",
       "      <th>1971</th>\n",
       "      <td>5898</td>\n",
       "      <td>10</td>\n",
       "      <td>12.526010</td>\n",
       "      <td>50000000.0</td>\n",
       "      <td>100000</td>\n",
       "      <td>0.00</td>\n",
       "      <td>0</td>\n",
       "      <td>2017</td>\n",
       "      <td>3</td>\n",
       "    </tr>\n",
       "    <tr>\n",
       "      <th>1972</th>\n",
       "      <td>16</td>\n",
       "      <td>0</td>\n",
       "      <td>4.000000</td>\n",
       "      <td>8900000.0</td>\n",
       "      <td>500</td>\n",
       "      <td>1.99</td>\n",
       "      <td>1</td>\n",
       "      <td>2017</td>\n",
       "      <td>1</td>\n",
       "    </tr>\n",
       "    <tr>\n",
       "      <th>1973</th>\n",
       "      <td>9612</td>\n",
       "      <td>10</td>\n",
       "      <td>13.230621</td>\n",
       "      <td>3500000.0</td>\n",
       "      <td>100000</td>\n",
       "      <td>0.00</td>\n",
       "      <td>0</td>\n",
       "      <td>2018</td>\n",
       "      <td>1</td>\n",
       "    </tr>\n",
       "    <tr>\n",
       "      <th>1974</th>\n",
       "      <td>1211</td>\n",
       "      <td>10</td>\n",
       "      <td>10.241983</td>\n",
       "      <td>15000000.0</td>\n",
       "      <td>10000</td>\n",
       "      <td>0.00</td>\n",
       "      <td>0</td>\n",
       "      <td>2018</td>\n",
       "      <td>1</td>\n",
       "    </tr>\n",
       "  </tbody>\n",
       "</table>\n",
       "<p>1975 rows × 9 columns</p>\n",
       "</div>"
      ],
      "text/plain": [
       "      reviews  review_c  review_log    size_num  installs_num  price_num  \\\n",
       "0           4         0    2.000000    511000.0            50       0.00   \n",
       "1      568391      1000   19.116524   5200000.0       5000000       0.00   \n",
       "2         144        10    7.169925  70000000.0          1000       2.99   \n",
       "3     1499466     50000   20.516017  96000000.0      10000000       0.00   \n",
       "4          84         0    6.392317   4500000.0          1000       0.00   \n",
       "...       ...       ...         ...         ...           ...        ...   \n",
       "1970  3883589     50000   21.888959  57000000.0     100000000       0.00   \n",
       "1971     5898        10   12.526010  50000000.0        100000       0.00   \n",
       "1972       16         0    4.000000   8900000.0           500       1.99   \n",
       "1973     9612        10   13.230621   3500000.0        100000       0.00   \n",
       "1974     1211        10   10.241983  15000000.0         10000       0.00   \n",
       "\n",
       "      price_b  last_update_year  latest_ver_h  \n",
       "0           0              2016             1  \n",
       "1           0              2014             4  \n",
       "2           1              2018             1  \n",
       "3           0              2018             1  \n",
       "4           0              2018             8  \n",
       "...       ...               ...           ...  \n",
       "1970        0              2018             2  \n",
       "1971        0              2017             3  \n",
       "1972        1              2017             1  \n",
       "1973        0              2018             1  \n",
       "1974        0              2018             1  \n",
       "\n",
       "[1975 rows x 9 columns]"
      ]
     },
     "execution_count": 78,
     "metadata": {},
     "output_type": "execute_result"
    }
   ],
   "source": [
    "X_num = X.drop(columns = features_to_encode)\n",
    "X_num"
   ]
  },
  {
   "cell_type": "code",
   "execution_count": 79,
   "id": "d57004fe",
   "metadata": {},
   "outputs": [],
   "source": [
    "## encode labels with value between 0 and n_classes-1.\n",
    "le = LabelEncoder()"
   ]
  },
  {
   "cell_type": "code",
   "execution_count": 80,
   "id": "32509a68",
   "metadata": {},
   "outputs": [
    {
     "data": {
      "text/html": [
       "<div>\n",
       "<style scoped>\n",
       "    .dataframe tbody tr th:only-of-type {\n",
       "        vertical-align: middle;\n",
       "    }\n",
       "\n",
       "    .dataframe tbody tr th {\n",
       "        vertical-align: top;\n",
       "    }\n",
       "\n",
       "    .dataframe thead th {\n",
       "        text-align: right;\n",
       "    }\n",
       "</style>\n",
       "<table border=\"1\" class=\"dataframe\">\n",
       "  <thead>\n",
       "    <tr style=\"text-align: right;\">\n",
       "      <th></th>\n",
       "      <th>suitable_for</th>\n",
       "      <th>category_b</th>\n",
       "    </tr>\n",
       "  </thead>\n",
       "  <tbody>\n",
       "    <tr>\n",
       "      <th>0</th>\n",
       "      <td>0</td>\n",
       "      <td>6</td>\n",
       "    </tr>\n",
       "    <tr>\n",
       "      <th>1</th>\n",
       "      <td>3</td>\n",
       "      <td>2</td>\n",
       "    </tr>\n",
       "    <tr>\n",
       "      <th>2</th>\n",
       "      <td>3</td>\n",
       "      <td>0</td>\n",
       "    </tr>\n",
       "    <tr>\n",
       "      <th>3</th>\n",
       "      <td>3</td>\n",
       "      <td>0</td>\n",
       "    </tr>\n",
       "    <tr>\n",
       "      <th>4</th>\n",
       "      <td>2</td>\n",
       "      <td>6</td>\n",
       "    </tr>\n",
       "  </tbody>\n",
       "</table>\n",
       "</div>"
      ],
      "text/plain": [
       "   suitable_for  category_b\n",
       "0             0           6\n",
       "1             3           2\n",
       "2             3           0\n",
       "3             3           0\n",
       "4             2           6"
      ]
     },
     "execution_count": 80,
     "metadata": {},
     "output_type": "execute_result"
    }
   ],
   "source": [
    "X_trans = X[features_to_encode].apply(le.fit_transform)\n",
    "X_trans.head()"
   ]
  },
  {
   "cell_type": "code",
   "execution_count": 81,
   "id": "afa899b3",
   "metadata": {},
   "outputs": [
    {
     "data": {
      "text/html": [
       "<div>\n",
       "<style scoped>\n",
       "    .dataframe tbody tr th:only-of-type {\n",
       "        vertical-align: middle;\n",
       "    }\n",
       "\n",
       "    .dataframe tbody tr th {\n",
       "        vertical-align: top;\n",
       "    }\n",
       "\n",
       "    .dataframe thead th {\n",
       "        text-align: right;\n",
       "    }\n",
       "</style>\n",
       "<table border=\"1\" class=\"dataframe\">\n",
       "  <thead>\n",
       "    <tr style=\"text-align: right;\">\n",
       "      <th></th>\n",
       "      <th>reviews</th>\n",
       "      <th>review_c</th>\n",
       "      <th>review_log</th>\n",
       "      <th>size_num</th>\n",
       "      <th>installs_num</th>\n",
       "      <th>price_num</th>\n",
       "      <th>price_b</th>\n",
       "      <th>last_update_year</th>\n",
       "      <th>latest_ver_h</th>\n",
       "      <th>suitable_for</th>\n",
       "      <th>category_b</th>\n",
       "    </tr>\n",
       "  </thead>\n",
       "  <tbody>\n",
       "    <tr>\n",
       "      <th>0</th>\n",
       "      <td>4</td>\n",
       "      <td>0</td>\n",
       "      <td>2.000000</td>\n",
       "      <td>511000.0</td>\n",
       "      <td>50</td>\n",
       "      <td>0.00</td>\n",
       "      <td>0</td>\n",
       "      <td>2016</td>\n",
       "      <td>1</td>\n",
       "      <td>0</td>\n",
       "      <td>6</td>\n",
       "    </tr>\n",
       "    <tr>\n",
       "      <th>1</th>\n",
       "      <td>568391</td>\n",
       "      <td>1000</td>\n",
       "      <td>19.116524</td>\n",
       "      <td>5200000.0</td>\n",
       "      <td>5000000</td>\n",
       "      <td>0.00</td>\n",
       "      <td>0</td>\n",
       "      <td>2014</td>\n",
       "      <td>4</td>\n",
       "      <td>3</td>\n",
       "      <td>2</td>\n",
       "    </tr>\n",
       "    <tr>\n",
       "      <th>2</th>\n",
       "      <td>144</td>\n",
       "      <td>10</td>\n",
       "      <td>7.169925</td>\n",
       "      <td>70000000.0</td>\n",
       "      <td>1000</td>\n",
       "      <td>2.99</td>\n",
       "      <td>1</td>\n",
       "      <td>2018</td>\n",
       "      <td>1</td>\n",
       "      <td>3</td>\n",
       "      <td>0</td>\n",
       "    </tr>\n",
       "    <tr>\n",
       "      <th>3</th>\n",
       "      <td>1499466</td>\n",
       "      <td>50000</td>\n",
       "      <td>20.516017</td>\n",
       "      <td>96000000.0</td>\n",
       "      <td>10000000</td>\n",
       "      <td>0.00</td>\n",
       "      <td>0</td>\n",
       "      <td>2018</td>\n",
       "      <td>1</td>\n",
       "      <td>3</td>\n",
       "      <td>0</td>\n",
       "    </tr>\n",
       "    <tr>\n",
       "      <th>4</th>\n",
       "      <td>84</td>\n",
       "      <td>0</td>\n",
       "      <td>6.392317</td>\n",
       "      <td>4500000.0</td>\n",
       "      <td>1000</td>\n",
       "      <td>0.00</td>\n",
       "      <td>0</td>\n",
       "      <td>2018</td>\n",
       "      <td>8</td>\n",
       "      <td>2</td>\n",
       "      <td>6</td>\n",
       "    </tr>\n",
       "  </tbody>\n",
       "</table>\n",
       "</div>"
      ],
      "text/plain": [
       "   reviews  review_c  review_log    size_num  installs_num  price_num  \\\n",
       "0        4         0    2.000000    511000.0            50       0.00   \n",
       "1   568391      1000   19.116524   5200000.0       5000000       0.00   \n",
       "2      144        10    7.169925  70000000.0          1000       2.99   \n",
       "3  1499466     50000   20.516017  96000000.0      10000000       0.00   \n",
       "4       84         0    6.392317   4500000.0          1000       0.00   \n",
       "\n",
       "   price_b  last_update_year  latest_ver_h  suitable_for  category_b  \n",
       "0        0              2016             1             0           6  \n",
       "1        0              2014             4             3           2  \n",
       "2        1              2018             1             3           0  \n",
       "3        0              2018             1             3           0  \n",
       "4        0              2018             8             2           6  "
      ]
     },
     "execution_count": 81,
     "metadata": {},
     "output_type": "execute_result"
    }
   ],
   "source": [
    "X_num[features_to_encode] = X_trans\n",
    "X_num.head()\n",
    "# X[features_to_encode].head()"
   ]
  },
  {
   "cell_type": "markdown",
   "id": "b21753cf",
   "metadata": {},
   "source": [
    "### sklearn - RandomForestClassifier"
   ]
  },
  {
   "cell_type": "code",
   "execution_count": 82,
   "id": "6f7ef74e",
   "metadata": {},
   "outputs": [],
   "source": [
    "## load needed packages\n",
    "import sklearn\n",
    "from sklearn.ensemble import RandomForestClassifier\n",
    "from sklearn.pipeline import Pipeline\n",
    "from sklearn.compose import ColumnTransformer\n",
    "from sklearn.model_selection import train_test_split, cross_val_score, GridSearchCV, KFold, RandomizedSearchCV\n",
    "from sklearn.metrics import auc, accuracy_score, confusion_matrix, mean_squared_error"
   ]
  },
  {
   "cell_type": "code",
   "execution_count": 83,
   "id": "bfeff097",
   "metadata": {},
   "outputs": [
    {
     "name": "stdout",
     "output_type": "stream",
     "text": [
      "0.24.2\n"
     ]
    }
   ],
   "source": [
    "## display xgboost version\n",
    "print(sklearn.__version__)"
   ]
  },
  {
   "cell_type": "code",
   "execution_count": 84,
   "id": "82152c84",
   "metadata": {},
   "outputs": [],
   "source": [
    "## Create training and test splits\n",
    "X_train, X_test, y_train, y_test = train_test_split(X_num, y, test_size = 0.4, random_state = 101)"
   ]
  },
  {
   "cell_type": "code",
   "execution_count": 85,
   "id": "9aca38e9",
   "metadata": {},
   "outputs": [
    {
     "data": {
      "text/html": [
       "<div>\n",
       "<style scoped>\n",
       "    .dataframe tbody tr th:only-of-type {\n",
       "        vertical-align: middle;\n",
       "    }\n",
       "\n",
       "    .dataframe tbody tr th {\n",
       "        vertical-align: top;\n",
       "    }\n",
       "\n",
       "    .dataframe thead th {\n",
       "        text-align: right;\n",
       "    }\n",
       "</style>\n",
       "<table border=\"1\" class=\"dataframe\">\n",
       "  <thead>\n",
       "    <tr style=\"text-align: right;\">\n",
       "      <th></th>\n",
       "      <th>reviews</th>\n",
       "      <th>review_c</th>\n",
       "      <th>review_log</th>\n",
       "      <th>size_num</th>\n",
       "      <th>installs_num</th>\n",
       "      <th>price_num</th>\n",
       "      <th>price_b</th>\n",
       "      <th>last_update_year</th>\n",
       "      <th>latest_ver_h</th>\n",
       "      <th>suitable_for</th>\n",
       "      <th>category_b</th>\n",
       "    </tr>\n",
       "  </thead>\n",
       "  <tbody>\n",
       "    <tr>\n",
       "      <th>913</th>\n",
       "      <td>45</td>\n",
       "      <td>0</td>\n",
       "      <td>5.491853</td>\n",
       "      <td>21000000.0</td>\n",
       "      <td>5000</td>\n",
       "      <td>3.99</td>\n",
       "      <td>1</td>\n",
       "      <td>2017</td>\n",
       "      <td>2</td>\n",
       "      <td>0</td>\n",
       "      <td>5</td>\n",
       "    </tr>\n",
       "    <tr>\n",
       "      <th>37</th>\n",
       "      <td>1764</td>\n",
       "      <td>10</td>\n",
       "      <td>10.784635</td>\n",
       "      <td>8300000.0</td>\n",
       "      <td>10000</td>\n",
       "      <td>3.99</td>\n",
       "      <td>1</td>\n",
       "      <td>2016</td>\n",
       "      <td>1</td>\n",
       "      <td>1</td>\n",
       "      <td>0</td>\n",
       "    </tr>\n",
       "    <tr>\n",
       "      <th>1169</th>\n",
       "      <td>776730</td>\n",
       "      <td>1000</td>\n",
       "      <td>19.567054</td>\n",
       "      <td>49000000.0</td>\n",
       "      <td>10000000</td>\n",
       "      <td>0.00</td>\n",
       "      <td>0</td>\n",
       "      <td>2018</td>\n",
       "      <td>2</td>\n",
       "      <td>1</td>\n",
       "      <td>2</td>\n",
       "    </tr>\n",
       "    <tr>\n",
       "      <th>1348</th>\n",
       "      <td>556</td>\n",
       "      <td>10</td>\n",
       "      <td>9.118941</td>\n",
       "      <td>23000000.0</td>\n",
       "      <td>100000</td>\n",
       "      <td>0.00</td>\n",
       "      <td>0</td>\n",
       "      <td>2018</td>\n",
       "      <td>2</td>\n",
       "      <td>3</td>\n",
       "      <td>6</td>\n",
       "    </tr>\n",
       "    <tr>\n",
       "      <th>1951</th>\n",
       "      <td>18</td>\n",
       "      <td>0</td>\n",
       "      <td>4.169925</td>\n",
       "      <td>1300000.0</td>\n",
       "      <td>50</td>\n",
       "      <td>0.00</td>\n",
       "      <td>0</td>\n",
       "      <td>2018</td>\n",
       "      <td>1</td>\n",
       "      <td>0</td>\n",
       "      <td>0</td>\n",
       "    </tr>\n",
       "  </tbody>\n",
       "</table>\n",
       "</div>"
      ],
      "text/plain": [
       "      reviews  review_c  review_log    size_num  installs_num  price_num  \\\n",
       "913        45         0    5.491853  21000000.0          5000       3.99   \n",
       "37       1764        10   10.784635   8300000.0         10000       3.99   \n",
       "1169   776730      1000   19.567054  49000000.0      10000000       0.00   \n",
       "1348      556        10    9.118941  23000000.0        100000       0.00   \n",
       "1951       18         0    4.169925   1300000.0            50       0.00   \n",
       "\n",
       "      price_b  last_update_year  latest_ver_h  suitable_for  category_b  \n",
       "913         1              2017             2             0           5  \n",
       "37          1              2016             1             1           0  \n",
       "1169        0              2018             2             1           2  \n",
       "1348        0              2018             2             3           6  \n",
       "1951        0              2018             1             0           0  "
      ]
     },
     "execution_count": 85,
     "metadata": {},
     "output_type": "execute_result"
    }
   ],
   "source": [
    "X_train.head()"
   ]
  },
  {
   "cell_type": "code",
   "execution_count": 86,
   "id": "87525f8d",
   "metadata": {},
   "outputs": [
    {
     "data": {
      "text/html": [
       "<div>\n",
       "<style scoped>\n",
       "    .dataframe tbody tr th:only-of-type {\n",
       "        vertical-align: middle;\n",
       "    }\n",
       "\n",
       "    .dataframe tbody tr th {\n",
       "        vertical-align: top;\n",
       "    }\n",
       "\n",
       "    .dataframe thead th {\n",
       "        text-align: right;\n",
       "    }\n",
       "</style>\n",
       "<table border=\"1\" class=\"dataframe\">\n",
       "  <thead>\n",
       "    <tr style=\"text-align: right;\">\n",
       "      <th></th>\n",
       "      <th>reviews</th>\n",
       "      <th>review_c</th>\n",
       "      <th>review_log</th>\n",
       "      <th>size_num</th>\n",
       "      <th>installs_num</th>\n",
       "      <th>price_num</th>\n",
       "      <th>price_b</th>\n",
       "      <th>last_update_year</th>\n",
       "      <th>latest_ver_h</th>\n",
       "      <th>suitable_for</th>\n",
       "      <th>category_b</th>\n",
       "    </tr>\n",
       "  </thead>\n",
       "  <tbody>\n",
       "    <tr>\n",
       "      <th>183</th>\n",
       "      <td>227401</td>\n",
       "      <td>1000</td>\n",
       "      <td>17.794879</td>\n",
       "      <td>91000000.0</td>\n",
       "      <td>5000000</td>\n",
       "      <td>0.0</td>\n",
       "      <td>0</td>\n",
       "      <td>2018</td>\n",
       "      <td>1</td>\n",
       "      <td>0</td>\n",
       "      <td>0</td>\n",
       "    </tr>\n",
       "    <tr>\n",
       "      <th>1204</th>\n",
       "      <td>23</td>\n",
       "      <td>0</td>\n",
       "      <td>4.523562</td>\n",
       "      <td>17000000.0</td>\n",
       "      <td>10000</td>\n",
       "      <td>0.0</td>\n",
       "      <td>0</td>\n",
       "      <td>2016</td>\n",
       "      <td>1</td>\n",
       "      <td>0</td>\n",
       "      <td>0</td>\n",
       "    </tr>\n",
       "    <tr>\n",
       "      <th>877</th>\n",
       "      <td>70</td>\n",
       "      <td>0</td>\n",
       "      <td>6.129283</td>\n",
       "      <td>3200000.0</td>\n",
       "      <td>1000</td>\n",
       "      <td>0.0</td>\n",
       "      <td>0</td>\n",
       "      <td>2018</td>\n",
       "      <td>1</td>\n",
       "      <td>0</td>\n",
       "      <td>7</td>\n",
       "    </tr>\n",
       "    <tr>\n",
       "      <th>1948</th>\n",
       "      <td>304</td>\n",
       "      <td>10</td>\n",
       "      <td>8.247928</td>\n",
       "      <td>4700000.0</td>\n",
       "      <td>10000</td>\n",
       "      <td>0.0</td>\n",
       "      <td>0</td>\n",
       "      <td>2018</td>\n",
       "      <td>1</td>\n",
       "      <td>3</td>\n",
       "      <td>0</td>\n",
       "    </tr>\n",
       "    <tr>\n",
       "      <th>218</th>\n",
       "      <td>1312936</td>\n",
       "      <td>50000</td>\n",
       "      <td>20.324365</td>\n",
       "      <td>21000000.0</td>\n",
       "      <td>10000000</td>\n",
       "      <td>0.0</td>\n",
       "      <td>0</td>\n",
       "      <td>2018</td>\n",
       "      <td>3</td>\n",
       "      <td>0</td>\n",
       "      <td>6</td>\n",
       "    </tr>\n",
       "  </tbody>\n",
       "</table>\n",
       "</div>"
      ],
      "text/plain": [
       "      reviews  review_c  review_log    size_num  installs_num  price_num  \\\n",
       "183    227401      1000   17.794879  91000000.0       5000000        0.0   \n",
       "1204       23         0    4.523562  17000000.0         10000        0.0   \n",
       "877        70         0    6.129283   3200000.0          1000        0.0   \n",
       "1948      304        10    8.247928   4700000.0         10000        0.0   \n",
       "218   1312936     50000   20.324365  21000000.0      10000000        0.0   \n",
       "\n",
       "      price_b  last_update_year  latest_ver_h  suitable_for  category_b  \n",
       "183         0              2018             1             0           0  \n",
       "1204        0              2016             1             0           0  \n",
       "877         0              2018             1             0           7  \n",
       "1948        0              2018             1             3           0  \n",
       "218         0              2018             3             0           6  "
      ]
     },
     "execution_count": 86,
     "metadata": {},
     "output_type": "execute_result"
    }
   ],
   "source": [
    "X_test.head()"
   ]
  },
  {
   "cell_type": "markdown",
   "id": "38cea414",
   "metadata": {},
   "source": [
    "#### Tuning RandomForest Model with Grid Search"
   ]
  },
  {
   "cell_type": "code",
   "execution_count": 87,
   "id": "a10418ee",
   "metadata": {},
   "outputs": [],
   "source": [
    "rf = RandomForestClassifier()"
   ]
  },
  {
   "cell_type": "code",
   "execution_count": 88,
   "id": "1f5014b3",
   "metadata": {},
   "outputs": [],
   "source": [
    "param_grid = {\n",
    "    'n_estimators': [50, 75, 100, 125, 150, 175, 200],\n",
    "    'max_features': [4, 6, 8, 10],\n",
    "}"
   ]
  },
  {
   "cell_type": "code",
   "execution_count": 89,
   "id": "974bbe69",
   "metadata": {},
   "outputs": [],
   "source": [
    "gs1 = GridSearchCV(rf, param_grid, cv = 4)"
   ]
  },
  {
   "cell_type": "code",
   "execution_count": 90,
   "id": "f7bed68e",
   "metadata": {},
   "outputs": [
    {
     "name": "stdout",
     "output_type": "stream",
     "text": [
      "best params: {'max_features': 4, 'n_estimators': 200}\n"
     ]
    }
   ],
   "source": [
    "gs1.fit(X_train, y_train)\n",
    "print(\"best params:\", gs1.best_params_)"
   ]
  },
  {
   "cell_type": "code",
   "execution_count": 91,
   "id": "7b3dc9b6",
   "metadata": {},
   "outputs": [],
   "source": [
    "gs2 = GridSearchCV(rf, param_grid, cv = 5)"
   ]
  },
  {
   "cell_type": "code",
   "execution_count": 92,
   "id": "4c9bed82",
   "metadata": {},
   "outputs": [
    {
     "name": "stdout",
     "output_type": "stream",
     "text": [
      "best params: {'max_features': 4, 'n_estimators': 200}\n"
     ]
    }
   ],
   "source": [
    "gs2.fit(X_train, y_train)\n",
    "print(\"best params:\", gs2.best_params_)"
   ]
  },
  {
   "cell_type": "markdown",
   "id": "0a41519a",
   "metadata": {},
   "source": [
    "#### Tuning RandomForest with Encode(pipe)"
   ]
  },
  {
   "cell_type": "code",
   "execution_count": 93,
   "id": "ff6331d3",
   "metadata": {},
   "outputs": [],
   "source": [
    "# Problem: predict with pipeline\n",
    "## solution1: Do OneHotEncode outside the model\n",
    "## solution2: Search for predict with pipeline --> handle_unknown='ignore'"
   ]
  },
  {
   "cell_type": "code",
   "execution_count": 94,
   "id": "631bab43",
   "metadata": {},
   "outputs": [],
   "source": [
    "OneHotpipe = make_pipeline(OneHotEncoder(sparse = False, handle_unknown='ignore'))"
   ]
  },
  {
   "cell_type": "code",
   "execution_count": 95,
   "id": "2a60ca49",
   "metadata": {},
   "outputs": [],
   "source": [
    "transformer = ColumnTransformer(\n",
    "    transformers=[(\"oh_encode\", OneHotpipe, features_to_encode)])"
   ]
  },
  {
   "cell_type": "code",
   "execution_count": 96,
   "id": "7bc8df44",
   "metadata": {},
   "outputs": [],
   "source": [
    "rf_pipe = Pipeline(steps = [(\"prep\", transformer),\n",
    "                            (\"rf\", RandomForestClassifier())])"
   ]
  },
  {
   "cell_type": "code",
   "execution_count": 97,
   "id": "92a813b6",
   "metadata": {},
   "outputs": [],
   "source": [
    "_ = rf_pipe.fit(X_train, y_train)"
   ]
  },
  {
   "cell_type": "code",
   "execution_count": 98,
   "id": "fc71765c",
   "metadata": {},
   "outputs": [],
   "source": [
    "preds = rf_pipe.predict(X_test)"
   ]
  },
  {
   "cell_type": "code",
   "execution_count": 99,
   "id": "e13a46c5",
   "metadata": {},
   "outputs": [
    {
     "name": "stdout",
     "output_type": "stream",
     "text": [
      "The accuracy of the model is 71.89999999999999 %\n"
     ]
    }
   ],
   "source": [
    "print(f\"The accuracy of the model is {round(accuracy_score(y_test, preds),3)*100} %\")"
   ]
  },
  {
   "cell_type": "code",
   "execution_count": 100,
   "id": "217fd7fe",
   "metadata": {},
   "outputs": [
    {
     "data": {
      "text/plain": [
       "array([[568,   0],\n",
       "       [222,   0]], dtype=int64)"
      ]
     },
     "execution_count": 100,
     "metadata": {},
     "output_type": "execute_result"
    }
   ],
   "source": [
    "confusion_matrix(y_test, preds, labels=[\"1\", \"0\"])"
   ]
  },
  {
   "cell_type": "code",
   "execution_count": 101,
   "id": "b7a82a70",
   "metadata": {},
   "outputs": [
    {
     "data": {
      "text/plain": [
       "1    568\n",
       "0    222\n",
       "Name: popularity_b, dtype: int64"
      ]
     },
     "execution_count": 101,
     "metadata": {},
     "output_type": "execute_result"
    }
   ],
   "source": [
    "y_test.value_counts()"
   ]
  },
  {
   "cell_type": "code",
   "execution_count": 102,
   "id": "910cd7f1",
   "metadata": {},
   "outputs": [
    {
     "data": {
      "text/plain": [
       "1    790\n",
       "dtype: int64"
      ]
     },
     "execution_count": 102,
     "metadata": {},
     "output_type": "execute_result"
    }
   ],
   "source": [
    "pd.DataFrame(preds).value_counts()"
   ]
  },
  {
   "cell_type": "markdown",
   "id": "1401df86",
   "metadata": {},
   "source": [
    "#### Tuning RandomForest Model(Grid Search) with Encode(pipe)"
   ]
  },
  {
   "cell_type": "markdown",
   "id": "2d70553d",
   "metadata": {},
   "source": [
    "https://scikit-learn.org/stable/modules/compose.html"
   ]
  },
  {
   "cell_type": "code",
   "execution_count": 111,
   "id": "7698a665",
   "metadata": {},
   "outputs": [],
   "source": [
    "gs_pipe = Pipeline(steps = [(\"prep\", transformer),\n",
    "                            (\"model\", gs1)])"
   ]
  },
  {
   "cell_type": "code",
   "execution_count": 116,
   "id": "e6ddfe81",
   "metadata": {},
   "outputs": [
    {
     "data": {
      "text/plain": [
       "Pipeline(steps=[('prep',\n",
       "                 ColumnTransformer(transformers=[('oh_encode',\n",
       "                                                  Pipeline(steps=[('onehotencoder',\n",
       "                                                                   OneHotEncoder(handle_unknown='ignore',\n",
       "                                                                                 sparse=False))]),\n",
       "                                                  Index(['suitable_for', 'category_b'], dtype='object'))])),\n",
       "                ('model',\n",
       "                 GridSearchCV(cv=4, estimator=RandomForestClassifier(),\n",
       "                              param_grid={'max_features': [4, 6, 8, 10],\n",
       "                                          'n_estimators': [50, 75, 100, 125,\n",
       "                                                           150, 175, 200]}))])"
      ]
     },
     "execution_count": 116,
     "metadata": {},
     "output_type": "execute_result"
    }
   ],
   "source": [
    "gs_pipe.fit(X_train, y_train)"
   ]
  },
  {
   "cell_type": "code",
   "execution_count": 119,
   "id": "3ec2fe56",
   "metadata": {},
   "outputs": [
    {
     "data": {
      "text/plain": [
       "[('oh_encode',\n",
       "  Pipeline(steps=[('onehotencoder',\n",
       "                   OneHotEncoder(handle_unknown='ignore', sparse=False))]),\n",
       "  Index(['suitable_for', 'category_b'], dtype='object')),\n",
       " ('remainder', 'drop', [0, 1, 2, 3, 4, 5, 6, 7, 8])]"
      ]
     },
     "execution_count": 119,
     "metadata": {},
     "output_type": "execute_result"
    }
   ],
   "source": [
    "gs_pipe['prep'].transformers_"
   ]
  },
  {
   "cell_type": "code",
   "execution_count": 120,
   "id": "b9fea1b9",
   "metadata": {},
   "outputs": [
    {
     "ename": "AttributeError",
     "evalue": "'GridSearchCV' object has no attribute 'gs1_'",
     "output_type": "error",
     "traceback": [
      "\u001b[1;31m---------------------------------------------------------------------------\u001b[0m",
      "\u001b[1;31mAttributeError\u001b[0m                            Traceback (most recent call last)",
      "\u001b[1;32m~\\AppData\\Local\\Temp/ipykernel_27424/3017434379.py\u001b[0m in \u001b[0;36m<module>\u001b[1;34m\u001b[0m\n\u001b[1;32m----> 1\u001b[1;33m \u001b[0mgs_pipe\u001b[0m\u001b[1;33m[\u001b[0m\u001b[1;34m'model'\u001b[0m\u001b[1;33m]\u001b[0m\u001b[1;33m.\u001b[0m\u001b[0mgs1_\u001b[0m\u001b[1;33m\u001b[0m\u001b[1;33m\u001b[0m\u001b[0m\n\u001b[0m",
      "\u001b[1;31mAttributeError\u001b[0m: 'GridSearchCV' object has no attribute 'gs1_'"
     ]
    }
   ],
   "source": [
    "gs_pipe['model'].gs1_"
   ]
  },
  {
   "cell_type": "code",
   "execution_count": 118,
   "id": "622e61a1",
   "metadata": {},
   "outputs": [
    {
     "data": {
      "text/plain": [
       "'drop'"
      ]
     },
     "execution_count": 118,
     "metadata": {},
     "output_type": "execute_result"
    }
   ],
   "source": [
    "gs_pipe['prep'].transformers_[1][1]\\\n",
    "#     ['model'].get_feature_names(categorical_features)"
   ]
  },
  {
   "cell_type": "code",
   "execution_count": 113,
   "id": "2be99529",
   "metadata": {},
   "outputs": [
    {
     "ename": "AttributeError",
     "evalue": "'Pipeline' object has no attribute 'best_params_'",
     "output_type": "error",
     "traceback": [
      "\u001b[1;31m---------------------------------------------------------------------------\u001b[0m",
      "\u001b[1;31mAttributeError\u001b[0m                            Traceback (most recent call last)",
      "\u001b[1;32m~\\AppData\\Local\\Temp/ipykernel_27424/3513598311.py\u001b[0m in \u001b[0;36m<module>\u001b[1;34m\u001b[0m\n\u001b[1;32m----> 1\u001b[1;33m \u001b[0mprint\u001b[0m\u001b[1;33m(\u001b[0m\u001b[1;34m\"best params:\"\u001b[0m\u001b[1;33m,\u001b[0m \u001b[0mgs_pipe\u001b[0m\u001b[1;33m.\u001b[0m\u001b[0mbest_params_\u001b[0m\u001b[1;33m)\u001b[0m\u001b[1;33m\u001b[0m\u001b[1;33m\u001b[0m\u001b[0m\n\u001b[0m",
      "\u001b[1;31mAttributeError\u001b[0m: 'Pipeline' object has no attribute 'best_params_'"
     ]
    }
   ],
   "source": [
    "print(\"best params:\", gs_pipe.best_params_)"
   ]
  },
  {
   "cell_type": "markdown",
   "id": "25e13346",
   "metadata": {},
   "source": [
    "#### Basic RandomForest Model"
   ]
  },
  {
   "cell_type": "code",
   "execution_count": 103,
   "id": "a1877ae9",
   "metadata": {},
   "outputs": [],
   "source": [
    "rf = RandomForestClassifier(n_estimators = 75,\n",
    "                            max_features = 6, \n",
    "                            random_state = 101,\n",
    "                            bootstrap = True)"
   ]
  },
  {
   "cell_type": "code",
   "execution_count": 104,
   "id": "9c056533",
   "metadata": {},
   "outputs": [],
   "source": [
    "col_trans = make_column_transformer(\n",
    "                        (OneHotEncoder(handle_unknown='ignore'), features_to_encode),\n",
    "                        remainder = \"passthrough\")\n",
    "# col_trans "
   ]
  },
  {
   "cell_type": "code",
   "execution_count": 105,
   "id": "b001fa85",
   "metadata": {
    "scrolled": true
   },
   "outputs": [
    {
     "data": {
      "text/plain": [
       "Pipeline(steps=[('columntransformer',\n",
       "                 ColumnTransformer(remainder='passthrough',\n",
       "                                   transformers=[('onehotencoder',\n",
       "                                                  OneHotEncoder(handle_unknown='ignore'),\n",
       "                                                  Index(['suitable_for', 'category_b'], dtype='object'))])),\n",
       "                ('randomforestclassifier',\n",
       "                 RandomForestClassifier(max_features=6, n_estimators=75,\n",
       "                                        random_state=101))])"
      ]
     },
     "execution_count": 105,
     "metadata": {},
     "output_type": "execute_result"
    }
   ],
   "source": [
    "pipe = make_pipeline(col_trans, rf)\n",
    "pipe.fit(X_train, y_train)"
   ]
  },
  {
   "cell_type": "code",
   "execution_count": 106,
   "id": "f77f1ce6",
   "metadata": {},
   "outputs": [],
   "source": [
    "y_pred = pipe.predict(X_test)"
   ]
  },
  {
   "cell_type": "code",
   "execution_count": 107,
   "id": "dcd034bc",
   "metadata": {},
   "outputs": [
    {
     "name": "stdout",
     "output_type": "stream",
     "text": [
      "The accuracy of the model is 75.4 %\n"
     ]
    }
   ],
   "source": [
    "print(f\"The accuracy of the model is {round(accuracy_score(y_test,y_pred),3)*100} %\")"
   ]
  },
  {
   "cell_type": "code",
   "execution_count": 108,
   "id": "34498b1a",
   "metadata": {},
   "outputs": [
    {
     "data": {
      "text/plain": [
       "array([[514,  54],\n",
       "       [140,  82]], dtype=int64)"
      ]
     },
     "execution_count": 108,
     "metadata": {},
     "output_type": "execute_result"
    }
   ],
   "source": [
    "confusion_matrix(y_test, y_pred, labels=[\"1\", \"0\"])"
   ]
  },
  {
   "cell_type": "code",
   "execution_count": 109,
   "id": "a6314cbc",
   "metadata": {},
   "outputs": [
    {
     "data": {
      "text/plain": [
       "1    568\n",
       "0    222\n",
       "Name: popularity_b, dtype: int64"
      ]
     },
     "execution_count": 109,
     "metadata": {},
     "output_type": "execute_result"
    }
   ],
   "source": [
    "y_test.value_counts()"
   ]
  },
  {
   "cell_type": "code",
   "execution_count": 110,
   "id": "9059abc1",
   "metadata": {},
   "outputs": [
    {
     "data": {
      "text/plain": [
       "1    654\n",
       "0    136\n",
       "dtype: int64"
      ]
     },
     "execution_count": 110,
     "metadata": {},
     "output_type": "execute_result"
    }
   ],
   "source": [
    "y_pred = pd.DataFrame(y_pred)\n",
    "y_pred.value_counts()"
   ]
  },
  {
   "cell_type": "markdown",
   "id": "91be10ce",
   "metadata": {},
   "source": [
    "###### Check variable importance"
   ]
  },
  {
   "cell_type": "markdown",
   "id": "82622a01",
   "metadata": {},
   "source": [
    "###  Onehotencoding string variables"
   ]
  },
  {
   "cell_type": "code",
   "execution_count": 130,
   "id": "8f9428c0",
   "metadata": {},
   "outputs": [],
   "source": [
    "## creating instance of one-hot-encoder\n",
    "encoder = OneHotEncoder(handle_unknown='ignore')"
   ]
  },
  {
   "cell_type": "code",
   "execution_count": 131,
   "id": "d434d21e",
   "metadata": {
    "scrolled": true
   },
   "outputs": [],
   "source": [
    "#perform one-hot encoding on 'team' column \n",
    "encoder_df = pd.DataFrame(encoder.fit_transform(X[features_to_encode]).toarray())\n",
    "# encoder_df = pd.DataFrame(encoder.fit_transform(train['category']).toarray())"
   ]
  },
  {
   "cell_type": "code",
   "execution_count": 132,
   "id": "5b3cc4ca",
   "metadata": {},
   "outputs": [],
   "source": [
    "encoder.get_feature_names()\n",
    "encoder_df.columns = encoder.get_feature_names()"
   ]
  },
  {
   "cell_type": "code",
   "execution_count": 134,
   "id": "11bd8f21",
   "metadata": {},
   "outputs": [
    {
     "data": {
      "text/html": [
       "<div>\n",
       "<style scoped>\n",
       "    .dataframe tbody tr th:only-of-type {\n",
       "        vertical-align: middle;\n",
       "    }\n",
       "\n",
       "    .dataframe tbody tr th {\n",
       "        vertical-align: top;\n",
       "    }\n",
       "\n",
       "    .dataframe thead th {\n",
       "        text-align: right;\n",
       "    }\n",
       "</style>\n",
       "<table border=\"1\" class=\"dataframe\">\n",
       "  <thead>\n",
       "    <tr style=\"text-align: right;\">\n",
       "      <th></th>\n",
       "      <th>x0_1+</th>\n",
       "      <th>x0_1,000+</th>\n",
       "      <th>x0_1,000,000+</th>\n",
       "      <th>x0_1,000,000,000+</th>\n",
       "      <th>x0_10+</th>\n",
       "      <th>x0_10,000+</th>\n",
       "      <th>x0_10,000,000+</th>\n",
       "      <th>x0_100+</th>\n",
       "      <th>x0_100,000+</th>\n",
       "      <th>x0_100,000,000+</th>\n",
       "      <th>...</th>\n",
       "      <th>x3_1000.0</th>\n",
       "      <th>x3_50000.0</th>\n",
       "      <th>x4_0</th>\n",
       "      <th>x4_1</th>\n",
       "      <th>x4_2</th>\n",
       "      <th>x4_3</th>\n",
       "      <th>x4_4</th>\n",
       "      <th>x4_5</th>\n",
       "      <th>x4_6</th>\n",
       "      <th>x4_7</th>\n",
       "    </tr>\n",
       "  </thead>\n",
       "  <tbody>\n",
       "    <tr>\n",
       "      <th>0</th>\n",
       "      <td>0.0</td>\n",
       "      <td>0.0</td>\n",
       "      <td>0.0</td>\n",
       "      <td>0.0</td>\n",
       "      <td>0.0</td>\n",
       "      <td>0.0</td>\n",
       "      <td>0.0</td>\n",
       "      <td>0.0</td>\n",
       "      <td>0.0</td>\n",
       "      <td>0.0</td>\n",
       "      <td>...</td>\n",
       "      <td>0.0</td>\n",
       "      <td>0.0</td>\n",
       "      <td>1.0</td>\n",
       "      <td>0.0</td>\n",
       "      <td>0.0</td>\n",
       "      <td>0.0</td>\n",
       "      <td>0.0</td>\n",
       "      <td>0.0</td>\n",
       "      <td>0.0</td>\n",
       "      <td>0.0</td>\n",
       "    </tr>\n",
       "    <tr>\n",
       "      <th>1</th>\n",
       "      <td>0.0</td>\n",
       "      <td>0.0</td>\n",
       "      <td>0.0</td>\n",
       "      <td>0.0</td>\n",
       "      <td>0.0</td>\n",
       "      <td>0.0</td>\n",
       "      <td>0.0</td>\n",
       "      <td>0.0</td>\n",
       "      <td>0.0</td>\n",
       "      <td>0.0</td>\n",
       "      <td>...</td>\n",
       "      <td>1.0</td>\n",
       "      <td>0.0</td>\n",
       "      <td>0.0</td>\n",
       "      <td>0.0</td>\n",
       "      <td>1.0</td>\n",
       "      <td>0.0</td>\n",
       "      <td>0.0</td>\n",
       "      <td>0.0</td>\n",
       "      <td>0.0</td>\n",
       "      <td>0.0</td>\n",
       "    </tr>\n",
       "    <tr>\n",
       "      <th>2</th>\n",
       "      <td>0.0</td>\n",
       "      <td>1.0</td>\n",
       "      <td>0.0</td>\n",
       "      <td>0.0</td>\n",
       "      <td>0.0</td>\n",
       "      <td>0.0</td>\n",
       "      <td>0.0</td>\n",
       "      <td>0.0</td>\n",
       "      <td>0.0</td>\n",
       "      <td>0.0</td>\n",
       "      <td>...</td>\n",
       "      <td>0.0</td>\n",
       "      <td>0.0</td>\n",
       "      <td>0.0</td>\n",
       "      <td>1.0</td>\n",
       "      <td>0.0</td>\n",
       "      <td>0.0</td>\n",
       "      <td>0.0</td>\n",
       "      <td>0.0</td>\n",
       "      <td>0.0</td>\n",
       "      <td>0.0</td>\n",
       "    </tr>\n",
       "    <tr>\n",
       "      <th>3</th>\n",
       "      <td>0.0</td>\n",
       "      <td>0.0</td>\n",
       "      <td>0.0</td>\n",
       "      <td>0.0</td>\n",
       "      <td>0.0</td>\n",
       "      <td>0.0</td>\n",
       "      <td>1.0</td>\n",
       "      <td>0.0</td>\n",
       "      <td>0.0</td>\n",
       "      <td>0.0</td>\n",
       "      <td>...</td>\n",
       "      <td>0.0</td>\n",
       "      <td>1.0</td>\n",
       "      <td>0.0</td>\n",
       "      <td>1.0</td>\n",
       "      <td>0.0</td>\n",
       "      <td>0.0</td>\n",
       "      <td>0.0</td>\n",
       "      <td>0.0</td>\n",
       "      <td>0.0</td>\n",
       "      <td>0.0</td>\n",
       "    </tr>\n",
       "    <tr>\n",
       "      <th>4</th>\n",
       "      <td>0.0</td>\n",
       "      <td>1.0</td>\n",
       "      <td>0.0</td>\n",
       "      <td>0.0</td>\n",
       "      <td>0.0</td>\n",
       "      <td>0.0</td>\n",
       "      <td>0.0</td>\n",
       "      <td>0.0</td>\n",
       "      <td>0.0</td>\n",
       "      <td>0.0</td>\n",
       "      <td>...</td>\n",
       "      <td>0.0</td>\n",
       "      <td>0.0</td>\n",
       "      <td>1.0</td>\n",
       "      <td>0.0</td>\n",
       "      <td>0.0</td>\n",
       "      <td>0.0</td>\n",
       "      <td>0.0</td>\n",
       "      <td>0.0</td>\n",
       "      <td>0.0</td>\n",
       "      <td>0.0</td>\n",
       "    </tr>\n",
       "  </tbody>\n",
       "</table>\n",
       "<p>5 rows × 76 columns</p>\n",
       "</div>"
      ],
      "text/plain": [
       "   x0_1+  x0_1,000+  x0_1,000,000+  x0_1,000,000,000+  x0_10+  x0_10,000+  \\\n",
       "0    0.0        0.0            0.0                0.0     0.0         0.0   \n",
       "1    0.0        0.0            0.0                0.0     0.0         0.0   \n",
       "2    0.0        1.0            0.0                0.0     0.0         0.0   \n",
       "3    0.0        0.0            0.0                0.0     0.0         0.0   \n",
       "4    0.0        1.0            0.0                0.0     0.0         0.0   \n",
       "\n",
       "   x0_10,000,000+  x0_100+  x0_100,000+  x0_100,000,000+  ...  x3_1000.0  \\\n",
       "0             0.0      0.0          0.0              0.0  ...        0.0   \n",
       "1             0.0      0.0          0.0              0.0  ...        1.0   \n",
       "2             0.0      0.0          0.0              0.0  ...        0.0   \n",
       "3             1.0      0.0          0.0              0.0  ...        0.0   \n",
       "4             0.0      0.0          0.0              0.0  ...        0.0   \n",
       "\n",
       "   x3_50000.0  x4_0  x4_1  x4_2  x4_3  x4_4  x4_5  x4_6  x4_7  \n",
       "0         0.0   1.0   0.0   0.0   0.0   0.0   0.0   0.0   0.0  \n",
       "1         0.0   0.0   0.0   1.0   0.0   0.0   0.0   0.0   0.0  \n",
       "2         0.0   0.0   1.0   0.0   0.0   0.0   0.0   0.0   0.0  \n",
       "3         1.0   0.0   1.0   0.0   0.0   0.0   0.0   0.0   0.0  \n",
       "4         0.0   1.0   0.0   0.0   0.0   0.0   0.0   0.0   0.0  \n",
       "\n",
       "[5 rows x 76 columns]"
      ]
     },
     "execution_count": 134,
     "metadata": {},
     "output_type": "execute_result"
    }
   ],
   "source": [
    "encoder_df.head()"
   ]
  },
  {
   "cell_type": "code",
   "execution_count": 136,
   "id": "121131e2",
   "metadata": {},
   "outputs": [
    {
     "data": {
      "text/plain": [
       "Index(['x0_1+', 'x0_1,000+', 'x0_1,000,000+', 'x0_1,000,000,000+', 'x0_10+',\n",
       "       'x0_10,000+', 'x0_10,000,000+', 'x0_100+', 'x0_100,000+',\n",
       "       'x0_100,000,000+', 'x0_5+', 'x0_5,000+', 'x0_5,000,000+', 'x0_50+',\n",
       "       'x0_50,000+', 'x0_50,000,000+', 'x0_500+', 'x0_500,000+', 'x1_$0.99',\n",
       "       'x1_$1.49', 'x1_$1.59', 'x1_$1.75', 'x1_$1.76', 'x1_$1.97', 'x1_$1.99',\n",
       "       'x1_$10.00', 'x1_$11.99', 'x1_$12.99', 'x1_$14.00', 'x1_$14.99',\n",
       "       'x1_$15.46', 'x1_$15.99', 'x1_$17.99', 'x1_$19.40', 'x1_$2.49',\n",
       "       'x1_$2.56', 'x1_$2.59', 'x1_$2.99', 'x1_$24.99', 'x1_$29.99',\n",
       "       'x1_$3.04', 'x1_$3.49', 'x1_$3.99', 'x1_$33.99', 'x1_$379.99',\n",
       "       'x1_$399.99', 'x1_$4.29', 'x1_$4.49', 'x1_$4.60', 'x1_$4.99',\n",
       "       'x1_$5.49', 'x1_$5.99', 'x1_$6.49', 'x1_$6.99', 'x1_$7.99', 'x1_$79.99',\n",
       "       'x1_$8.99', 'x1_$9.99', 'x1_0', 'x2_Everyone', 'x2_Everyone 10+',\n",
       "       'x2_Mature 17+', 'x2_Teen', 'x3_0.1', 'x3_10.0', 'x3_100.0',\n",
       "       'x3_1000.0', 'x3_50000.0', 'x4_0', 'x4_1', 'x4_2', 'x4_3', 'x4_4',\n",
       "       'x4_5', 'x4_6', 'x4_7'],\n",
       "      dtype='object')"
      ]
     },
     "execution_count": 136,
     "metadata": {},
     "output_type": "execute_result"
    }
   ],
   "source": [
    "encoder_df.columns"
   ]
  },
  {
   "cell_type": "code",
   "execution_count": null,
   "id": "3578d836",
   "metadata": {},
   "outputs": [],
   "source": [
    "\n",
    "#merge one-hot encoded columns back with original DataFrame\n",
    "train_encode = train.join(encoder_df)\n",
    "\n",
    "#view final df\n",
    "print(train_encode)"
   ]
  },
  {
   "cell_type": "code",
   "execution_count": null,
   "id": "44941c64",
   "metadata": {},
   "outputs": [],
   "source": []
  },
  {
   "cell_type": "code",
   "execution_count": null,
   "id": "b96cb95a",
   "metadata": {},
   "outputs": [],
   "source": []
  },
  {
   "cell_type": "code",
   "execution_count": null,
   "id": "b2ae4755",
   "metadata": {},
   "outputs": [],
   "source": []
  },
  {
   "cell_type": "code",
   "execution_count": null,
   "id": "dc13abbd",
   "metadata": {},
   "outputs": [],
   "source": []
  },
  {
   "cell_type": "code",
   "execution_count": null,
   "id": "4c77c64d",
   "metadata": {},
   "outputs": [],
   "source": [
    "# ! pip install xgboost"
   ]
  },
  {
   "cell_type": "code",
   "execution_count": null,
   "id": "f8f7f88b",
   "metadata": {},
   "outputs": [],
   "source": []
  },
  {
   "cell_type": "code",
   "execution_count": null,
   "id": "6ad75191",
   "metadata": {},
   "outputs": [],
   "source": []
  },
  {
   "cell_type": "code",
   "execution_count": null,
   "id": "5fe44b47",
   "metadata": {},
   "outputs": [],
   "source": []
  },
  {
   "cell_type": "code",
   "execution_count": null,
   "id": "ae4baa84",
   "metadata": {},
   "outputs": [],
   "source": []
  },
  {
   "cell_type": "code",
   "execution_count": null,
   "id": "48fd3989",
   "metadata": {},
   "outputs": [],
   "source": []
  },
  {
   "cell_type": "code",
   "execution_count": null,
   "id": "8df37f1a",
   "metadata": {},
   "outputs": [],
   "source": [
    "## load needed packages\n",
    "import xgboost as xgb"
   ]
  },
  {
   "cell_type": "code",
   "execution_count": null,
   "id": "9fa9afc4",
   "metadata": {},
   "outputs": [],
   "source": [
    "## display xgboost version\n",
    "print(xgb.__version__)"
   ]
  },
  {
   "cell_type": "code",
   "execution_count": null,
   "id": "774b8cfe",
   "metadata": {},
   "outputs": [],
   "source": []
  }
 ],
 "metadata": {
  "kernelspec": {
   "display_name": "Python 3 (ipykernel)",
   "language": "python",
   "name": "python3"
  },
  "language_info": {
   "codemirror_mode": {
    "name": "ipython",
    "version": 3
   },
   "file_extension": ".py",
   "mimetype": "text/x-python",
   "name": "python",
   "nbconvert_exporter": "python",
   "pygments_lexer": "ipython3",
   "version": "3.9.7"
  }
 },
 "nbformat": 4,
 "nbformat_minor": 5
}
